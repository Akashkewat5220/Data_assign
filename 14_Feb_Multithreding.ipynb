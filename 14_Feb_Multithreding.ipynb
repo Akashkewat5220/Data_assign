{
 "cells": [
  {
   "cell_type": "markdown",
   "id": "fd00abf2-6504-411c-a68b-31db5327c596",
   "metadata": {},
   "source": [
    "Q1. What is multithreading in Python?"
   ]
  },
  {
   "cell_type": "markdown",
   "id": "2bc9e46b-7ed5-45c5-9093-918072c89ce0",
   "metadata": {},
   "source": [
    "Multithreading in Python is the ability to execute multiple threads (smaller units of a program) simultaneously within a single program.\n",
    "It helps achieve parallelism by allowing tasks to run concurrently, maximizing CPU utilization."
   ]
  },
  {
   "cell_type": "code",
   "execution_count": null,
   "id": "19dad3e0-95ef-42eb-9bb8-80c2bce7c27a",
   "metadata": {},
   "outputs": [],
   "source": []
  },
  {
   "cell_type": "markdown",
   "id": "45c1d3dc-ad45-4f50-9ee7-59c9819a560c",
   "metadata": {},
   "source": [
    "Q2. Why is the threading module used? Explain the following functions:"
   ]
  },
  {
   "cell_type": "markdown",
   "id": "abd2bdd8-81d8-4bc1-bc76-6347decbf321",
   "metadata": {},
   "source": [
    "1. activeCount(): This function tells you the number of threads currently running.\n",
    "2. currentThread(): It gives you information about the thread that is currently executing.\n",
    "3. enumerate(): It returns a list of all the threads currently running."
   ]
  },
  {
   "cell_type": "code",
   "execution_count": null,
   "id": "dff60eb1-4f8a-49a3-aac7-6b073b62d6c2",
   "metadata": {},
   "outputs": [],
   "source": []
  },
  {
   "cell_type": "markdown",
   "id": "7d853b8e-522a-42b7-bf73-0f7cad5b125d",
   "metadata": {},
   "source": [
    "Q3. Explanation of the following functions:"
   ]
  },
  {
   "cell_type": "markdown",
   "id": "486f2ed4-c639-418f-8bdf-3dff1281a024",
   "metadata": {},
   "source": [
    "1. run(): This function defines the operations that will be performed when a thread is started. You need to override it in your thread subclass.\n",
    "2. start(): It starts the execution of a thread by calling its run() method. It creates a new system-level thread.\n",
    "3. join(): It blocks the calling thread until the thread on which it's called terminates.\n",
    "4. isAlive(): This function checks if a thread is currently running or active."
   ]
  },
  {
   "cell_type": "code",
   "execution_count": null,
   "id": "6702e730-b5f6-4096-befe-53379c74f93a",
   "metadata": {},
   "outputs": [],
   "source": []
  },
  {
   "cell_type": "markdown",
   "id": "d319e3dd-4a40-4985-b0e9-dbeac20730a8",
   "metadata": {},
   "source": [
    "Q4. Here's a simple Python program to create two threads. One thread prints the list of squares, and the other thread prints the list of cubes.\n"
   ]
  },
  {
   "cell_type": "code",
   "execution_count": 1,
   "id": "1da526e1-87b1-48e1-ac22-3532354458fc",
   "metadata": {},
   "outputs": [
    {
     "name": "stdout",
     "output_type": "stream",
     "text": [
      "1\n",
      "4\n",
      "9\n",
      "16\n",
      "25\n",
      "36\n",
      "49\n",
      "64\n",
      "81\n",
      "100\n",
      "1\n",
      "8\n",
      "27\n",
      "64\n",
      "125\n",
      "216\n",
      "343\n",
      "512\n",
      "729\n",
      "1000\n"
     ]
    }
   ],
   "source": [
    "import threading\n",
    "\n",
    "def print_squares():\n",
    "    for i in range(1, 11):\n",
    "        print(i**2)\n",
    "\n",
    "def print_cubes():\n",
    "    for i in range(1, 11):\n",
    "        print(i**3)\n",
    "\n",
    "# Create thread objects\n",
    "thread1 = threading.Thread(target=print_squares)\n",
    "thread2 = threading.Thread(target=print_cubes)\n",
    "\n",
    "# Start the threads\n",
    "thread1.start()\n",
    "thread2.start()"
   ]
  },
  {
   "cell_type": "code",
   "execution_count": null,
   "id": "e4877bdd-3795-477c-949c-368bbae1d5b4",
   "metadata": {},
   "outputs": [],
   "source": []
  },
  {
   "cell_type": "markdown",
   "id": "48a9b7ec-5fed-4dc6-9dbe-fdd84f2aedb4",
   "metadata": {},
   "source": [
    "Q5. Advantages and disadvantages of multithreading:"
   ]
  },
  {
   "cell_type": "markdown",
   "id": "9dcda4c6-e6fa-455d-b555-522b4b71f439",
   "metadata": {},
   "source": [
    "Advantages:\n",
    "- Improved performance by utilizing multiple CPU cores.\n",
    "- Increased responsiveness as tasks can run concurrently.\n",
    "- Efficient resource sharing, reducing memory usage.\n",
    "- Simpler program design for independent tasks.\n",
    "\n",
    "Disadvantages:\n",
    "- Complexity in managing shared resources, leading to synchronization issues.\n",
    "- Difficult debugging due to non-deterministic behavior.\n",
    "- Increased memory usage and overhead for thread management."
   ]
  },
  {
   "cell_type": "code",
   "execution_count": null,
   "id": "9a7a5c5b-0fae-4341-8166-116a69c9fafe",
   "metadata": {},
   "outputs": [],
   "source": []
  },
  {
   "cell_type": "markdown",
   "id": "0509522d-689a-45d2-bb32-55a189cbfde7",
   "metadata": {},
   "source": [
    "Q6. Explanation of deadlocks and race conditions:\n"
   ]
  },
  {
   "cell_type": "markdown",
   "id": "7be6d61b-d31a-4e61-b1ed-55afbb2b080b",
   "metadata": {},
   "source": [
    "- Deadlock: A deadlock occurs when multiple threads are blocked indefinitely because each is waiting for a resource held by another thread. It results in a program freeze. Deadlocks happen due to improper resource allocation and synchronization.\n",
    "\n",
    "- Race condition: A race condition is a situation where the behavior of a program depends on the timing or interleaving of multiple threads. It arises when multiple threads access shared data simultaneously, leading to unpredictable and incorrect results. Race conditions can cause data corruption and inconsistencies.\n",
    "\n",
    "Both deadlocks and race conditions are synchronization problems that can occur in multithreaded programs and require careful handling to avoid issues."
   ]
  },
  {
   "cell_type": "code",
   "execution_count": null,
   "id": "466a27ef-f799-40e7-ab07-280d4a6d08e0",
   "metadata": {},
   "outputs": [],
   "source": []
  }
 ],
 "metadata": {
  "kernelspec": {
   "display_name": "Python 3 (ipykernel)",
   "language": "python",
   "name": "python3"
  },
  "language_info": {
   "codemirror_mode": {
    "name": "ipython",
    "version": 3
   },
   "file_extension": ".py",
   "mimetype": "text/x-python",
   "name": "python",
   "nbconvert_exporter": "python",
   "pygments_lexer": "ipython3",
   "version": "3.10.6"
  }
 },
 "nbformat": 4,
 "nbformat_minor": 5
}
