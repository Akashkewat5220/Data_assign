{
 "cells": [
  {
   "cell_type": "markdown",
   "id": "1aa271e4-006b-4ff8-9a8e-1f08943bf95d",
   "metadata": {},
   "source": [
    "# ANSWER 1"
   ]
  },
  {
   "cell_type": "code",
   "execution_count": 5,
   "id": "f1af4b34-c42b-4d1d-afbd-5fd868614c48",
   "metadata": {},
   "outputs": [
    {
     "name": "stdout",
     "output_type": "stream",
     "text": [
      "   Name  Age\n",
      "0  John   25\n",
      "1  Jane   30\n",
      "2  Mike   28\n"
     ]
    }
   ],
   "source": [
    "#head(): This function returns the first n rows of a DataFrame. By default, it returns the first five rows.\n",
    "\n",
    "import pandas as pd\n",
    "\n",
    "# Create a DataFrame\n",
    "data = {'Name': ['John', 'Jane', 'Mike', 'Sarah', 'David'],\n",
    "        'Age': [25, 30, 28, 35, 42]}\n",
    "df = pd.DataFrame(data)\n",
    "\n",
    "# Print the first three rows of the DataFrame\n",
    "print(df.head(3))"
   ]
  },
  {
   "cell_type": "code",
   "execution_count": 6,
   "id": "8af4c5c2-26d9-4958-a20e-eeea2c5c4074",
   "metadata": {},
   "outputs": [
    {
     "name": "stdout",
     "output_type": "stream",
     "text": [
      "           Height     Weight\n",
      "count    5.000000   5.000000\n",
      "mean   169.000000  68.600000\n",
      "std      9.617692   7.402702\n",
      "min    155.000000  60.000000\n",
      "25%    165.000000  65.000000\n",
      "50%    170.000000  68.000000\n",
      "75%    175.000000  70.000000\n",
      "max    180.000000  80.000000\n"
     ]
    }
   ],
   "source": [
    "#describe(): This function provides summary statistics of numerical columns in a DataFrame, such as count, mean, standard deviation, minimum, maximum, and quartiles.\n",
    "\n",
    "import pandas as pd\n",
    "\n",
    "# Create a DataFrame\n",
    "data = {'Height': [170, 165, 180, 155, 175],\n",
    "        'Weight': [65, 70, 80, 60, 68]}\n",
    "df = pd.DataFrame(data)\n",
    "\n",
    "# Generate summary statistics of the DataFrame\n",
    "summary = df.describe()\n",
    "\n",
    "# Print the summary statistics\n",
    "print(summary)"
   ]
  },
  {
   "cell_type": "code",
   "execution_count": 7,
   "id": "c24c3dc5-35f4-47c1-aad4-c233dab4387f",
   "metadata": {},
   "outputs": [
    {
     "name": "stdout",
     "output_type": "stream",
     "text": [
      "        Sales\n",
      "City         \n",
      "London   2700\n",
      "Paris    2700\n"
     ]
    }
   ],
   "source": [
    "#groupby(): This function is used to group the data in a DataFrame based on one or more columns and perform aggregations or calculations on the groups.\n",
    "import pandas as pd\n",
    "\n",
    "# Create a DataFrame\n",
    "data = {'City': ['London', 'Paris', 'London', 'Paris', 'London'],\n",
    "        'Sales': [1000, 1500, 800, 1200, 900]}\n",
    "df = pd.DataFrame(data)\n",
    "\n",
    "# Group the data by City and calculate the total sales\n",
    "grouped_df = df.groupby('City').sum()\n",
    "\n",
    "# Print the grouped DataFrame\n",
    "print(grouped_df)"
   ]
  },
  {
   "cell_type": "code",
   "execution_count": null,
   "id": "f61f1352-02f7-4a0b-b7e3-ddc3aa338275",
   "metadata": {},
   "outputs": [],
   "source": []
  },
  {
   "cell_type": "markdown",
   "id": "86710b69-b193-462f-9965-385ea774ddef",
   "metadata": {},
   "source": [
    "# ANSWER 2"
   ]
  },
  {
   "cell_type": "code",
   "execution_count": 11,
   "id": "5b8908d7-f6af-4dff-bd9b-55b922c9407f",
   "metadata": {},
   "outputs": [
    {
     "name": "stdout",
     "output_type": "stream",
     "text": [
      "    A   B    C\n",
      "1  10  50   90\n",
      "3  20  60  100\n",
      "5  30  70  110\n",
      "7  40  80  120\n"
     ]
    }
   ],
   "source": [
    "import pandas as pd\n",
    "\n",
    "def reindex_with_custom_increment(df):\n",
    "    new_index = range(1, len(df) * 2 + 1, 2)\n",
    "    df = df.set_index(pd.Index(new_index))\n",
    "    return df\n",
    "\n",
    "# Example usage\n",
    "df = pd.DataFrame({'A': [10, 20, 30, 40], 'B': [50, 60, 70, 80], 'C': [90, 100, 110, 120]})\n",
    "df_reindexed = reindex_with_custom_increment(df)\n",
    "print(df_reindexed)\n"
   ]
  },
  {
   "cell_type": "code",
   "execution_count": null,
   "id": "b449231a-25a8-4ade-be08-af0f2f46b1f7",
   "metadata": {},
   "outputs": [],
   "source": []
  },
  {
   "cell_type": "markdown",
   "id": "90647b4d-bbb5-48ca-a4e2-a80a366f3f0d",
   "metadata": {},
   "source": [
    "# Answer 3"
   ]
  },
  {
   "cell_type": "code",
   "execution_count": 18,
   "id": "80094215-46c6-498f-acfc-3681c0205cb9",
   "metadata": {},
   "outputs": [
    {
     "name": "stdout",
     "output_type": "stream",
     "text": [
      "Sum of the first three values: 60\n"
     ]
    }
   ],
   "source": [
    "import pandas as pd\n",
    "\n",
    "def calculate_sum_of_first_three(df):\n",
    "    values = df['Values'].head(3)  # Extract the first three values\n",
    "    total_sum = sum(values)  # Calculate the sum\n",
    "    print(\"Sum of the first three values:\", total_sum)\n",
    "\n",
    "# Example usage\n",
    "df = pd.DataFrame({'Values': [10, 20, 30, 40, 50]})\n",
    "calculate_sum_of_first_three(df)\n"
   ]
  },
  {
   "cell_type": "code",
   "execution_count": null,
   "id": "a6b7ef8e-6ec2-4e26-9ec8-feabe0d7cb66",
   "metadata": {},
   "outputs": [],
   "source": []
  },
  {
   "cell_type": "markdown",
   "id": "984c5b37-9b26-47f6-a002-cf44b9527c61",
   "metadata": {},
   "source": [
    "# Answer 4"
   ]
  },
  {
   "cell_type": "code",
   "execution_count": 19,
   "id": "aec7daff-0506-47d8-9c51-63c44eca1bcc",
   "metadata": {},
   "outputs": [
    {
     "name": "stdout",
     "output_type": "stream",
     "text": [
      "              Text  Word_Count\n",
      "0      Hello world           2\n",
      "1  Python is great           3\n",
      "2     Data science           2\n"
     ]
    }
   ],
   "source": [
    "import pandas as pd\n",
    "\n",
    "def add_word_count_column(df):\n",
    "    df['Word_Count'] = df['Text'].apply(lambda x: len(str(x).split()))\n",
    "    return df\n",
    "\n",
    "# Example usage\n",
    "df = pd.DataFrame({'Text': ['Hello world', 'Python is great', 'Data science']})\n",
    "df_with_word_count = add_word_count_column(df)\n",
    "print(df_with_word_count)\n"
   ]
  },
  {
   "cell_type": "code",
   "execution_count": null,
   "id": "c346c329-a346-49a7-ac07-b882eeda4fc5",
   "metadata": {},
   "outputs": [],
   "source": []
  },
  {
   "cell_type": "markdown",
   "id": "f53d8a7f-9d9d-4183-8ecb-7bdcfafdcd16",
   "metadata": {},
   "source": [
    "# ANSWER 5"
   ]
  },
  {
   "cell_type": "markdown",
   "id": "eb7f3d35-4a76-4d88-9230-5383fccad59c",
   "metadata": {},
   "source": [
    "DataFrame.size: This method returns the total number of elements in the DataFrame. It calculates the size by multiplying the number of rows\n",
    "\n",
    "DataFrame.shape: This method returns a tuple that represents the dimensions of the DataFrame. The tuple contains two elements: the number of rows and the number of columns,"
   ]
  },
  {
   "cell_type": "code",
   "execution_count": null,
   "id": "8d008fc8-ce98-4d8b-bf7d-4e1d8da6fe5b",
   "metadata": {},
   "outputs": [],
   "source": []
  },
  {
   "cell_type": "markdown",
   "id": "2f7b37e6-bf44-4c1d-b6f2-c7f151189a3e",
   "metadata": {},
   "source": [
    "# ANSWER 6"
   ]
  },
  {
   "cell_type": "markdown",
   "id": "9e065b2f-5a4d-4113-b929-b412f0cdd146",
   "metadata": {},
   "source": [
    "we can read data by pd.read_excel()"
   ]
  },
  {
   "cell_type": "code",
   "execution_count": null,
   "id": "e3e02186-0e0b-4aca-9f2d-a84644533eb2",
   "metadata": {},
   "outputs": [],
   "source": []
  },
  {
   "cell_type": "markdown",
   "id": "c1844e0c-aeb4-4ed0-b044-6a085e99d4aa",
   "metadata": {},
   "source": [
    "# ANSWER 7"
   ]
  },
  {
   "cell_type": "code",
   "execution_count": 22,
   "id": "3e8dd74f-e8e2-4c06-aa22-c532d058a8fc",
   "metadata": {},
   "outputs": [
    {
     "name": "stdout",
     "output_type": "stream",
     "text": [
      "               Email Username\n",
      "0  user1@example.com    user1\n",
      "1  user2@example.com    user2\n",
      "2  user3@example.com    user3\n"
     ]
    }
   ],
   "source": [
    "import pandas as pd\n",
    "\n",
    "def extract_username(df):\n",
    "    df['Username'] = df['Email'].str.split('@').str[0]\n",
    "    return df\n",
    "\n",
    "# Example usage\n",
    "df = pd.DataFrame({'Email': ['user1@example.com', 'user2@example.com', 'user3@example.com']})\n",
    "df_with_username = extract_username(df)\n",
    "print(df_with_username)\n"
   ]
  },
  {
   "cell_type": "code",
   "execution_count": null,
   "id": "b52fbfb9-fed1-4ccf-9460-1121f7564a21",
   "metadata": {},
   "outputs": [],
   "source": []
  },
  {
   "cell_type": "markdown",
   "id": "e98ecad8-6eb7-4a7f-b351-47313742a653",
   "metadata": {},
   "source": [
    "# ANSWER 8"
   ]
  },
  {
   "cell_type": "code",
   "execution_count": null,
   "id": "2f137782-011c-40ff-b7c0-ed24078de72d",
   "metadata": {},
   "outputs": [],
   "source": []
  },
  {
   "cell_type": "code",
   "execution_count": null,
   "id": "140bda34-894f-4d53-88cf-742be178b115",
   "metadata": {},
   "outputs": [],
   "source": []
  },
  {
   "cell_type": "markdown",
   "id": "21726965-45e1-46f5-9bb6-0e1de6a06726",
   "metadata": {},
   "source": [
    "# ANSWER 9"
   ]
  },
  {
   "cell_type": "code",
   "execution_count": 24,
   "id": "6a38a2ce-43a8-4f56-a16c-3263954662f1",
   "metadata": {},
   "outputs": [
    {
     "name": "stdout",
     "output_type": "stream",
     "text": [
      "Mean: 30.0\n",
      "Median: 30.0\n",
      "Standard Deviation: 15.811388300841896\n"
     ]
    }
   ],
   "source": [
    "import pandas as pd\n",
    "\n",
    "def calculate_stats(df):\n",
    "    mean_value = df['Values'].mean()\n",
    "    median_value = df['Values'].median()\n",
    "    std_value = df['Values'].std()\n",
    "    return mean_value, median_value, std_value\n",
    "\n",
    "# Example usage\n",
    "df = pd.DataFrame({'Values': [10, 20, 30, 40, 50]})\n",
    "mean, median, std = calculate_stats(df)\n",
    "print(\"Mean:\", mean)\n",
    "print(\"Median:\", median)\n",
    "print(\"Standard Deviation:\", std)\n"
   ]
  },
  {
   "cell_type": "code",
   "execution_count": null,
   "id": "1f48b5ac-1cea-4cde-9229-145ba3537d99",
   "metadata": {},
   "outputs": [],
   "source": []
  },
  {
   "cell_type": "markdown",
   "id": "f7f7795d-eb57-4f6c-ada2-f66ed4f5387a",
   "metadata": {},
   "source": [
    "# 10"
   ]
  },
  {
   "cell_type": "code",
   "execution_count": 25,
   "id": "cd1cf663-1708-423e-99a8-e6d988e55144",
   "metadata": {},
   "outputs": [
    {
     "name": "stdout",
     "output_type": "stream",
     "text": [
      "        Date  Sales  MovingAverage\n",
      "0 2023-01-01     10           10.0\n",
      "1 2023-01-02     20           15.0\n",
      "2 2023-01-03     30           20.0\n",
      "3 2023-01-04     40           25.0\n",
      "4 2023-01-05     50           30.0\n",
      "5 2023-01-06     60           35.0\n",
      "6 2023-01-07     70           40.0\n",
      "7 2023-01-08     80           50.0\n",
      "8 2023-01-09     90           60.0\n",
      "9 2023-01-10    100           70.0\n"
     ]
    }
   ],
   "source": [
    "import pandas as pd\n",
    "\n",
    "def calculate_moving_average(df):\n",
    "    df['MovingAverage'] = df['Sales'].rolling(window=7, min_periods=1).mean()\n",
    "    return df\n",
    "\n",
    "# Example usage\n",
    "df = pd.DataFrame({'Date': pd.date_range(start='2023-01-01', periods=10), 'Sales': [10, 20, 30, 40, 50, 60, 70, 80, 90, 100]})\n",
    "df_with_moving_avg = calculate_moving_average(df)\n",
    "print(df_with_moving_avg)\n"
   ]
  },
  {
   "cell_type": "code",
   "execution_count": null,
   "id": "1f7642d8-2125-4526-9de5-a1c00a044dda",
   "metadata": {},
   "outputs": [],
   "source": []
  },
  {
   "cell_type": "markdown",
   "id": "152425a3-df07-444d-beca-0df3e5440462",
   "metadata": {},
   "source": [
    "#11"
   ]
  },
  {
   "cell_type": "code",
   "execution_count": null,
   "id": "1e478e8b-fff3-47b7-8bfe-fcf598c845ed",
   "metadata": {},
   "outputs": [],
   "source": []
  },
  {
   "cell_type": "code",
   "execution_count": null,
   "id": "edf1b262-fc68-44ab-9d4b-36787124f7b5",
   "metadata": {},
   "outputs": [],
   "source": []
  },
  {
   "cell_type": "code",
   "execution_count": null,
   "id": "7a19972d-4e9d-4638-8aa9-ab1e8ad5473e",
   "metadata": {},
   "outputs": [],
   "source": []
  },
  {
   "cell_type": "code",
   "execution_count": null,
   "id": "a11b0504-7a76-43dc-a249-8b4f413909ea",
   "metadata": {},
   "outputs": [],
   "source": []
  },
  {
   "cell_type": "code",
   "execution_count": null,
   "id": "e204e96a-a3c3-4030-885b-b9395f0271dd",
   "metadata": {},
   "outputs": [],
   "source": []
  },
  {
   "cell_type": "code",
   "execution_count": null,
   "id": "7f9f7d83-d73f-4358-8f90-948ad308d2ae",
   "metadata": {},
   "outputs": [],
   "source": []
  },
  {
   "cell_type": "code",
   "execution_count": null,
   "id": "53319ed7-72c4-4334-90ea-e08da3c924f4",
   "metadata": {},
   "outputs": [],
   "source": []
  },
  {
   "cell_type": "code",
   "execution_count": null,
   "id": "b0e2bc1f-0a28-427b-a67d-037b12737f06",
   "metadata": {},
   "outputs": [],
   "source": []
  },
  {
   "cell_type": "code",
   "execution_count": null,
   "id": "296c362a-484c-4878-9c76-4d063ceadaaa",
   "metadata": {},
   "outputs": [],
   "source": []
  },
  {
   "cell_type": "code",
   "execution_count": null,
   "id": "770be8aa-b1b8-46b4-8f34-0bb5f9c68fb5",
   "metadata": {},
   "outputs": [],
   "source": []
  },
  {
   "cell_type": "code",
   "execution_count": null,
   "id": "b12acf11-f516-48de-acf4-a2393da986e1",
   "metadata": {},
   "outputs": [],
   "source": []
  },
  {
   "cell_type": "code",
   "execution_count": null,
   "id": "75516d7e-fbb8-4e06-880c-1fc49437c980",
   "metadata": {},
   "outputs": [],
   "source": []
  },
  {
   "cell_type": "code",
   "execution_count": null,
   "id": "79f58d70-1862-41ba-bad1-fdc1bbc924e0",
   "metadata": {},
   "outputs": [],
   "source": []
  },
  {
   "cell_type": "code",
   "execution_count": null,
   "id": "3eafe0f4-3839-4ca3-9946-40644b9c4945",
   "metadata": {},
   "outputs": [],
   "source": []
  },
  {
   "cell_type": "code",
   "execution_count": null,
   "id": "89e1be1f-3e24-41f7-8204-3e9530f72dba",
   "metadata": {},
   "outputs": [],
   "source": []
  },
  {
   "cell_type": "code",
   "execution_count": null,
   "id": "5613e7c2-dc18-43cd-a607-779ade0f661d",
   "metadata": {},
   "outputs": [],
   "source": []
  },
  {
   "cell_type": "code",
   "execution_count": null,
   "id": "4fd56e96-945d-408e-a3fd-739c80231bc0",
   "metadata": {},
   "outputs": [],
   "source": []
  },
  {
   "cell_type": "code",
   "execution_count": null,
   "id": "c940d98d-c4fd-4115-b778-95e4da6a58e6",
   "metadata": {},
   "outputs": [],
   "source": []
  },
  {
   "cell_type": "code",
   "execution_count": null,
   "id": "b08cb35f-0610-4f26-89ef-64e232cd49d9",
   "metadata": {},
   "outputs": [],
   "source": []
  },
  {
   "cell_type": "code",
   "execution_count": null,
   "id": "e7981b19-169a-47e7-a70c-31902e99a310",
   "metadata": {},
   "outputs": [],
   "source": []
  },
  {
   "cell_type": "code",
   "execution_count": null,
   "id": "612673c3-0c8d-413d-ba18-c3e7ead646b2",
   "metadata": {},
   "outputs": [],
   "source": []
  },
  {
   "cell_type": "code",
   "execution_count": null,
   "id": "ff6ecaee-e845-4ed9-8f23-7b3584326939",
   "metadata": {},
   "outputs": [],
   "source": []
  },
  {
   "cell_type": "code",
   "execution_count": null,
   "id": "75520644-17a4-4054-a91b-346726fd1b67",
   "metadata": {},
   "outputs": [],
   "source": []
  },
  {
   "cell_type": "code",
   "execution_count": null,
   "id": "801c28ae-e3e0-4e08-ad2d-41cc57023da2",
   "metadata": {},
   "outputs": [],
   "source": []
  },
  {
   "cell_type": "code",
   "execution_count": null,
   "id": "b53a98b5-b639-472c-9bca-deedf3cc9bb4",
   "metadata": {},
   "outputs": [],
   "source": []
  },
  {
   "cell_type": "code",
   "execution_count": null,
   "id": "bcfbd514-5cb1-424d-9af7-17b096b56441",
   "metadata": {},
   "outputs": [],
   "source": []
  },
  {
   "cell_type": "code",
   "execution_count": null,
   "id": "9bec2087-d65f-429a-9119-05c3359fab58",
   "metadata": {},
   "outputs": [],
   "source": []
  },
  {
   "cell_type": "code",
   "execution_count": null,
   "id": "e6b7fa6a-855d-4ee3-8561-b0d35ea24b82",
   "metadata": {},
   "outputs": [],
   "source": []
  },
  {
   "cell_type": "code",
   "execution_count": null,
   "id": "81662bfb-4225-4732-8dab-7d5a67fa5b0b",
   "metadata": {},
   "outputs": [],
   "source": []
  },
  {
   "cell_type": "code",
   "execution_count": null,
   "id": "812fe6ce-a470-4750-8aaf-0975fb0c1db7",
   "metadata": {},
   "outputs": [],
   "source": []
  },
  {
   "cell_type": "code",
   "execution_count": null,
   "id": "a589761f-0e0a-47aa-b648-e6b0eeff3f49",
   "metadata": {},
   "outputs": [],
   "source": []
  },
  {
   "cell_type": "code",
   "execution_count": null,
   "id": "32874df6-81db-40c3-bee7-a41737300540",
   "metadata": {},
   "outputs": [],
   "source": []
  },
  {
   "cell_type": "code",
   "execution_count": null,
   "id": "c52f5f4d-d680-45b1-9187-c315a70516f0",
   "metadata": {},
   "outputs": [],
   "source": []
  },
  {
   "cell_type": "code",
   "execution_count": null,
   "id": "73a3815a-a16e-4b26-b0f8-bc040883b520",
   "metadata": {},
   "outputs": [],
   "source": []
  },
  {
   "cell_type": "code",
   "execution_count": null,
   "id": "13ab7203-bbdb-4203-82b3-07bbb962b0e3",
   "metadata": {},
   "outputs": [],
   "source": []
  },
  {
   "cell_type": "code",
   "execution_count": null,
   "id": "8a77a30a-e1ad-4b7b-b47e-944678d4340f",
   "metadata": {},
   "outputs": [],
   "source": []
  },
  {
   "cell_type": "code",
   "execution_count": null,
   "id": "a3fb1cda-c985-4447-8df7-98f44466e5da",
   "metadata": {},
   "outputs": [],
   "source": []
  },
  {
   "cell_type": "code",
   "execution_count": null,
   "id": "60af47da-4106-43ac-a6ac-5e920dcdc000",
   "metadata": {},
   "outputs": [],
   "source": []
  },
  {
   "cell_type": "code",
   "execution_count": null,
   "id": "37fe23a2-c273-4037-9f05-f677f93c83ae",
   "metadata": {},
   "outputs": [],
   "source": []
  },
  {
   "cell_type": "code",
   "execution_count": null,
   "id": "95e4f558-4602-4992-985b-ba8e1cdc6710",
   "metadata": {},
   "outputs": [],
   "source": []
  },
  {
   "cell_type": "code",
   "execution_count": null,
   "id": "1dea13dd-8c9c-4719-be55-7de73e8786e4",
   "metadata": {},
   "outputs": [],
   "source": []
  },
  {
   "cell_type": "code",
   "execution_count": null,
   "id": "1e96a82e-b83d-4f66-8f99-d1dcb4af59b6",
   "metadata": {},
   "outputs": [],
   "source": []
  },
  {
   "cell_type": "code",
   "execution_count": null,
   "id": "034faf44-574c-47ec-8078-15a49d46aa1b",
   "metadata": {},
   "outputs": [],
   "source": []
  },
  {
   "cell_type": "code",
   "execution_count": null,
   "id": "8c5d4b75-806a-4cb6-9867-39ebdd938795",
   "metadata": {},
   "outputs": [],
   "source": []
  },
  {
   "cell_type": "code",
   "execution_count": null,
   "id": "13016286-866a-4332-9fab-d7f96c59abfa",
   "metadata": {},
   "outputs": [],
   "source": []
  },
  {
   "cell_type": "code",
   "execution_count": null,
   "id": "452c00c0-60da-458b-afd3-6675ba93c838",
   "metadata": {},
   "outputs": [],
   "source": []
  },
  {
   "cell_type": "code",
   "execution_count": null,
   "id": "dfdd3359-fdbe-46d2-a0ea-08a4222a7e8f",
   "metadata": {},
   "outputs": [],
   "source": []
  },
  {
   "cell_type": "code",
   "execution_count": null,
   "id": "79114534-48e2-4bcb-b19a-5b2a9a2e666a",
   "metadata": {},
   "outputs": [],
   "source": []
  },
  {
   "cell_type": "code",
   "execution_count": null,
   "id": "2abfc244-be9e-48b3-b496-8b55d837633e",
   "metadata": {},
   "outputs": [],
   "source": []
  },
  {
   "cell_type": "code",
   "execution_count": null,
   "id": "8bec6688-67bf-4442-b4ea-5956c74e223f",
   "metadata": {},
   "outputs": [],
   "source": []
  },
  {
   "cell_type": "code",
   "execution_count": null,
   "id": "9e9ff8ee-d06f-4598-a10d-5d8efb4535b1",
   "metadata": {},
   "outputs": [],
   "source": []
  },
  {
   "cell_type": "code",
   "execution_count": null,
   "id": "e141cfec-cfed-4655-8fca-62124cb372f0",
   "metadata": {},
   "outputs": [],
   "source": []
  },
  {
   "cell_type": "code",
   "execution_count": null,
   "id": "41faa627-1b9d-4541-8b81-f152cdd54d7e",
   "metadata": {},
   "outputs": [],
   "source": []
  },
  {
   "cell_type": "code",
   "execution_count": null,
   "id": "1fbb8ff4-40c2-4edf-94a5-d0ecbeec78f3",
   "metadata": {},
   "outputs": [],
   "source": []
  },
  {
   "cell_type": "code",
   "execution_count": null,
   "id": "8b42006f-a358-468e-8db4-6b185db1f07b",
   "metadata": {},
   "outputs": [],
   "source": []
  },
  {
   "cell_type": "code",
   "execution_count": null,
   "id": "ca6abba9-686c-4c79-811a-caa31ded69fb",
   "metadata": {},
   "outputs": [],
   "source": []
  },
  {
   "cell_type": "code",
   "execution_count": null,
   "id": "e7fbab33-8f61-4c2f-bddf-fb7b6d8e0f54",
   "metadata": {},
   "outputs": [],
   "source": []
  },
  {
   "cell_type": "code",
   "execution_count": null,
   "id": "06626b0d-9fb0-40df-a586-777267258bbb",
   "metadata": {},
   "outputs": [],
   "source": []
  },
  {
   "cell_type": "code",
   "execution_count": null,
   "id": "08ebb4c5-89fe-4ac5-8411-11b1ed2bc04e",
   "metadata": {},
   "outputs": [],
   "source": []
  },
  {
   "cell_type": "code",
   "execution_count": null,
   "id": "933107a5-f9bc-42f9-8b22-62107b1458c4",
   "metadata": {},
   "outputs": [],
   "source": []
  },
  {
   "cell_type": "code",
   "execution_count": null,
   "id": "c1c7725e-80e1-4d0e-b610-c866373a64c0",
   "metadata": {},
   "outputs": [],
   "source": []
  },
  {
   "cell_type": "code",
   "execution_count": null,
   "id": "2f380cd1-c008-42cf-bb0f-310f582d059d",
   "metadata": {},
   "outputs": [],
   "source": []
  },
  {
   "cell_type": "code",
   "execution_count": null,
   "id": "da7a7482-8156-426d-955a-adb8894d7546",
   "metadata": {},
   "outputs": [],
   "source": []
  },
  {
   "cell_type": "code",
   "execution_count": null,
   "id": "a6e3914c-75d3-44ca-8eda-bca567944851",
   "metadata": {},
   "outputs": [],
   "source": []
  },
  {
   "cell_type": "code",
   "execution_count": null,
   "id": "74f43276-60c5-4778-ac0b-ceba01114013",
   "metadata": {},
   "outputs": [],
   "source": []
  },
  {
   "cell_type": "code",
   "execution_count": null,
   "id": "219ad395-83de-4f05-8ebd-15607cd44034",
   "metadata": {},
   "outputs": [],
   "source": []
  },
  {
   "cell_type": "code",
   "execution_count": null,
   "id": "db27d251-308b-4b7d-8d97-e477c4107cad",
   "metadata": {},
   "outputs": [],
   "source": []
  },
  {
   "cell_type": "code",
   "execution_count": null,
   "id": "34ac2097-3a60-4ef9-b31c-4aaf98d37c8e",
   "metadata": {},
   "outputs": [],
   "source": []
  }
 ],
 "metadata": {
  "kernelspec": {
   "display_name": "Python 3 (ipykernel)",
   "language": "python",
   "name": "python3"
  },
  "language_info": {
   "codemirror_mode": {
    "name": "ipython",
    "version": 3
   },
   "file_extension": ".py",
   "mimetype": "text/x-python",
   "name": "python",
   "nbconvert_exporter": "python",
   "pygments_lexer": "ipython3",
   "version": "3.10.6"
  }
 },
 "nbformat": 4,
 "nbformat_minor": 5
}
