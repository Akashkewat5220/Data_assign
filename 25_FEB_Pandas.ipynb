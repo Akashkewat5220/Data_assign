{
 "cells": [
  {
   "cell_type": "code",
   "execution_count": 10,
   "id": "82033dcd-28f6-45c7-b55f-13d4f83336e3",
   "metadata": {},
   "outputs": [],
   "source": [
    "import pandas as pd\n",
    "course_name = ['Data Science', 'Machine Learning', 'Big Data', \"Data Engineer\"]\n",
    "duration = [2,3,6,4]\n",
    "df = pd.DataFrame(data = {'course_name' : course_name, 'duration' : duration})"
   ]
  },
  {
   "cell_type": "code",
   "execution_count": 11,
   "id": "7f9ab26f-e3a0-4182-b794-2606144703ca",
   "metadata": {},
   "outputs": [
    {
     "name": "stdout",
     "output_type": "stream",
     "text": [
      "course_name    Machine Learning\n",
      "duration                      3\n",
      "Name: 1, dtype: object\n"
     ]
    }
   ],
   "source": [
    "second_row = df.iloc[1]\n",
    "print(second_row)\n"
   ]
  },
  {
   "cell_type": "code",
   "execution_count": null,
   "id": "42d5a02c-a80f-40f7-a1f4-d75f9205966f",
   "metadata": {},
   "outputs": [],
   "source": []
  },
  {
   "cell_type": "markdown",
   "id": "29470555-6b00-4be4-aef4-16285440d5a0",
   "metadata": {},
   "source": [
    "# 2 "
   ]
  },
  {
   "cell_type": "code",
   "execution_count": null,
   "id": "2d902310-9c6b-408d-8b67-6f6b38c9f56e",
   "metadata": {},
   "outputs": [],
   "source": [
    "\"\"\"loc is used for label-based indexing, which means you can access data based on the row and column labels. It takes the labels of rows and columns as arguments.\n",
    "iloc is used for integer-based indexing, which means you can access data based on the integer positions of rows and columns. It takes the integer positions as arguments.\"\"\""
   ]
  },
  {
   "cell_type": "code",
   "execution_count": null,
   "id": "1ecc3647-049e-4970-b4f9-ed1bf18e29bd",
   "metadata": {},
   "outputs": [],
   "source": []
  },
  {
   "cell_type": "markdown",
   "id": "bf4c0de3-8e17-4a7a-8202-d341ce533bcf",
   "metadata": {},
   "source": [
    "# 6"
   ]
  },
  {
   "cell_type": "code",
   "execution_count": null,
   "id": "2626d202-0405-4738-bbf4-a3484f48b5e4",
   "metadata": {},
   "outputs": [],
   "source": [
    "\"\"\"In pandas, a window function is a function that performs calculations on a subset of data called a \"window\" or \"rolling\n",
    "window.\" It allows you to compute and analyze values over a specific window of data, such as a sliding window of \n",
    "consecutive rows or a fixed-size window.\"\"\""
   ]
  },
  {
   "cell_type": "code",
   "execution_count": null,
   "id": "e0d3a2af-4b9e-426a-b279-cb0a22660a02",
   "metadata": {},
   "outputs": [],
   "source": []
  },
  {
   "cell_type": "code",
   "execution_count": null,
   "id": "085bb9f7-80e4-4aa3-8267-421e262ea722",
   "metadata": {},
   "outputs": [],
   "source": []
  },
  {
   "cell_type": "code",
   "execution_count": null,
   "id": "0da20b8f-9f10-4a53-88cc-f10819274460",
   "metadata": {},
   "outputs": [],
   "source": []
  },
  {
   "cell_type": "code",
   "execution_count": null,
   "id": "9b02bcea-205d-40b5-8918-de2a4668c28b",
   "metadata": {},
   "outputs": [],
   "source": []
  },
  {
   "cell_type": "code",
   "execution_count": null,
   "id": "cee3d88c-219e-4e4f-8ce4-6eddc1e6b395",
   "metadata": {},
   "outputs": [],
   "source": []
  },
  {
   "cell_type": "code",
   "execution_count": null,
   "id": "545bcbe7-ced5-4dc9-8f3c-394c40424af6",
   "metadata": {},
   "outputs": [],
   "source": []
  },
  {
   "cell_type": "code",
   "execution_count": null,
   "id": "b528b8a3-7b06-4516-965c-84ba60a94e4e",
   "metadata": {},
   "outputs": [],
   "source": []
  },
  {
   "cell_type": "code",
   "execution_count": null,
   "id": "092d85dc-ee0b-4a31-94f7-acf8df143eeb",
   "metadata": {},
   "outputs": [],
   "source": []
  },
  {
   "cell_type": "code",
   "execution_count": null,
   "id": "9dfce5f8-7cad-4041-ab0c-565b6777f488",
   "metadata": {},
   "outputs": [],
   "source": []
  },
  {
   "cell_type": "code",
   "execution_count": null,
   "id": "e4412f1c-4c64-4296-acf3-f0368c1adcbb",
   "metadata": {},
   "outputs": [],
   "source": []
  },
  {
   "cell_type": "code",
   "execution_count": null,
   "id": "711dd391-6611-4755-a87a-61a948129cb9",
   "metadata": {},
   "outputs": [],
   "source": []
  },
  {
   "cell_type": "code",
   "execution_count": null,
   "id": "3ef95b1b-547d-4a89-bb29-cec330933883",
   "metadata": {},
   "outputs": [],
   "source": []
  },
  {
   "cell_type": "code",
   "execution_count": null,
   "id": "e02a4be1-6429-4e76-9c51-eca26f499573",
   "metadata": {},
   "outputs": [],
   "source": []
  },
  {
   "cell_type": "code",
   "execution_count": null,
   "id": "afe77dbd-e513-4251-bb7a-22f52b80d56a",
   "metadata": {},
   "outputs": [],
   "source": []
  },
  {
   "cell_type": "code",
   "execution_count": null,
   "id": "62409f6b-d8c2-4aa7-95aa-aeefba756e05",
   "metadata": {},
   "outputs": [],
   "source": []
  },
  {
   "cell_type": "code",
   "execution_count": null,
   "id": "41940eca-50b9-4558-84f8-4e58881d2130",
   "metadata": {},
   "outputs": [],
   "source": []
  },
  {
   "cell_type": "code",
   "execution_count": null,
   "id": "99f6805f-0cce-4ef3-b5f1-94e96e719f73",
   "metadata": {},
   "outputs": [],
   "source": []
  },
  {
   "cell_type": "code",
   "execution_count": null,
   "id": "ef4601a0-ad63-4240-b88d-5ce4bcf61cb3",
   "metadata": {},
   "outputs": [],
   "source": []
  },
  {
   "cell_type": "code",
   "execution_count": null,
   "id": "44875dc6-04e0-4626-a6a2-c259bc77acbc",
   "metadata": {},
   "outputs": [],
   "source": []
  },
  {
   "cell_type": "code",
   "execution_count": null,
   "id": "2045abb8-27a5-4d97-9abc-c205104050a0",
   "metadata": {},
   "outputs": [],
   "source": []
  },
  {
   "cell_type": "code",
   "execution_count": null,
   "id": "50bc5a12-78d6-4a0f-9c71-6c053f72fa6e",
   "metadata": {},
   "outputs": [],
   "source": []
  },
  {
   "cell_type": "code",
   "execution_count": null,
   "id": "5e2da19b-712c-45f0-830f-a9a321574c49",
   "metadata": {},
   "outputs": [],
   "source": []
  },
  {
   "cell_type": "code",
   "execution_count": null,
   "id": "e59279af-7463-4e19-aac3-60900ba57226",
   "metadata": {},
   "outputs": [],
   "source": []
  },
  {
   "cell_type": "code",
   "execution_count": null,
   "id": "4f3f83de-7bad-49f8-ba9f-09acacab2aab",
   "metadata": {},
   "outputs": [],
   "source": []
  },
  {
   "cell_type": "code",
   "execution_count": null,
   "id": "5ce5bb61-2ef3-40c4-986c-fdd320865293",
   "metadata": {},
   "outputs": [],
   "source": []
  },
  {
   "cell_type": "code",
   "execution_count": null,
   "id": "abb4cb96-16bb-4232-a5dd-704bffdef9f4",
   "metadata": {},
   "outputs": [],
   "source": []
  }
 ],
 "metadata": {
  "kernelspec": {
   "display_name": "Python 3 (ipykernel)",
   "language": "python",
   "name": "python3"
  },
  "language_info": {
   "codemirror_mode": {
    "name": "ipython",
    "version": 3
   },
   "file_extension": ".py",
   "mimetype": "text/x-python",
   "name": "python",
   "nbconvert_exporter": "python",
   "pygments_lexer": "ipython3",
   "version": "3.10.6"
  }
 },
 "nbformat": 4,
 "nbformat_minor": 5
}
