{
 "cells": [
  {
   "cell_type": "markdown",
   "id": "e6258db5-606a-46c6-b92f-387d82fe46eb",
   "metadata": {},
   "source": [
    "# ANSWER 1"
   ]
  },
  {
   "cell_type": "markdown",
   "id": "9fee7110-fde9-4960-a0b1-bfffcbd11b4a",
   "metadata": {},
   "source": [
    "A for loop is typically used when you know the number of iterations or the range of values you want to iterate over in advance\n",
    "\n",
    "A while loop, on the other hand, is used when you want to repeat a block of code until a certain condition is met."
   ]
  },
  {
   "cell_type": "code",
   "execution_count": 2,
   "id": "57539fce-7d23-43d2-bee0-6bd4cf0c81f6",
   "metadata": {},
   "outputs": [
    {
     "name": "stdout",
     "output_type": "stream",
     "text": [
      "1\n",
      "2\n",
      "3\n",
      "4\n",
      "5\n"
     ]
    }
   ],
   "source": [
    "## code for for loop\n",
    "# Iterating over a list of numbers\n",
    "numbers = [1, 2, 3, 4, 5]\n",
    "for num in numbers:\n",
    "    print(num)\n"
   ]
  },
  {
   "cell_type": "code",
   "execution_count": 3,
   "id": "49aa61ff-61e4-455a-bbb4-c4d4e5925f0c",
   "metadata": {},
   "outputs": [
    {
     "name": "stdout",
     "output_type": "stream",
     "text": [
      "1\n",
      "2\n",
      "3\n",
      "4\n",
      "5\n"
     ]
    }
   ],
   "source": [
    "## code for while loop\n",
    "# Printing numbers from 1 to 5 using a while loop\n",
    "num = 1\n",
    "while num <= 5:\n",
    "    print(num)\n",
    "    num += 1\n"
   ]
  },
  {
   "cell_type": "code",
   "execution_count": null,
   "id": "bb5d8fa8-64a0-4423-b6ab-7102fe91e0e5",
   "metadata": {},
   "outputs": [],
   "source": []
  },
  {
   "cell_type": "markdown",
   "id": "41bd39e9-2763-4fee-b1ef-bfc22ef57075",
   "metadata": {},
   "source": [
    "# ANSWER 2"
   ]
  },
  {
   "cell_type": "code",
   "execution_count": 4,
   "id": "31e1a082-d397-48e2-af4c-99a0eeb5e22a",
   "metadata": {},
   "outputs": [
    {
     "name": "stdout",
     "output_type": "stream",
     "text": [
      "Sum: 55\n",
      "Product: 3628800\n"
     ]
    }
   ],
   "source": [
    "## for loop\n",
    "# Using a for loop\n",
    "numbers = range(1, 11)\n",
    "sum_result = 0\n",
    "product_result = 1\n",
    "\n",
    "for num in numbers:\n",
    "    sum_result += num\n",
    "    product_result *= num\n",
    "\n",
    "print(\"Sum:\", sum_result)\n",
    "print(\"Product:\", product_result)\n"
   ]
  },
  {
   "cell_type": "code",
   "execution_count": 5,
   "id": "1f68e2ae-a186-4ae2-a8f1-1e534bf6c629",
   "metadata": {},
   "outputs": [
    {
     "name": "stdout",
     "output_type": "stream",
     "text": [
      "Sum: 55\n",
      "Product: 3628800\n"
     ]
    }
   ],
   "source": [
    "##While loop\n",
    "# Using a while loop\n",
    "num = 1\n",
    "sum_result = 0\n",
    "product_result = 1\n",
    "\n",
    "while num <= 10:\n",
    "    sum_result += num\n",
    "    product_result *= num\n",
    "    num += 1\n",
    "\n",
    "print(\"Sum:\", sum_result)\n",
    "print(\"Product:\", product_result)\n"
   ]
  },
  {
   "cell_type": "code",
   "execution_count": null,
   "id": "a31f0492-1dc9-48fb-bcdf-bf3dde05d762",
   "metadata": {},
   "outputs": [],
   "source": []
  },
  {
   "cell_type": "markdown",
   "id": "dd4acc57-0e44-448a-aea3-a96e86845f92",
   "metadata": {},
   "source": [
    "# ANSWER 3"
   ]
  },
  {
   "cell_type": "code",
   "execution_count": 6,
   "id": "3ae1c27d-6b16-46f0-a3f1-a13ab92e02e6",
   "metadata": {},
   "outputs": [],
   "source": [
    "## not done"
   ]
  },
  {
   "cell_type": "code",
   "execution_count": null,
   "id": "c3effaa9-1515-40eb-b5b9-7f08ce15d6d9",
   "metadata": {},
   "outputs": [],
   "source": []
  },
  {
   "cell_type": "markdown",
   "id": "eb8a4f2f-c965-4304-8450-ee494e2adc78",
   "metadata": {},
   "source": [
    "# ANSWER 4"
   ]
  },
  {
   "cell_type": "code",
   "execution_count": 9,
   "id": "b06cb968-ecf1-4514-b307-7bfb9adf2d4c",
   "metadata": {},
   "outputs": [
    {
     "name": "stdout",
     "output_type": "stream",
     "text": [
      "[8, 64, 125, 216, 512, 1000, 1728, 2744, 3375, 4096, 5832, 8000, 10648, 13824, 15625, 17576, 21952, 27000, 32768, 39304, 42875, 46656, 54872, 64000, 74088, 85184, 91125, 97336, 110592, 125000, 140608, 157464, 166375, 175616, 195112, 216000, 238328, 262144, 274625, 287496, 314432, 343000, 373248, 405224, 421875, 438976, 474552, 512000, 551368, 592704, 614125, 636056, 681472, 729000, 778688, 830584, 857375, 884736, 941192]\n"
     ]
    }
   ],
   "source": [
    "numbers = range(1, 100)\n",
    "cubes_divisible_by_4_or_5 = []\n",
    "\n",
    "for num in numbers:\n",
    "    cube = num ** 3\n",
    "    if cube % 4 == 0 or cube % 5 == 0:\n",
    "        cubes_divisible_by_4_or_5.append(cube)\n",
    "\n",
    "print(cubes_divisible_by_4_or_5)\n"
   ]
  },
  {
   "cell_type": "code",
   "execution_count": 10,
   "id": "af286365-d592-49cb-812e-1b90aabc5fe5",
   "metadata": {},
   "outputs": [],
   "source": [
    "## using while\n"
   ]
  },
  {
   "cell_type": "code",
   "execution_count": null,
   "id": "1b32c823-b746-4e17-a597-4521f4dff91d",
   "metadata": {},
   "outputs": [],
   "source": []
  },
  {
   "cell_type": "code",
   "execution_count": null,
   "id": "884612b6-d6b9-4561-a6f7-0877f1ddd6cc",
   "metadata": {},
   "outputs": [],
   "source": []
  },
  {
   "cell_type": "code",
   "execution_count": null,
   "id": "1dc4295a-b8de-4e24-93ca-9fbc4f9f08c7",
   "metadata": {},
   "outputs": [],
   "source": []
  },
  {
   "cell_type": "code",
   "execution_count": null,
   "id": "eb7fc891-c839-43b5-a0aa-e18bfc7fdb15",
   "metadata": {},
   "outputs": [],
   "source": []
  },
  {
   "cell_type": "code",
   "execution_count": null,
   "id": "d426ce03-ca89-4d0e-873d-798029d0a87d",
   "metadata": {},
   "outputs": [],
   "source": []
  },
  {
   "cell_type": "code",
   "execution_count": null,
   "id": "b63b8215-2765-4ab8-a360-c1802452e7d3",
   "metadata": {},
   "outputs": [],
   "source": []
  },
  {
   "cell_type": "code",
   "execution_count": null,
   "id": "57f00734-310c-47f9-857d-c7f83be409e2",
   "metadata": {},
   "outputs": [],
   "source": []
  },
  {
   "cell_type": "code",
   "execution_count": null,
   "id": "5cc923dd-77b4-43b0-b0bf-741949385625",
   "metadata": {},
   "outputs": [],
   "source": []
  },
  {
   "cell_type": "code",
   "execution_count": null,
   "id": "eb733813-a799-4dc8-9f97-e2686e6ca21a",
   "metadata": {},
   "outputs": [],
   "source": []
  },
  {
   "cell_type": "code",
   "execution_count": null,
   "id": "b988a92e-547f-46b3-960d-c17a9f368c1b",
   "metadata": {},
   "outputs": [],
   "source": []
  },
  {
   "cell_type": "code",
   "execution_count": null,
   "id": "d653fade-1155-4e58-a8c7-db88d0fbedbc",
   "metadata": {},
   "outputs": [],
   "source": []
  }
 ],
 "metadata": {
  "kernelspec": {
   "display_name": "Python 3 (ipykernel)",
   "language": "python",
   "name": "python3"
  },
  "language_info": {
   "codemirror_mode": {
    "name": "ipython",
    "version": 3
   },
   "file_extension": ".py",
   "mimetype": "text/x-python",
   "name": "python",
   "nbconvert_exporter": "python",
   "pygments_lexer": "ipython3",
   "version": "3.10.6"
  }
 },
 "nbformat": 4,
 "nbformat_minor": 5
}
