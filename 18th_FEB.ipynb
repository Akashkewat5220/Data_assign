{
 "cells": [
  {
   "cell_type": "markdown",
   "id": "8a571eba-ee45-4e6f-aba1-0752173ea2bc",
   "metadata": {},
   "source": [
    "Q1. What is an API? Give an example where an API is used in real life.\n",
    "\n",
    "A1. An API is a set of rules that allows different software applications to communicate with each other. An example is when a website uses a payment gateway API to process credit card payments securely.\n",
    "\n",
    "Q2. Give advantages and disadvantages of using APIs.\n",
    "\n",
    "A2. Advantages: Simplifies development, faster development, modular architecture, scalability, and integration.\n",
    "Disadvantages: Dependency on third-party APIs, lack of control, security concerns, and documentation learning curve.\n",
    "\n",
    "Q3. What is a Web API? Differentiate between API and Web API.\n",
    "\n",
    "A3. A Web API is an API specifically designed for communication between web-based applications over the internet. Web APIs use HTTP(S) protocols. API is a general term, while Web API specifically refers to APIs accessed over the web.\n",
    "\n",
    "Q4. Explain REST and SOAP Architecture. Mention shortcomings of SOAP.\n",
    "\n",
    "A4. REST is a simple and scalable architectural style using standard HTTP methods. SOAP is a protocol with more complexity and flexibility. Shortcomings of SOAP include complexity, larger message size, additional dependencies, and potential slowness.\n",
    "\n",
    "Q5. Differentiate between REST and SOAP.\n",
    "\n",
    "A5. REST is simpler and uses standard HTTP methods, while SOAP is more complex, uses XML for messaging, and supports multiple protocols. REST is lightweight and scalable, while SOAP has more features but can be slower and have larger overhead."
   ]
  },
  {
   "cell_type": "code",
   "execution_count": null,
   "id": "c31f6822-8f01-4bfd-b938-0474f53ffec8",
   "metadata": {},
   "outputs": [],
   "source": []
  }
 ],
 "metadata": {
  "kernelspec": {
   "display_name": "Python 3 (ipykernel)",
   "language": "python",
   "name": "python3"
  },
  "language_info": {
   "codemirror_mode": {
    "name": "ipython",
    "version": 3
   },
   "file_extension": ".py",
   "mimetype": "text/x-python",
   "name": "python",
   "nbconvert_exporter": "python",
   "pygments_lexer": "ipython3",
   "version": "3.10.6"
  }
 },
 "nbformat": 4,
 "nbformat_minor": 5
}
