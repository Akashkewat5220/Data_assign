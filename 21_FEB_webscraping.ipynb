{
 "cells": [
  {
   "cell_type": "markdown",
   "id": "6067eb70-9889-42f7-ae39-e80464f7bfff",
   "metadata": {},
   "source": [
    "# ANSWER 1"
   ]
  },
  {
   "cell_type": "code",
   "execution_count": null,
   "id": "8cab7633-cfa8-4eeb-8fd6-4a08fcefa823",
   "metadata": {},
   "outputs": [],
   "source": [
    "\"\"\"Web scraping is the process of automatically extracting data from websites. It involves fetching and parsing the HTML content of a web page to extract specific information or perform certain actions.\n",
    "USES\n",
    "Web scraping is commonly used to gather data from various sources on the internet, including e-commerce websites, social media platforms, news websites, and more.\"\"\""
   ]
  },
  {
   "cell_type": "code",
   "execution_count": null,
   "id": "acdcd201-e5d0-4d42-9741-4423ebdcdad8",
   "metadata": {},
   "outputs": [],
   "source": []
  },
  {
   "cell_type": "markdown",
   "id": "2774016b-ee2e-483d-87ec-ab38e74c83fd",
   "metadata": {},
   "source": [
    "# ANSWER 2"
   ]
  },
  {
   "cell_type": "code",
   "execution_count": 2,
   "id": "b892a0de-ac48-43cf-8986-1ac5fb9804ba",
   "metadata": {},
   "outputs": [
    {
     "data": {
      "text/plain": [
       "'Manual Extraction: This involves manually copying and pasting data from web pages into a local file or spreadsheet. It is suitable for simple tasks with a small amount of data but becomes impractical for large-scale scraping.\\n\\nRegular Expressions (Regex): Regex can be used to extract specific patterns from HTML content. However, it is limited in its ability to handle complex web structures and may become difficult to maintain as the complexity of the scraping task increases.\\n\\nHTML Parsing Libraries: These libraries provide dedicated tools and functions for parsing HTML content and extracting data. Beautiful Soup, lxml, and HtmlAgilityPack are popular examples of HTML parsing libraries that simplify the extraction process by providing convenient methods to navigate and extract data from HTML documents.\\n\\nAutomated Web Scraping Tools: There are various tools available that provide a visual interface to configure web scraping tasks. These tools allow users to specify the target website, define the data extraction logic, and automate the scraping process. Examples include Octoparse, ParseHub, and Import.io.'"
      ]
     },
     "execution_count": 2,
     "metadata": {},
     "output_type": "execute_result"
    }
   ],
   "source": [
    "\"\"\"Manual Extraction: This involves manually copying and pasting data from web pages into a local file or spreadsheet. It is suitable for simple tasks with a small amount of data but becomes impractical for large-scale scraping.\n",
    "\n",
    "Regular Expressions (Regex): Regex can be used to extract specific patterns from HTML content. However, it is limited in its ability to handle complex web structures and may become difficult to maintain as the complexity of the scraping task increases.\n",
    "\n",
    "HTML Parsing Libraries: These libraries provide dedicated tools and functions for parsing HTML content and extracting data. Beautiful Soup, lxml, and HtmlAgilityPack are popular examples of HTML parsing libraries that simplify the extraction process by providing convenient methods to navigate and extract data from HTML documents.\n",
    "\n",
    "Automated Web Scraping Tools: There are various tools available that provide a visual interface to configure web scraping tasks. These tools allow users to specify the target website, define the data extraction logic, and automate the scraping process. Examples include Octoparse, ParseHub, and Import.io.\"\"\""
   ]
  },
  {
   "cell_type": "code",
   "execution_count": null,
   "id": "af235cd8-9814-4c88-b649-d4681a12fe92",
   "metadata": {},
   "outputs": [],
   "source": []
  },
  {
   "cell_type": "markdown",
   "id": "f42de7db-7fb3-4252-a69e-9f2cbd91f90a",
   "metadata": {},
   "source": [
    "# ANWSER 3"
   ]
  },
  {
   "cell_type": "code",
   "execution_count": null,
   "id": "fc14c79c-2fac-4e22-b51c-a13da0b78b65",
   "metadata": {},
   "outputs": [],
   "source": [
    "\"\"\"Beautiful Soup is a Python library used for parsing HTML and XML documents. It provides an easy-to-use interface to extract data from web pages by traversing the HTML document tree structure. Beautiful Soup helps handle the complexities of real-world HTML and provides methods to search, navigate, and manipulate the parsed data."
   ]
  },
  {
   "cell_type": "code",
   "execution_count": null,
   "id": "b4d28171-babc-4ce9-bbb4-1efd8ea8bcc0",
   "metadata": {},
   "outputs": [],
   "source": []
  },
  {
   "cell_type": "markdown",
   "id": "5cadcbc0-45ee-43f1-9311-16cbe953b5c6",
   "metadata": {},
   "source": [
    "# ANSWER 4"
   ]
  },
  {
   "cell_type": "code",
   "execution_count": null,
   "id": "4f477e0f-b6e7-45c0-8d4e-e1102a688019",
   "metadata": {},
   "outputs": [],
   "source": [
    " \"\"\"Flask is used in this web scraping project to build a web application that can present the scraped data to users in a user-friendly way. Flask is a lightweight web framework for Python that allows developers to quickly create web applications.\"\"\""
   ]
  },
  {
   "cell_type": "code",
   "execution_count": null,
   "id": "8d0a5c2f-9f50-418c-a019-ffff5bfada74",
   "metadata": {},
   "outputs": [],
   "source": []
  },
  {
   "cell_type": "markdown",
   "id": "413160ab-10ba-40bd-b920-5331c05d8be2",
   "metadata": {},
   "source": [
    "# ANSWER 5"
   ]
  },
  {
   "cell_type": "code",
   "execution_count": null,
   "id": "1f06aa2d-e9d5-48d4-9139-b6381acbe8f1",
   "metadata": {},
   "outputs": [],
   "source": []
  },
  {
   "cell_type": "code",
   "execution_count": null,
   "id": "9edba410-6902-44d9-a1a5-43d061f54fe5",
   "metadata": {},
   "outputs": [],
   "source": []
  },
  {
   "cell_type": "code",
   "execution_count": null,
   "id": "d9649fe9-ab25-4e02-9e89-1a994d57ceb5",
   "metadata": {},
   "outputs": [],
   "source": []
  },
  {
   "cell_type": "code",
   "execution_count": null,
   "id": "bca1fe7c-9d36-4160-b692-d313182fee41",
   "metadata": {},
   "outputs": [],
   "source": []
  },
  {
   "cell_type": "code",
   "execution_count": null,
   "id": "59c66c2a-f61c-46c1-9cc4-f29ced8cfa8f",
   "metadata": {},
   "outputs": [],
   "source": []
  },
  {
   "cell_type": "code",
   "execution_count": null,
   "id": "db6efe41-f5bb-40c8-aa1d-ef150e28b13e",
   "metadata": {},
   "outputs": [],
   "source": []
  },
  {
   "cell_type": "code",
   "execution_count": null,
   "id": "0c6f9e83-fb9c-4de0-b323-43bdddb2daff",
   "metadata": {},
   "outputs": [],
   "source": []
  },
  {
   "cell_type": "code",
   "execution_count": null,
   "id": "d6b41e7f-a7c3-44e7-b5f0-2e3363f6f28b",
   "metadata": {},
   "outputs": [],
   "source": []
  },
  {
   "cell_type": "code",
   "execution_count": null,
   "id": "7bb11d2a-5cb1-452f-b3dd-5340dcad9d4a",
   "metadata": {},
   "outputs": [],
   "source": []
  },
  {
   "cell_type": "code",
   "execution_count": null,
   "id": "381789f6-add7-416d-bb43-caee3404fc16",
   "metadata": {},
   "outputs": [],
   "source": []
  },
  {
   "cell_type": "code",
   "execution_count": null,
   "id": "edac4d08-caf7-45dd-8728-bb7151676de2",
   "metadata": {},
   "outputs": [],
   "source": []
  }
 ],
 "metadata": {
  "kernelspec": {
   "display_name": "Python 3 (ipykernel)",
   "language": "python",
   "name": "python3"
  },
  "language_info": {
   "codemirror_mode": {
    "name": "ipython",
    "version": 3
   },
   "file_extension": ".py",
   "mimetype": "text/x-python",
   "name": "python",
   "nbconvert_exporter": "python",
   "pygments_lexer": "ipython3",
   "version": "3.10.6"
  }
 },
 "nbformat": 4,
 "nbformat_minor": 5
}
