{
 "cells": [
  {
   "cell_type": "markdown",
   "id": "65760fdb-c0d2-435f-8fff-4943a1d68334",
   "metadata": {},
   "source": [
    "# ANSWER 1"
   ]
  },
  {
   "cell_type": "markdown",
   "id": "d3a831f3-5ef6-4f77-a447-1356edb965a3",
   "metadata": {},
   "source": [
    "Flask is a lightweight web framework in Python. Its advantages include simplicity, flexibility, extensibility, efficient resource usage, built-in testing support, excellent documentation, and integration with other Python libraries and frameworks."
   ]
  },
  {
   "cell_type": "code",
   "execution_count": null,
   "id": "b2f413de-1167-4284-864a-a99b4f324a85",
   "metadata": {},
   "outputs": [],
   "source": []
  },
  {
   "cell_type": "markdown",
   "id": "f522e2b0-c924-457b-9ea0-8795491642cf",
   "metadata": {},
   "source": [
    "# ANSWER 2"
   ]
  },
  {
   "cell_type": "markdown",
   "id": "007930e1-a107-45eb-99dd-7938f805ac13",
   "metadata": {},
   "source": [
    "from flask import Flask\n",
    "from flask import request\n",
    "\n",
    "app = Flask(__name__)\n",
    "\n",
    "@app.route(\"/helloworld\")\n",
    "def helloworld():\n",
    "    return \"Hello world\"\n",
    "\n",
    "\n",
    "\n",
    "\n",
    "\n",
    "\n",
    "if __name__==\"__main__\":\n",
    "    app.run(host=\"0.0.0.0\")"
   ]
  },
  {
   "cell_type": "markdown",
   "id": "5bc098f1-df83-4cfd-bbf1-03f3afa233f7",
   "metadata": {},
   "source": [
    "Screenshot is attached"
   ]
  },
  {
   "cell_type": "code",
   "execution_count": null,
   "id": "8d712da7-41a8-4c14-9d9c-11161ca79d7b",
   "metadata": {},
   "outputs": [],
   "source": []
  },
  {
   "cell_type": "markdown",
   "id": "361f4969-8c1f-4e68-b071-613de68def9c",
   "metadata": {},
   "source": [
    "# ANSWER 3"
   ]
  },
  {
   "cell_type": "markdown",
   "id": "a7564096-daa9-4e81-913c-a870d20ac7d3",
   "metadata": {},
   "source": [
    "\n",
    "App routing in Flask refers to the process of defining the URLs and associating them with specific functions in your web application. It helps in handling different types of requests (like GET or POST) for different URLs. By using app routes, you can control what happens when a user visits a particular URL. It allows you to organize your application, handle different pages or functionalities, and separate the logic from the presentation. App routes make your code more structured, maintainable, and scalable."
   ]
  },
  {
   "cell_type": "code",
   "execution_count": null,
   "id": "0baba837-0669-4c1b-8d8b-488eafe39465",
   "metadata": {},
   "outputs": [],
   "source": []
  },
  {
   "cell_type": "markdown",
   "id": "deb5d011-b257-455e-a323-11de20d2f86d",
   "metadata": {},
   "source": [
    "# ANSWER 4"
   ]
  },
  {
   "cell_type": "markdown",
   "id": "9b354930-0ddd-4278-a933-068dc4adcf59",
   "metadata": {},
   "source": [
    "ATTACHED"
   ]
  },
  {
   "cell_type": "code",
   "execution_count": null,
   "id": "81df4f3e-88ac-436b-8a7d-8c4ac4b0a7bb",
   "metadata": {},
   "outputs": [],
   "source": []
  },
  {
   "cell_type": "markdown",
   "id": "b51a3393-c88f-40ba-9c41-1678d5afb883",
   "metadata": {},
   "source": [
    "# ANSWER 5"
   ]
  },
  {
   "cell_type": "code",
   "execution_count": null,
   "id": "d8923919-ccaa-4479-b3d8-adf3fd2100d0",
   "metadata": {},
   "outputs": [],
   "source": [
    "we use request for url building"
   ]
  }
 ],
 "metadata": {
  "kernelspec": {
   "display_name": "Python 3 (ipykernel)",
   "language": "python",
   "name": "python3"
  },
  "language_info": {
   "codemirror_mode": {
    "name": "ipython",
    "version": 3
   },
   "file_extension": ".py",
   "mimetype": "text/x-python",
   "name": "python",
   "nbconvert_exporter": "python",
   "pygments_lexer": "ipython3",
   "version": "3.10.6"
  }
 },
 "nbformat": 4,
 "nbformat_minor": 5
}
