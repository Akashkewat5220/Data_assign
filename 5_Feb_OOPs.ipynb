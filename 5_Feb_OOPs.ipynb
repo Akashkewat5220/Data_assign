{
 "cells": [
  {
   "cell_type": "markdown",
   "id": "6e2cac88-fd1c-4c00-922c-4ab97ab2637c",
   "metadata": {},
   "source": [
    "# 1 "
   ]
  },
  {
   "cell_type": "code",
   "execution_count": 1,
   "id": "54f8dfff-cd88-446d-a25d-6443c42b4736",
   "metadata": {},
   "outputs": [],
   "source": [
    "# classes are the instance of the objects\n",
    "# Object are used to define the property of an method"
   ]
  },
  {
   "cell_type": "code",
   "execution_count": null,
   "id": "98a5b75f-d50b-4557-bdd8-10e41110f4b3",
   "metadata": {},
   "outputs": [],
   "source": []
  },
  {
   "cell_type": "markdown",
   "id": "a600cf14-0253-4b1d-9bb9-ca8c28109d9b",
   "metadata": {},
   "source": [
    "# 2"
   ]
  },
  {
   "cell_type": "code",
   "execution_count": 3,
   "id": "56846fe0-b76f-4d92-a56b-3e45bddfca2b",
   "metadata": {},
   "outputs": [],
   "source": [
    "# Pilllars of the OOps are as follow.\n",
    "#1. Polymorphism\n",
    "#2 . Inheritance \n",
    "#3. Abstraction\n",
    "#4. Encapsulation"
   ]
  },
  {
   "cell_type": "code",
   "execution_count": null,
   "id": "6980a068-900f-4efd-b3e9-fb0c630c9e41",
   "metadata": {},
   "outputs": [],
   "source": []
  },
  {
   "cell_type": "markdown",
   "id": "8584a248-afbe-46cd-9cc9-fcad1f96ee07",
   "metadata": {},
   "source": [
    "# 3 "
   ]
  },
  {
   "cell_type": "code",
   "execution_count": null,
   "id": "e484c1d8-13f4-463e-b9d5-d3c79312cda4",
   "metadata": {},
   "outputs": [],
   "source": [
    "# The __init__() function is a special method in Python classes that is automatically called when an object is created from a class\n"
   ]
  },
  {
   "cell_type": "code",
   "execution_count": null,
   "id": "79931626-c13f-47db-ab33-85735abc9ba5",
   "metadata": {},
   "outputs": [],
   "source": []
  },
  {
   "cell_type": "markdown",
   "id": "ee61fbec-d3a8-4b61-93eb-9c7647dadbd1",
   "metadata": {},
   "source": [
    "# 4 "
   ]
  },
  {
   "cell_type": "code",
   "execution_count": 5,
   "id": "94283ee5-8200-4d1f-95f0-0b7dd020b6a8",
   "metadata": {},
   "outputs": [],
   "source": [
    "# In Object-Oriented Programming (OOP), the self parameter is used to refer to the instance of the class within the class itself. It is a convention in Python to use self as the first parameter name in method definitions within a class."
   ]
  },
  {
   "cell_type": "code",
   "execution_count": null,
   "id": "69e94b8c-3279-4dce-b702-b397e9bf548e",
   "metadata": {},
   "outputs": [],
   "source": []
  },
  {
   "cell_type": "markdown",
   "id": "5b5cb9fd-feac-452e-9074-4c6ae57220b1",
   "metadata": {},
   "source": [
    "# 5"
   ]
  },
  {
   "cell_type": "code",
   "execution_count": null,
   "id": "7d65a555-dce0-479b-bcc2-f248c22b6d7b",
   "metadata": {},
   "outputs": [],
   "source": []
  },
  {
   "cell_type": "code",
   "execution_count": null,
   "id": "17863898-2af5-47fc-ba4f-13dbef4ff208",
   "metadata": {},
   "outputs": [],
   "source": []
  },
  {
   "cell_type": "code",
   "execution_count": null,
   "id": "58dbbb0f-9545-4803-8110-2851922fb493",
   "metadata": {},
   "outputs": [],
   "source": []
  },
  {
   "cell_type": "code",
   "execution_count": null,
   "id": "1010a0ea-149e-49ab-aa9e-e6dbba462d3e",
   "metadata": {},
   "outputs": [],
   "source": []
  },
  {
   "cell_type": "code",
   "execution_count": null,
   "id": "499e18f0-3dcf-4cda-9b0c-cb9b4eba75c2",
   "metadata": {},
   "outputs": [],
   "source": []
  },
  {
   "cell_type": "code",
   "execution_count": null,
   "id": "208c84b8-de23-476a-98ba-ad22a001dfe1",
   "metadata": {},
   "outputs": [],
   "source": []
  }
 ],
 "metadata": {
  "kernelspec": {
   "display_name": "Python 3 (ipykernel)",
   "language": "python",
   "name": "python3"
  },
  "language_info": {
   "codemirror_mode": {
    "name": "ipython",
    "version": 3
   },
   "file_extension": ".py",
   "mimetype": "text/x-python",
   "name": "python",
   "nbconvert_exporter": "python",
   "pygments_lexer": "ipython3",
   "version": "3.10.6"
  }
 },
 "nbformat": 4,
 "nbformat_minor": 5
}
