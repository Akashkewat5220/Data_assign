{
 "cells": [
  {
   "cell_type": "code",
   "execution_count": 1,
   "id": "8ddfd7dc-f412-4eab-99c4-9d9275a0df0b",
   "metadata": {},
   "outputs": [],
   "source": [
    "###1. Python programming language was developed by Guido van Rossum.\n",
    "## 2. Python supports both object-oriented programming and procedural programming.\n",
    "# 3. Yes, Python is case-sensitive when dealing with identifiers.\n",
    "# 4. The correct extension for Python files is \".py\".\n",
    "# 5. Python code is interpreted.\n",
    "# 6. Code blocks in Python are defined using indentation.\n",
    "# 7. The \"#\" character is used for single-line comments in Python.\n",
    "# 8. Functions like `sys.version` and `sys.version_info` can help find the Python version.\n",
    "# 9. Python supports the creation of anonymous functions at runtime using lambda functions.\n",
    "# 10. \"pip\" stands for \"Pip Installs Packages\" or \"Pip Installs Python\".\n",
    "# 11. Built-in functions in Python include `print()`, `len()`, `range()`, etc.\n",
    "# 12. The maximum length of an identifier in Python is implementation-dependent.\n",
    " ## 13. Benefits of using Python include readability, wide range of libraries, platform independence, integration capabilities, and a large community.\n",
    " #14. Memory management in Python is handled automatically through garbage collection.\n",
    "# 15. To install Python on Windows, download the installer from the official website, run it, and check the \"Add Python to PATH\" option.\n",
    "# 16. Yes, indentation is required in Python to define code blocks and maintain proper syntax."
   ]
  },
  {
   "cell_type": "code",
   "execution_count": null,
   "id": "3e49eb54-6d61-4f9f-83ce-a0838a4b7613",
   "metadata": {},
   "outputs": [],
   "source": []
  }
 ],
 "metadata": {
  "kernelspec": {
   "display_name": "Python 3 (ipykernel)",
   "language": "python",
   "name": "python3"
  },
  "language_info": {
   "codemirror_mode": {
    "name": "ipython",
    "version": 3
   },
   "file_extension": ".py",
   "mimetype": "text/x-python",
   "name": "python",
   "nbconvert_exporter": "python",
   "pygments_lexer": "ipython3",
   "version": "3.10.6"
  }
 },
 "nbformat": 4,
 "nbformat_minor": 5
}
