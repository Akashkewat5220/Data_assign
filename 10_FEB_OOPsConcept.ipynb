{
 "cells": [
  {
   "cell_type": "markdown",
   "id": "054e5461-b2d0-46c8-8adc-c6dbac1ce452",
   "metadata": {},
   "source": [
    "# 1 "
   ]
  },
  {
   "cell_type": "raw",
   "id": "26468867-a1ca-4937-a174-779dea8a666e",
   "metadata": {},
   "source": [
    "In Python, the open() function is used to open a file. It takes the filename as a parameter and returns a file object that can be used to perform various operations on the file"
   ]
  },
  {
   "cell_type": "code",
   "execution_count": null,
   "id": "8b7cabd8-5124-4c14-8a05-30d5f7f17a7b",
   "metadata": {},
   "outputs": [],
   "source": []
  },
  {
   "cell_type": "markdown",
   "id": "3a9888b8-319b-4eb1-af4c-7a1228f4dbec",
   "metadata": {},
   "source": [
    "# 2 "
   ]
  },
  {
   "cell_type": "raw",
   "id": "c344f09f-3863-4a46-8ba2-cb605d7b39d0",
   "metadata": {},
   "source": [
    " The close() function is used to close a file that has been opened using the open() function.\n",
    "  It is important to close a file after performing operations on it because it releases the system resources associated with the file. When a file is closed, any buffers used for reading or writing are flushed, and the file is made available for other programs or processes to access."
   ]
  },
  {
   "cell_type": "markdown",
   "id": "64a9ec1a-4f96-4653-9cc2-39e84ad2c96c",
   "metadata": {},
   "source": [
    "# 3 "
   ]
  },
  {
   "cell_type": "code",
   "execution_count": 1,
   "id": "a8f9f2d2-2754-4832-a8e2-65e227fc651a",
   "metadata": {},
   "outputs": [
    {
     "name": "stdout",
     "output_type": "stream",
     "text": [
      "I want to become a Data Scientist\n"
     ]
    }
   ],
   "source": [
    "# Create a text file and write content\n",
    "with open('example.txt', 'w') as file:\n",
    "    file.write('I want to become a Data Scientist')\n",
    "\n",
    "# Read the contents of the file\n",
    "with open('example.txt', 'r') as file:\n",
    "    content = file.read()\n",
    "\n",
    "print(content)\n"
   ]
  },
  {
   "cell_type": "code",
   "execution_count": null,
   "id": "485e4c21-72ba-46bc-b8e7-e0ad929e79ca",
   "metadata": {},
   "outputs": [],
   "source": []
  },
  {
   "cell_type": "markdown",
   "id": "6b7060ca-2140-4a2b-821e-436d27670e59",
   "metadata": {},
   "source": [
    "# 4 "
   ]
  },
  {
   "cell_type": "code",
   "execution_count": 2,
   "id": "851ec589-ab21-4d8c-9eb4-c57e5d1241d0",
   "metadata": {},
   "outputs": [],
   "source": [
    "with open('example.txt', 'r') as file:\n",
    "    content = file.read()\n"
   ]
  },
  {
   "cell_type": "code",
   "execution_count": 3,
   "id": "15ccab04-0313-42f8-be2c-ed3912b0b3b9",
   "metadata": {},
   "outputs": [],
   "source": [
    "with open('example.txt', 'r') as file:\n",
    "    line1 = file.readline()\n",
    "    line2 = file.readline()\n"
   ]
  },
  {
   "cell_type": "code",
   "execution_count": 4,
   "id": "19073dbd-574e-4cb5-b700-7541637ad940",
   "metadata": {},
   "outputs": [],
   "source": [
    "with open('example.txt', 'r') as file:\n",
    "    lines = file.readlines()\n"
   ]
  },
  {
   "cell_type": "code",
   "execution_count": null,
   "id": "16895955-5246-4b5c-bc74-d7fe1706edc1",
   "metadata": {},
   "outputs": [],
   "source": []
  },
  {
   "cell_type": "markdown",
   "id": "bb9348df-62d0-4e86-9135-90f71f17fc3d",
   "metadata": {},
   "source": [
    "# 5 "
   ]
  },
  {
   "cell_type": "raw",
   "id": "0f678971-9a64-4e31-8d58-8e44bd195850",
   "metadata": {},
   "source": [
    "The with statement is used with the open() function to provide a context manager that automatically takes care of closing the file after the operations are done. It ensures that the file is properly closed, even if an exception occurs during the execution."
   ]
  },
  {
   "cell_type": "code",
   "execution_count": null,
   "id": "a3b3a515-f54d-456b-bc90-2615437c4853",
   "metadata": {},
   "outputs": [],
   "source": []
  },
  {
   "cell_type": "markdown",
   "id": "ba8f5d38-f137-4f26-9092-887eb6ea2071",
   "metadata": {},
   "source": [
    "# 6"
   ]
  },
  {
   "cell_type": "code",
   "execution_count": null,
   "id": "fef90ddf-4b67-46dc-8e5a-1cefd0fbe7ff",
   "metadata": {},
   "outputs": [],
   "source": []
  },
  {
   "cell_type": "code",
   "execution_count": null,
   "id": "c1c8cf8d-f64a-4437-97bb-814bec6045cb",
   "metadata": {},
   "outputs": [],
   "source": []
  },
  {
   "cell_type": "code",
   "execution_count": null,
   "id": "87fc2f86-eb28-41b4-9a0f-c7a6095c5634",
   "metadata": {},
   "outputs": [],
   "source": []
  },
  {
   "cell_type": "code",
   "execution_count": null,
   "id": "c23a4ad0-9c1a-4f59-b35c-0d37872a0ce5",
   "metadata": {},
   "outputs": [],
   "source": []
  },
  {
   "cell_type": "code",
   "execution_count": null,
   "id": "d9b6eca4-4dac-4d3f-bb18-312d6e91018d",
   "metadata": {},
   "outputs": [],
   "source": []
  },
  {
   "cell_type": "code",
   "execution_count": null,
   "id": "5bed34e9-f0ed-4ec4-835a-7b54e48ba7d4",
   "metadata": {},
   "outputs": [],
   "source": []
  },
  {
   "cell_type": "code",
   "execution_count": null,
   "id": "b91b5f0b-7cfe-4d99-971b-a1ac7b36bb36",
   "metadata": {},
   "outputs": [],
   "source": []
  },
  {
   "cell_type": "code",
   "execution_count": null,
   "id": "8246957b-6b32-4552-9040-ed5e278ce32e",
   "metadata": {},
   "outputs": [],
   "source": []
  },
  {
   "cell_type": "code",
   "execution_count": null,
   "id": "cb8f334c-0616-43f7-b6bc-2bc6337d78f1",
   "metadata": {},
   "outputs": [],
   "source": []
  },
  {
   "cell_type": "code",
   "execution_count": null,
   "id": "12e71425-5c9b-44a1-b9cb-ad121d508361",
   "metadata": {},
   "outputs": [],
   "source": []
  },
  {
   "cell_type": "code",
   "execution_count": null,
   "id": "74bdc61a-1de1-4d71-9376-80197d85e21d",
   "metadata": {},
   "outputs": [],
   "source": []
  },
  {
   "cell_type": "code",
   "execution_count": null,
   "id": "6bbf5027-5a44-4680-83cf-e9c38c3b31b4",
   "metadata": {},
   "outputs": [],
   "source": []
  },
  {
   "cell_type": "code",
   "execution_count": null,
   "id": "acd89b0a-7ffd-41b4-ab70-8eb67150895d",
   "metadata": {},
   "outputs": [],
   "source": []
  },
  {
   "cell_type": "code",
   "execution_count": null,
   "id": "7518a641-cab3-4208-b39e-6a5545b0d85a",
   "metadata": {},
   "outputs": [],
   "source": []
  },
  {
   "cell_type": "code",
   "execution_count": null,
   "id": "60d46ad9-d623-4c73-8d34-604a942dcd32",
   "metadata": {},
   "outputs": [],
   "source": []
  },
  {
   "cell_type": "code",
   "execution_count": null,
   "id": "8f65298a-b8e8-4552-ad6d-0b58f52f5e77",
   "metadata": {},
   "outputs": [],
   "source": []
  },
  {
   "cell_type": "code",
   "execution_count": null,
   "id": "045255d6-1e5c-439d-9f2a-ac8dd98e362b",
   "metadata": {},
   "outputs": [],
   "source": []
  },
  {
   "cell_type": "code",
   "execution_count": null,
   "id": "4f0364c1-d51b-4046-b1d2-bc79b1383316",
   "metadata": {},
   "outputs": [],
   "source": []
  },
  {
   "cell_type": "code",
   "execution_count": null,
   "id": "44363f86-5719-4690-b306-975e79a5591f",
   "metadata": {},
   "outputs": [],
   "source": []
  },
  {
   "cell_type": "code",
   "execution_count": null,
   "id": "3f77c083-10fc-4686-8632-c3a0a8a8aee7",
   "metadata": {},
   "outputs": [],
   "source": []
  },
  {
   "cell_type": "code",
   "execution_count": null,
   "id": "440677e8-a2f5-4008-b8cd-a77d80f37487",
   "metadata": {},
   "outputs": [],
   "source": []
  },
  {
   "cell_type": "code",
   "execution_count": null,
   "id": "e759e595-9e26-4168-abf5-57c78b3da7fa",
   "metadata": {},
   "outputs": [],
   "source": []
  },
  {
   "cell_type": "code",
   "execution_count": null,
   "id": "4a6cd35c-3447-43a1-bdd4-65a644faac64",
   "metadata": {},
   "outputs": [],
   "source": []
  },
  {
   "cell_type": "code",
   "execution_count": null,
   "id": "70d2c409-cf74-43b2-bf67-164b7cbe03ae",
   "metadata": {},
   "outputs": [],
   "source": []
  },
  {
   "cell_type": "code",
   "execution_count": null,
   "id": "e7457d18-3162-43d9-941d-35e9b780c24e",
   "metadata": {},
   "outputs": [],
   "source": []
  },
  {
   "cell_type": "code",
   "execution_count": null,
   "id": "d80da3c4-4f6a-4c59-a3ee-ca08c74fe47c",
   "metadata": {},
   "outputs": [],
   "source": []
  },
  {
   "cell_type": "code",
   "execution_count": null,
   "id": "2380fb6e-2b22-45fc-ae02-65b0d567fa61",
   "metadata": {},
   "outputs": [],
   "source": []
  },
  {
   "cell_type": "code",
   "execution_count": null,
   "id": "3d8dc287-5549-47ab-8095-c02dae647a04",
   "metadata": {},
   "outputs": [],
   "source": []
  },
  {
   "cell_type": "code",
   "execution_count": null,
   "id": "3c6af004-50e9-4bbd-afa3-65c28191fd48",
   "metadata": {},
   "outputs": [],
   "source": []
  },
  {
   "cell_type": "code",
   "execution_count": null,
   "id": "6039cbfe-2d30-433a-b0c5-fbbc3c93d88b",
   "metadata": {},
   "outputs": [],
   "source": []
  },
  {
   "cell_type": "code",
   "execution_count": null,
   "id": "2d730fcc-9e89-44b4-bc9d-4d3c7dbe0675",
   "metadata": {},
   "outputs": [],
   "source": []
  },
  {
   "cell_type": "code",
   "execution_count": null,
   "id": "fe8feeb5-f5d7-4f86-99f0-0ae4e75d1c7e",
   "metadata": {},
   "outputs": [],
   "source": []
  },
  {
   "cell_type": "code",
   "execution_count": null,
   "id": "58eecb2f-7318-46c2-bd66-2d0808725df6",
   "metadata": {},
   "outputs": [],
   "source": []
  },
  {
   "cell_type": "code",
   "execution_count": null,
   "id": "7794e415-c9a6-4dd2-81fe-11848fbf8fd5",
   "metadata": {},
   "outputs": [],
   "source": []
  },
  {
   "cell_type": "code",
   "execution_count": null,
   "id": "7f385b7d-8900-4c43-9d64-b4803b8d5a73",
   "metadata": {},
   "outputs": [],
   "source": []
  },
  {
   "cell_type": "code",
   "execution_count": null,
   "id": "b72d8403-b132-4f65-b4e0-5fcab8bf9864",
   "metadata": {},
   "outputs": [],
   "source": []
  },
  {
   "cell_type": "code",
   "execution_count": null,
   "id": "2859cdd6-ac4f-4a0a-887e-eee4a8e0c2c4",
   "metadata": {},
   "outputs": [],
   "source": []
  },
  {
   "cell_type": "code",
   "execution_count": null,
   "id": "40043e0a-2967-4f9a-a2a0-122cbbf74ec8",
   "metadata": {},
   "outputs": [],
   "source": []
  },
  {
   "cell_type": "code",
   "execution_count": null,
   "id": "92f669cf-9916-4cb7-accf-68c32f655284",
   "metadata": {},
   "outputs": [],
   "source": []
  },
  {
   "cell_type": "code",
   "execution_count": null,
   "id": "191ab929-3c36-40cc-882f-fe50f091e7f1",
   "metadata": {},
   "outputs": [],
   "source": []
  },
  {
   "cell_type": "code",
   "execution_count": null,
   "id": "58e69493-6d4c-476d-bbb9-e1957acba2c3",
   "metadata": {},
   "outputs": [],
   "source": []
  },
  {
   "cell_type": "code",
   "execution_count": null,
   "id": "91632073-8222-4b3f-adcc-c3661429a9bf",
   "metadata": {},
   "outputs": [],
   "source": []
  },
  {
   "cell_type": "code",
   "execution_count": null,
   "id": "1de95ccb-e8f8-42fe-8eb1-fe40ffe98c7e",
   "metadata": {},
   "outputs": [],
   "source": []
  },
  {
   "cell_type": "code",
   "execution_count": null,
   "id": "218a2e14-9e01-4068-8b5b-3c075fde4d71",
   "metadata": {},
   "outputs": [],
   "source": []
  },
  {
   "cell_type": "code",
   "execution_count": null,
   "id": "1bc6d712-cc68-408a-bb70-ac329d26fad0",
   "metadata": {},
   "outputs": [],
   "source": []
  },
  {
   "cell_type": "code",
   "execution_count": null,
   "id": "197b6d98-544f-49ed-9c82-ddcbed7c0ce3",
   "metadata": {},
   "outputs": [],
   "source": []
  },
  {
   "cell_type": "code",
   "execution_count": null,
   "id": "b477f37b-1ad1-4670-a091-e2a9757a7656",
   "metadata": {},
   "outputs": [],
   "source": []
  },
  {
   "cell_type": "code",
   "execution_count": null,
   "id": "8b1bb914-1b40-4ecd-aae6-93a18fc4e1b1",
   "metadata": {},
   "outputs": [],
   "source": []
  },
  {
   "cell_type": "code",
   "execution_count": null,
   "id": "ce996443-d584-4073-9ab0-8816a500421f",
   "metadata": {},
   "outputs": [],
   "source": []
  },
  {
   "cell_type": "code",
   "execution_count": null,
   "id": "49ad3c01-ad53-48ec-b7eb-71c7f9222139",
   "metadata": {},
   "outputs": [],
   "source": []
  },
  {
   "cell_type": "code",
   "execution_count": null,
   "id": "fb6226ad-ccbf-4535-b90a-6f0d84b2aba3",
   "metadata": {},
   "outputs": [],
   "source": []
  },
  {
   "cell_type": "code",
   "execution_count": null,
   "id": "6818f947-36a1-4d7d-9be4-5f8bb26ca1b8",
   "metadata": {},
   "outputs": [],
   "source": []
  },
  {
   "cell_type": "code",
   "execution_count": null,
   "id": "19b7d18a-e946-431d-90b0-317a696e327a",
   "metadata": {},
   "outputs": [],
   "source": []
  }
 ],
 "metadata": {
  "kernelspec": {
   "display_name": "Python 3 (ipykernel)",
   "language": "python",
   "name": "python3"
  },
  "language_info": {
   "codemirror_mode": {
    "name": "ipython",
    "version": 3
   },
   "file_extension": ".py",
   "mimetype": "text/x-python",
   "name": "python",
   "nbconvert_exporter": "python",
   "pygments_lexer": "ipython3",
   "version": "3.10.6"
  }
 },
 "nbformat": 4,
 "nbformat_minor": 5
}
