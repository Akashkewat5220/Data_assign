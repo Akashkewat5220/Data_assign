{
 "cells": [
  {
   "cell_type": "markdown",
   "id": "585ad0cf-0e0b-4466-ad48-1c1798d0ae40",
   "metadata": {},
   "source": [
    "# ANSWER  1\n"
   ]
  },
  {
   "cell_type": "code",
   "execution_count": 2,
   "id": "4f520f43-a80c-4906-9d7d-32232d7b7ae5",
   "metadata": {},
   "outputs": [],
   "source": [
    "import pandas as pd"
   ]
  },
  {
   "cell_type": "code",
   "execution_count": 4,
   "id": "00af679f-f83a-485c-9749-baa4e4e769d3",
   "metadata": {},
   "outputs": [
    {
     "name": "stdout",
     "output_type": "stream",
     "text": [
      "0     4\n",
      "1     8\n",
      "2    15\n",
      "3    16\n",
      "4    23\n",
      "5    42\n",
      "dtype: int64\n"
     ]
    }
   ],
   "source": [
    "data = 4, 8, 15, 16, 23, 42\n",
    "series = pd.Series(data)\n",
    "print(series)"
   ]
  },
  {
   "cell_type": "code",
   "execution_count": null,
   "id": "e79fae92-262c-460a-8e94-436f723c0a39",
   "metadata": {},
   "outputs": [],
   "source": []
  },
  {
   "cell_type": "markdown",
   "id": "8f2bae95-7539-4f61-b757-e74a9db76065",
   "metadata": {},
   "source": [
    "# ANSWER 2"
   ]
  },
  {
   "cell_type": "code",
   "execution_count": 6,
   "id": "dafba57f-8424-4f62-b517-0ce2bdfc0c5e",
   "metadata": {},
   "outputs": [
    {
     "name": "stdout",
     "output_type": "stream",
     "text": [
      "0     1\n",
      "1     2\n",
      "2     3\n",
      "3     4\n",
      "4     5\n",
      "5     6\n",
      "6     7\n",
      "7     8\n",
      "8     9\n",
      "9    10\n",
      "dtype: int64\n"
     ]
    }
   ],
   "source": [
    "list = [1,2,3,4,5,6,7,8,9,10]\n",
    "series = pd.Series(list)\n",
    "print(series)"
   ]
  },
  {
   "cell_type": "code",
   "execution_count": null,
   "id": "701d674d-c977-4025-87fa-5548af2c20be",
   "metadata": {},
   "outputs": [],
   "source": []
  },
  {
   "cell_type": "markdown",
   "id": "4455793f-cf24-41f9-bf40-255ecc9fc501",
   "metadata": {},
   "source": [
    "# ANSWER 3"
   ]
  },
  {
   "cell_type": "code",
   "execution_count": 9,
   "id": "8e79a4b5-98db-49e3-a780-cc6b073c62c6",
   "metadata": {},
   "outputs": [
    {
     "name": "stdout",
     "output_type": "stream",
     "text": [
      "     Name Age  Gender\n",
      "0   Alice  25  Female\n",
      "1     Bob  30    Male\n",
      "2  Claire  27  Female\n"
     ]
    }
   ],
   "source": [
    "import pandas as pd\n",
    "\n",
    "data = {'Name':  ['Alice', 'Bob', 'Claire'],\n",
    "        'Age': ['25', '30', '27'],\n",
    "        'Gender' :['Female' , 'Male' , 'Female']\n",
    "        }\n",
    "\n",
    "df = pd.DataFrame(data)\n",
    "\n",
    "print(df)"
   ]
  },
  {
   "cell_type": "code",
   "execution_count": null,
   "id": "76650756-ac6e-4862-84e4-fc130b286405",
   "metadata": {},
   "outputs": [],
   "source": []
  },
  {
   "cell_type": "markdown",
   "id": "6520b2d4-69bf-4ab3-99b2-406cd59ecc84",
   "metadata": {},
   "source": [
    "# ANSWER 4"
   ]
  },
  {
   "cell_type": "markdown",
   "id": "8a6ef165-b347-4473-8e5e-1341827ff320",
   "metadata": {},
   "source": [
    "In Pandas, a DataFrame is a two-dimensional labeled data structure that consists of rows and columns.\n",
    "Dataframe is the collection of multiple datas in form of rows and columns.\n",
    "Above example is the example of the dataframe."
   ]
  },
  {
   "cell_type": "code",
   "execution_count": 10,
   "id": "c47d24cc-7d8e-4fd1-a322-53cae01195de",
   "metadata": {},
   "outputs": [
    {
     "data": {
      "text/plain": [
       "pandas.core.frame.DataFrame"
      ]
     },
     "execution_count": 10,
     "metadata": {},
     "output_type": "execute_result"
    }
   ],
   "source": [
    "type(df)"
   ]
  },
  {
   "cell_type": "code",
   "execution_count": null,
   "id": "2813a919-4eb7-4ca0-a292-c1da7f8ec95d",
   "metadata": {},
   "outputs": [],
   "source": []
  },
  {
   "cell_type": "markdown",
   "id": "9f97e4ee-5eb1-4d5e-abf3-dd6e399bc478",
   "metadata": {},
   "source": [
    "# ANSWER 5"
   ]
  },
  {
   "cell_type": "markdown",
   "id": "15b70b96-50a9-4f42-b2c2-a5df479162a9",
   "metadata": {},
   "source": [
    "describe() = count, mean, standard deviation, minimum, maximum, for numerical data only\n",
    "head() and tail(): These functions allow you to view the first few rows (head()) or the last few rows (tail()) of a DataFrame. They are useful for quickly inspecting the data.\n",
    "drop(): This function is used to remove rows or columns from a DataFrame. It is useful when you want to eliminate unnecessary or redundant data"
   ]
  },
  {
   "cell_type": "code",
   "execution_count": null,
   "id": "52527003-ec18-450e-9eb9-6c9f25ebfcb5",
   "metadata": {},
   "outputs": [],
   "source": []
  },
  {
   "cell_type": "markdown",
   "id": "92d8f652-3121-4531-b869-3f4ec673cc0b",
   "metadata": {},
   "source": [
    "# ANSWER 6"
   ]
  },
  {
   "cell_type": "markdown",
   "id": "99e88d73-f8d9-4efe-9ed7-cb9aca2baf05",
   "metadata": {},
   "source": [
    "Dataframae is mutable in nature , we can add or remove the row or column as per our needs."
   ]
  },
  {
   "cell_type": "code",
   "execution_count": null,
   "id": "e409356c-f0dd-4981-a97e-0b74409dc3c0",
   "metadata": {},
   "outputs": [],
   "source": []
  },
  {
   "cell_type": "markdown",
   "id": "18d3a65b-48dc-4d44-9367-a0a8e07b5c60",
   "metadata": {},
   "source": [
    "# ANSWER  7"
   ]
  },
  {
   "cell_type": "code",
   "execution_count": 11,
   "id": "700cbd95-1d90-4587-b1d5-191259bb23b1",
   "metadata": {},
   "outputs": [
    {
     "name": "stdout",
     "output_type": "stream",
     "text": [
      "   Name  Age      City\n",
      "0  John   25  New York\n",
      "1  Jane   30    London\n",
      "2  Mike   28     Paris\n"
     ]
    }
   ],
   "source": [
    "import pandas as pd\n",
    "\n",
    "# Creating Series objects\n",
    "name_series = pd.Series(['John', 'Jane', 'Mike'])\n",
    "age_series = pd.Series([25, 30, 28])\n",
    "city_series = pd.Series(['New York', 'London', 'Paris'])\n",
    "\n",
    "# Creating a DataFrame using the Series\n",
    "data = {'Name': name_series, 'Age': age_series, 'City': city_series}\n",
    "df = pd.DataFrame(data)\n",
    "\n",
    "# Printing the DataFrame\n",
    "print(df)\n"
   ]
  },
  {
   "cell_type": "code",
   "execution_count": 12,
   "id": "6cc49fbf-f5d1-40e2-a124-e702fb28d44f",
   "metadata": {},
   "outputs": [
    {
     "data": {
      "text/plain": [
       "pandas.core.frame.DataFrame"
      ]
     },
     "execution_count": 12,
     "metadata": {},
     "output_type": "execute_result"
    }
   ],
   "source": [
    "type(df)"
   ]
  },
  {
   "cell_type": "code",
   "execution_count": null,
   "id": "7eef27ee-e97a-4d82-b461-f160ed2ea0ef",
   "metadata": {},
   "outputs": [],
   "source": []
  },
  {
   "cell_type": "code",
   "execution_count": null,
   "id": "c2b13d8c-4876-4943-814e-caa329387d23",
   "metadata": {},
   "outputs": [],
   "source": []
  },
  {
   "cell_type": "code",
   "execution_count": null,
   "id": "bf30cf22-6704-472e-9135-bdbfc2efd085",
   "metadata": {},
   "outputs": [],
   "source": []
  },
  {
   "cell_type": "code",
   "execution_count": null,
   "id": "8d17856d-79b1-474a-affe-538ad99a4716",
   "metadata": {},
   "outputs": [],
   "source": []
  },
  {
   "cell_type": "code",
   "execution_count": null,
   "id": "d72a2a71-d633-4521-9ba4-4937d62064cc",
   "metadata": {},
   "outputs": [],
   "source": []
  }
 ],
 "metadata": {
  "kernelspec": {
   "display_name": "Python 3 (ipykernel)",
   "language": "python",
   "name": "python3"
  },
  "language_info": {
   "codemirror_mode": {
    "name": "ipython",
    "version": 3
   },
   "file_extension": ".py",
   "mimetype": "text/x-python",
   "name": "python",
   "nbconvert_exporter": "python",
   "pygments_lexer": "ipython3",
   "version": "3.10.6"
  }
 },
 "nbformat": 4,
 "nbformat_minor": 5
}
