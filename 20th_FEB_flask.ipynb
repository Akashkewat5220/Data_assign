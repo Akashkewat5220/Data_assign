{
 "cells": [
  {
   "cell_type": "markdown",
   "id": "02b33389-4223-4994-a503-032320085bb9",
   "metadata": {},
   "source": [
    "# ANSWER 1"
   ]
  },
  {
   "cell_type": "markdown",
   "id": "533a2f82-d22a-42fa-8488-c8de551e45c7",
   "metadata": {},
   "source": [
    "\n",
    "Q1. GET and POST methods:\n",
    "\n",
    "GET: The GET method is one of the HTTP methods used to retrieve data from a server. It is commonly used when a client wants to retrieve information from a web server. When a GET request is made, the data is typically included in the URL parameters\n",
    "\n",
    "POST: The POST method is another HTTP method used to send data to a server for processing. It is commonly used when a client wants to submit data to a web server, such as submitting a form or uploading a file."
   ]
  },
  {
   "cell_type": "code",
   "execution_count": null,
   "id": "571e0f3e-1c9a-4a5a-890a-87fd5fcb6045",
   "metadata": {},
   "outputs": [],
   "source": []
  },
  {
   "cell_type": "markdown",
   "id": "b8a131be-1fb3-48c1-b088-5e16ad220cc4",
   "metadata": {},
   "source": [
    "# ANSWER 2"
   ]
  },
  {
   "cell_type": "markdown",
   "id": "2c439a9b-cc0f-436c-9350-617b8da8685b",
   "metadata": {},
   "source": [
    "Q2. Why is request used in Flask?\n",
    "\n",
    "In Flask, the request object is provided by the Flask framework and represents an incoming HTTP request from a client. It encapsulates the information about the request, including its method, URL, headers, form data, and more.\n",
    "The request object allows Flask applications to access and process the data sent by clients. It provides attributes and methods to access parameters, form data, cookies, and files associated with the request.\n",
    "By using the request object, you can extract and handle the data sent by the client, perform necessary validations, and use it to generate appropriate responses."
   ]
  },
  {
   "cell_type": "code",
   "execution_count": null,
   "id": "d4420b40-dfb8-4eca-90b3-e0a2ebc279fd",
   "metadata": {},
   "outputs": [],
   "source": []
  },
  {
   "cell_type": "markdown",
   "id": "7a86333b-4b3e-4542-ae2a-f4d8cc55a0c5",
   "metadata": {},
   "source": [
    "# ANSWER 3"
   ]
  },
  {
   "cell_type": "markdown",
   "id": "973ae0c4-49ac-4046-a5f7-3ca62ae340e3",
   "metadata": {},
   "source": [
    "The redirect() function in Flask is used to redirect a client's request to a different URL or route within the application. It returns an HTTP response with a 302 status code, indicating a temporary redirection.\n",
    "Redirects are commonly used in web applications to navigate the user to a different page or route after performing a certain action. For example, after submitting a form, you may want to redirect the user to a \"success\" page or back to the homepage.\n",
    "The redirect() function simplifies the process of performing redirects in Flask applications by providing a convenient way to specify the destination URL or route."
   ]
  },
  {
   "cell_type": "code",
   "execution_count": null,
   "id": "80ebd361-90f0-46f7-86a5-11ac66bea18b",
   "metadata": {},
   "outputs": [],
   "source": []
  },
  {
   "cell_type": "markdown",
   "id": "15836073-98cc-4ef8-a72a-19091e194e21",
   "metadata": {},
   "source": [
    "# ANSWER 4"
   ]
  },
  {
   "cell_type": "markdown",
   "id": "c0023848-9ef4-4fbf-8033-9335a3973b1a",
   "metadata": {},
   "source": [
    "Templates in Flask are files that contain HTML (or other template languages) along with placeholders for dynamic content. They allow you to separate the presentation logic from the business logic of your application.\n",
    "\n",
    "By using templates and the render_template() function, you can generate dynamic HTML pages by combining static HTML structure with dynamic content. The placeholders in the template are replaced with actual values during rendering, allowing you to present data from your Flask application in a structured and customizable way."
   ]
  },
  {
   "cell_type": "code",
   "execution_count": null,
   "id": "4e7c6bff-0802-4a80-86cc-2b082491d29c",
   "metadata": {},
   "outputs": [],
   "source": []
  },
  {
   "cell_type": "markdown",
   "id": "46ce60bb-6744-4968-af8c-21d995e89048",
   "metadata": {},
   "source": [
    "# ANSWER 5"
   ]
  },
  {
   "cell_type": "code",
   "execution_count": null,
   "id": "7375b7a1-751b-4b05-908f-6ad9f5818d87",
   "metadata": {},
   "outputs": [],
   "source": []
  },
  {
   "cell_type": "code",
   "execution_count": null,
   "id": "dd3eee07-4840-46f9-87e3-b0332e8e03c9",
   "metadata": {},
   "outputs": [],
   "source": []
  },
  {
   "cell_type": "code",
   "execution_count": null,
   "id": "ce1976aa-966c-46c9-800b-1b7df33e7395",
   "metadata": {},
   "outputs": [],
   "source": []
  },
  {
   "cell_type": "code",
   "execution_count": null,
   "id": "b428c4ab-0591-427a-bd7e-2c9c32ff4ed4",
   "metadata": {},
   "outputs": [],
   "source": []
  },
  {
   "cell_type": "code",
   "execution_count": null,
   "id": "7b74fde1-9bfc-49cf-aa26-09d290d930c1",
   "metadata": {},
   "outputs": [],
   "source": []
  },
  {
   "cell_type": "code",
   "execution_count": null,
   "id": "8cedc878-a3fb-45e8-827a-63d507b75646",
   "metadata": {},
   "outputs": [],
   "source": []
  },
  {
   "cell_type": "code",
   "execution_count": null,
   "id": "9e872690-df76-40f9-95f0-5e2260994811",
   "metadata": {},
   "outputs": [],
   "source": []
  },
  {
   "cell_type": "code",
   "execution_count": null,
   "id": "49be32b4-8316-44dc-97e6-916605931297",
   "metadata": {},
   "outputs": [],
   "source": []
  },
  {
   "cell_type": "code",
   "execution_count": null,
   "id": "cc23552e-9126-4396-8a20-4dc6f116cc23",
   "metadata": {},
   "outputs": [],
   "source": []
  }
 ],
 "metadata": {
  "kernelspec": {
   "display_name": "Python 3 (ipykernel)",
   "language": "python",
   "name": "python3"
  },
  "language_info": {
   "codemirror_mode": {
    "name": "ipython",
    "version": 3
   },
   "file_extension": ".py",
   "mimetype": "text/x-python",
   "name": "python",
   "nbconvert_exporter": "python",
   "pygments_lexer": "ipython3",
   "version": "3.10.6"
  }
 },
 "nbformat": 4,
 "nbformat_minor": 5
}
