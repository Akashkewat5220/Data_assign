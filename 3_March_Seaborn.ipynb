{
 "cells": [
  {
   "cell_type": "markdown",
   "id": "5dd6c838-44fc-4915-9d4b-c125946c95de",
   "metadata": {},
   "source": [
    "# 1 "
   ]
  },
  {
   "cell_type": "markdown",
   "id": "c15fe57c-26fd-4931-9b4b-410cbe24463c",
   "metadata": {},
   "source": [
    "\n",
    "Answer 1:\n",
    "Here are five plots that can be created using the Seaborn library along with their uses:\n",
    "\n",
    "Scatter Plot:\n",
    "\n",
    "Uses: Scatter plots are used to visualize the relationship between two continuous variables. They help in identifying patterns, clusters, and outliers in the data.\n",
    "Line Plot:\n",
    "\n",
    "Uses: Line plots are commonly used to show the trend or change in a continuous variable over time or another continuous variable. They are useful for displaying data that has a sequential or chronological order.\n",
    "Bar Plot:\n",
    "\n",
    "Uses: Bar plots are used to compare categorical variables and their corresponding values. They are suitable for visualizing the distribution, frequency, or proportion of different categories."
   ]
  },
  {
   "cell_type": "code",
   "execution_count": null,
   "id": "50b20d92-3b3b-4083-a6bb-5db7a7588d5c",
   "metadata": {},
   "outputs": [],
   "source": []
  },
  {
   "cell_type": "markdown",
   "id": "711553ab-d87c-4ec2-a6be-30517a629df1",
   "metadata": {},
   "source": [
    "# 2"
   ]
  },
  {
   "cell_type": "markdown",
   "id": "3900d8cc-567f-487b-b3df-5dac9014a907",
   "metadata": {},
   "source": [
    "# 3 "
   ]
  },
  {
   "cell_type": "markdown",
   "id": "9f1d5cd6-8efc-417c-b902-2832941a97e5",
   "metadata": {},
   "source": [
    "# 4 "
   ]
  },
  {
   "cell_type": "markdown",
   "id": "0ad5304d-cc68-45dd-8287-3a84932c9441",
   "metadata": {},
   "source": [
    "#  5"
   ]
  },
  {
   "cell_type": "markdown",
   "id": "a917ca0f-5033-410e-a7f8-40e7f40f3fe0",
   "metadata": {},
   "source": [
    " # 6 "
   ]
  },
  {
   "cell_type": "code",
   "execution_count": null,
   "id": "071a2c87-2f0c-4364-9f45-513ffb863b9d",
   "metadata": {},
   "outputs": [],
   "source": []
  }
 ],
 "metadata": {
  "kernelspec": {
   "display_name": "Python 3 (ipykernel)",
   "language": "python",
   "name": "python3"
  },
  "language_info": {
   "codemirror_mode": {
    "name": "ipython",
    "version": 3
   },
   "file_extension": ".py",
   "mimetype": "text/x-python",
   "name": "python",
   "nbconvert_exporter": "python",
   "pygments_lexer": "ipython3",
   "version": "3.10.6"
  }
 },
 "nbformat": 4,
 "nbformat_minor": 5
}
