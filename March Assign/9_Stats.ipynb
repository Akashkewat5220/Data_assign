{
 "cells": [
  {
   "cell_type": "code",
   "execution_count": 1,
   "id": "fb0abd4b-f15a-4a37-bd9e-d2f5abc5d85a",
   "metadata": {},
   "outputs": [
    {
     "ename": "SyntaxError",
     "evalue": "incomplete input (969763094.py, line 1)",
     "output_type": "error",
     "traceback": [
      "\u001b[0;36m  Cell \u001b[0;32mIn [1], line 1\u001b[0;36m\u001b[0m\n\u001b[0;31m    \"\"\"\u001b[0m\n\u001b[0m    ^\u001b[0m\n\u001b[0;31mSyntaxError\u001b[0m\u001b[0;31m:\u001b[0m incomplete input\n"
     ]
    }
   ],
   "source": [
    "\"\"\"\n",
    "Q1: The Probability Mass Function (PMF) describes the probabilities of discrete outcomes, like rolling a die.\n",
    "\n",
    "Q2: The Cumulative Density Function (CDF) gives the probability of a random variable being less than or equal to a specific value.\n",
    "\n",
    "Q3: The normal distribution is used when data follows a bell-shaped pattern, such as heights or IQ scores. The mean (μ) represents the center, and the standard deviation (σ) determines the spread.\n",
    "\n",
    "Q4: The normal distribution is important as it's widely applicable, simplifies statistical analysis, and emerges from the Central Limit Theorem. Real-life examples include heights, test scores, and measurement errors.\n",
    "\n",
    "Q5: Bernoulli Distribution models a single trial with two outcomes, while Binomial Distribution models the number of successes in multiple trials.\n",
    "\"\"\""
   ]
  },
  {
   "cell_type": "code",
   "execution_count": null,
   "id": "762254de-25b8-4edf-b166-888d756dbdb3",
   "metadata": {},
   "outputs": [],
   "source": [
    "\"\"\"\n",
    "\n",
    "\"\"\"\n"
   ]
  }
 ],
 "metadata": {
  "kernelspec": {
   "display_name": "Python 3 (ipykernel)",
   "language": "python",
   "name": "python3"
  },
  "language_info": {
   "codemirror_mode": {
    "name": "ipython",
    "version": 3
   },
   "file_extension": ".py",
   "mimetype": "text/x-python",
   "name": "python",
   "nbconvert_exporter": "python",
   "pygments_lexer": "ipython3",
   "version": "3.10.6"
  }
 },
 "nbformat": 4,
 "nbformat_minor": 5
}
