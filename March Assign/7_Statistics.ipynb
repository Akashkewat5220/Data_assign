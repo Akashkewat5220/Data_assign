{
 "cells": [
  {
   "cell_type": "code",
   "execution_count": null,
   "id": "07a3c015-a036-4e01-9354-3f4ae958c00f",
   "metadata": {},
   "outputs": [],
   "source": []
  },
  {
   "cell_type": "code",
   "execution_count": 1,
   "id": "dc1778fa-e71d-496c-9e2f-0c6cba94090b",
   "metadata": {},
   "outputs": [
    {
     "ename": "SyntaxError",
     "evalue": "unterminated string literal (detected at line 46) (3945376323.py, line 46)",
     "output_type": "error",
     "traceback": [
      "\u001b[0;36m  Cell \u001b[0;32mIn [1], line 46\u001b[0;36m\u001b[0m\n\u001b[0;31m    Here's the calculation:\u001b[0m\n\u001b[0m        ^\u001b[0m\n\u001b[0;31mSyntaxError\u001b[0m\u001b[0;31m:\u001b[0m unterminated string literal (detected at line 46)\n"
     ]
    }
   ],
   "source": [
    "\"\"\"Q1. \n",
    "\n",
    "1. Mean: The mean is the average of a set of numbers. It is calculated by summing all the values in the dataset and dividing by the total number of values.\n",
    "\n",
    "2. Median: The median is the middle value of a dataset when it is arranged in ascending or descending order. If there is an even number of values, the median is the average of the two middle values.\n",
    "\n",
    "3. Mode: The mode is the value that appears most frequently in a dataset. A dataset can have one mode (unimodal), two modes (bimodal), or more than two modes (multimodal).\n",
    "\n",
    "\n",
    "\n",
    "\n",
    "\n",
    "Q 2 \n",
    "\n",
    "- Mean: The mean is sensitive to extreme values and provides an average value for the dataset. It considers all the values and is commonly used when the data is normally distributed or approximately so.\n",
    "\n",
    "- Median: The median is the value that divides the dataset into two equal halves. It is less affected by extreme values and is appropriate when the data contains outliers or is skewed. It represents the middle value or central position.\n",
    "\n",
    "- Mode: The mode represents the most frequently occurring value in the dataset. It is useful when dealing with categorical or discrete data. The mode indicates the value with the highest frequency and can be helpful in identifying the most common category or characteristic.\n",
    "\n",
    "\n",
    "\n",
    "\n",
    "\n",
    "\n"
   ]
  },
  {
   "cell_type": "code",
   "execution_count": 2,
   "id": "05cc81b0-27cb-4180-9505-84e8324a6077",
   "metadata": {},
   "outputs": [
    {
     "ename": "SyntaxError",
     "evalue": "unterminated string literal (detected at line 9) (3631450095.py, line 9)",
     "output_type": "error",
     "traceback": [
      "\u001b[0;36m  Cell \u001b[0;32mIn [2], line 9\u001b[0;36m\u001b[0m\n\u001b[0;31m    For example, let's consider two datasets:\u001b[0m\n\u001b[0m                    ^\u001b[0m\n\u001b[0;31mSyntaxError\u001b[0m\u001b[0;31m:\u001b[0m unterminated string literal (detected at line 9)\n"
     ]
    }
   ],
   "source": [
    "Q5\n",
    "\"\"\"Measures of dispersion (such as range, variance, and standard deviation) are used to describe the spread or variability of a dataset:\n",
    "\n",
    "- Range: The range is the simplest measure of dispersion and represents the difference between the maximum and minimum values in the dataset. It provides an indication of how spread out the data is, but it can be influenced by outliers.\n",
    "\n",
    "- Variance: Variance measures the average squared deviation from the mean. It quantifies the dispersion by calculating the average of the squared differences between each data point and the mean. A higher variance indicates greater spread in the data.\n",
    "\n",
    "- Standard Deviation: The standard deviation is the square root of the variance. It provides a measure of the dispersion in the same units as the original data. The standard deviation is widely used due to its interpretability and being easier to relate to the original data.\n",
    "\n",
    "For example, let's consider two datasets:\n",
    "\n",
    "Dataset A: [5, 10, 15, 20, 25]\n",
    "Dataset B: [5, 5, 15, 25, 25]\n",
    "\n",
    "Both datasets have the same range (20) since the difference between the maximum and minimum values is the same. However, the variance and standard deviation will differ.\n",
    "\n",
    "Variance and Standard Deviation for Dataset A:\n",
    "- Variance = 50\n",
    "- Standard Deviation ≈ 7.07\n",
    "\n",
    "Variance and Standard Deviation for Dataset B:\n",
    "- Variance = 80\n",
    "- Standard Deviation ≈ 8.94\n",
    "\n",
    "In this example, even though both datasets have the same range, the standard deviation reveals that Dataset B\"\"\""
   ]
  },
  {
   "cell_type": "code",
   "execution_count": null,
   "id": "654c17f9-a794-4cdd-87ca-d8f86a4eea01",
   "metadata": {},
   "outputs": [],
   "source": []
  },
  {
   "cell_type": "code",
   "execution_count": 3,
   "id": "e40bf596-381a-4996-9fef-ba64a79a04d7",
   "metadata": {},
   "outputs": [
    {
     "data": {
      "text/plain": [
       "4"
      ]
     },
     "execution_count": 3,
     "metadata": {},
     "output_type": "execute_result"
    }
   ],
   "source": [
    "4"
   ]
  },
  {
   "cell_type": "code",
   "execution_count": 4,
   "id": "448554d8-6b1a-4c0c-bac3-057f601e58e8",
   "metadata": {},
   "outputs": [
    {
     "ename": "SyntaxError",
     "evalue": "unterminated string literal (detected at line 8) (1108574214.py, line 8)",
     "output_type": "error",
     "traceback": [
      "\u001b[0;36m  Cell \u001b[0;32mIn [4], line 8\u001b[0;36m\u001b[0m\n\u001b[0;31m    Here's the calculation:\u001b[0m\n\u001b[0m        ^\u001b[0m\n\u001b[0;31mSyntaxError\u001b[0m\u001b[0;31m:\u001b[0m unterminated string literal (detected at line 8)\n"
     ]
    }
   ],
   "source": [
    "\"\"\"Q4. To find the standard deviation for the given data [178, 177, 176, 177, 178.2, 178, 175, 179, 180, 175, 178.9, 176.2, 177, 172.5, 178, 176.5], you can use the following steps:\n",
    "\n",
    "1. Calculate the mean (μ) of the data.\n",
    "2. For each data point, subtract the mean and square the result.\n",
    "3. Find the mean of the squared differences obtained in step 2.\n",
    "4. Take the square root of the mean from step 3 to get the standard deviation.\n",
    "\n",
    "Here's the calculation:\n",
    "\n",
    "Mean (μ) = 177.5125\n",
    "\n",
    "Squared differences:\n",
    "(178 - 177.5125)^2 = 0.23700625\n",
    "(177 - 177.5125)^2 = 0.26250625\n",
    "(176 - 177.5125)^2 = 2.28600625\n",
    "(177 - 177.5125)^2 = 0.26250625\n",
    "(178.2 - 177.5125)^2 = 0.47550625\n",
    "(178 - 177.5125)^2 = 0.23700625\n",
    "(175 - 177.5125)^2 = 6.01250625\n",
    "(179 - 177.5125)^2 = 2.23600625\n",
    "(180 - 177.5125)^2 = 6.01250625\n",
    "(175 - 177.5125)^2 = 6.01250625\n",
    "(178.9 - 177.5125)^2 = 1.91350625\n",
    "(176.2 - 177.5125)^2 = 1.71350625\n",
    "(177 - 177.5125)^2 = 0.26250625\n",
    "(172.5 - 177.5125)^2 = 25.11375625\n",
    "(178 - 177.5125)^2 = 0.23700625\n",
    "(176.5 - 177.5125)^2 = 1.28700625\n",
    "\n",
    "Mean of squared differences = (0.23700625 + 0.26250625 + 2.28600625 + 0.26250625 + 0.47550625 + 0.23700625 + 6.01250625 + 2.23600625 + 6.01250625 + 6.01250625 + 1.91350625 + 1.71350625 + 0.26250625 + 25.11375625 + 0.23700625 + 1.28700625) / 16 = 3.98853515625\n",
    "\n",
    "Standard deviation = sqrt(3.98853515625) ≈ 1.9971324742\n",
    "\n",
    "Therefore, the standard deviation for the given data is approximately 1.997.\"\"\"\n"
   ]
  },
  {
   "cell_type": "code",
   "execution_count": null,
   "id": "eac9b845-f35e-4689-8bea-6818e9597ee3",
   "metadata": {},
   "outputs": [],
   "source": []
  },
  {
   "cell_type": "code",
   "execution_count": 5,
   "id": "3e0cc8f0-feb0-43f2-8c1d-38d669499488",
   "metadata": {},
   "outputs": [
    {
     "data": {
      "text/plain": [
       "3"
      ]
     },
     "execution_count": 5,
     "metadata": {},
     "output_type": "execute_result"
    }
   ],
   "source": [
    "3 "
   ]
  },
  {
   "cell_type": "code",
   "execution_count": 6,
   "id": "2eab08f6-373f-4748-9b90-95224a419987",
   "metadata": {},
   "outputs": [
    {
     "ename": "SyntaxError",
     "evalue": "illegal target for annotation (2590476529.py, line 3)",
     "output_type": "error",
     "traceback": [
      "\u001b[0;36m  Cell \u001b[0;32mIn [6], line 3\u001b[0;36m\u001b[0m\n\u001b[0;31m    - Mean: Add up all the values and divide by the total count.\u001b[0m\n\u001b[0m    ^\u001b[0m\n\u001b[0;31mSyntaxError\u001b[0m\u001b[0;31m:\u001b[0m illegal target for annotation\n"
     ]
    }
   ],
   "source": [
    "\"\"\"Q3\n",
    "\n",
    "- Mean: Add up all the values and divide by the total count.\n",
    "   Mean = (178 + 177 + 176 + 177 + 178.2 + 178 + 175 + 179 + 180 + 175 + 178.9 + 176.2 + 177 + 172.5 + 178 + 176.5) / 16 = 177.5125\n",
    "\n",
    "- Median: Arrange the values in ascending order and find the middle value.\n",
    "   Median = (175 + 176 + 176.2 + 177 + 177 + 178 + 178 + 178.2 + 178.9 + 179 + 180) / 2 = 177.6\n",
    "\n",
    "- Mode: Identify the value(s) that appear(s) most frequently.\n",
    "   Mode = 178\n",
    "\n",
    "So, the measures of central tendency for the given height data are:\n",
    "Mean = 177.5125\n",
    "Median = 177.6\n",
    "Mode = 178\"\"\""
   ]
  },
  {
   "cell_type": "code",
   "execution_count": null,
   "id": "19bbf0f1-51a9-411d-af49-94b3c5c6499d",
   "metadata": {},
   "outputs": [],
   "source": []
  },
  {
   "cell_type": "code",
   "execution_count": null,
   "id": "6172467a-f712-4efb-aeb7-5c8ba8178fa3",
   "metadata": {},
   "outputs": [],
   "source": []
  },
  {
   "cell_type": "code",
   "execution_count": null,
   "id": "c8baadac-63b3-4778-b6fe-431b5002695b",
   "metadata": {},
   "outputs": [],
   "source": []
  },
  {
   "cell_type": "code",
   "execution_count": null,
   "id": "49168d38-7b3f-4db1-bf16-dcbd33455196",
   "metadata": {},
   "outputs": [],
   "source": []
  },
  {
   "cell_type": "code",
   "execution_count": null,
   "id": "e10e262f-8a8e-40fe-856b-4f52e4dea1bc",
   "metadata": {},
   "outputs": [],
   "source": []
  },
  {
   "cell_type": "code",
   "execution_count": null,
   "id": "a719b49f-f658-44d9-bbf1-1a5b79b6e477",
   "metadata": {},
   "outputs": [],
   "source": []
  },
  {
   "cell_type": "code",
   "execution_count": null,
   "id": "81e77fa5-0a1e-4357-9fcb-3ea89dc0c7a5",
   "metadata": {},
   "outputs": [],
   "source": []
  },
  {
   "cell_type": "code",
   "execution_count": null,
   "id": "f4f8b76a-8afb-4eb2-8667-64997470cfcc",
   "metadata": {},
   "outputs": [],
   "source": []
  },
  {
   "cell_type": "code",
   "execution_count": null,
   "id": "13166750-4e13-4bb3-9236-75a0d4d66057",
   "metadata": {},
   "outputs": [],
   "source": []
  },
  {
   "cell_type": "code",
   "execution_count": null,
   "id": "c0b418e0-cd65-42c8-9124-038695120ce9",
   "metadata": {},
   "outputs": [],
   "source": []
  },
  {
   "cell_type": "code",
   "execution_count": null,
   "id": "5fdaaf99-2182-49f9-966b-4b535bb7434e",
   "metadata": {},
   "outputs": [],
   "source": []
  },
  {
   "cell_type": "code",
   "execution_count": null,
   "id": "1a7180e1-56be-45b7-95a7-7c2fc588bac5",
   "metadata": {},
   "outputs": [],
   "source": []
  },
  {
   "cell_type": "code",
   "execution_count": null,
   "id": "7e65b4e2-063e-47d9-9b10-5486b281b60c",
   "metadata": {},
   "outputs": [],
   "source": []
  },
  {
   "cell_type": "code",
   "execution_count": null,
   "id": "ac8ad19d-60dd-4113-8b1d-91955cd344bc",
   "metadata": {},
   "outputs": [],
   "source": []
  },
  {
   "cell_type": "code",
   "execution_count": null,
   "id": "a82f4368-803a-4587-b7dd-548c93513484",
   "metadata": {},
   "outputs": [],
   "source": []
  },
  {
   "cell_type": "code",
   "execution_count": null,
   "id": "5edadcb6-e58e-4782-9860-9f31f9d1b65b",
   "metadata": {},
   "outputs": [],
   "source": []
  },
  {
   "cell_type": "code",
   "execution_count": null,
   "id": "ddc57500-9470-4f80-a0da-7d1bdfd60a10",
   "metadata": {},
   "outputs": [],
   "source": []
  },
  {
   "cell_type": "code",
   "execution_count": null,
   "id": "01d1eaaf-b94c-4265-be91-f89bcfde0a74",
   "metadata": {},
   "outputs": [],
   "source": []
  },
  {
   "cell_type": "code",
   "execution_count": null,
   "id": "6087c05f-b5af-461f-a578-004f8c184082",
   "metadata": {},
   "outputs": [],
   "source": []
  },
  {
   "cell_type": "code",
   "execution_count": null,
   "id": "55df12b8-d7c4-4851-89dc-1cec099af227",
   "metadata": {},
   "outputs": [],
   "source": []
  },
  {
   "cell_type": "code",
   "execution_count": null,
   "id": "a6629567-256b-4524-905c-06a1ed0dc320",
   "metadata": {},
   "outputs": [],
   "source": []
  },
  {
   "cell_type": "code",
   "execution_count": null,
   "id": "2d965900-9214-4df1-adc1-e1257a166aa9",
   "metadata": {},
   "outputs": [],
   "source": []
  },
  {
   "cell_type": "code",
   "execution_count": null,
   "id": "27ea4cca-a2db-46fb-acb2-10af4eec14e5",
   "metadata": {},
   "outputs": [],
   "source": []
  },
  {
   "cell_type": "code",
   "execution_count": null,
   "id": "31edd9e8-3338-4c7d-a95d-d0b88c6685de",
   "metadata": {},
   "outputs": [],
   "source": []
  },
  {
   "cell_type": "code",
   "execution_count": null,
   "id": "ae71f9f2-41f9-4486-ab25-6f0585c4e483",
   "metadata": {},
   "outputs": [],
   "source": []
  },
  {
   "cell_type": "code",
   "execution_count": null,
   "id": "f45f3bfd-4bda-49e7-bca6-489a3db02196",
   "metadata": {},
   "outputs": [],
   "source": []
  },
  {
   "cell_type": "code",
   "execution_count": null,
   "id": "f36176ee-93f8-4d93-a1be-738612686faf",
   "metadata": {},
   "outputs": [],
   "source": []
  }
 ],
 "metadata": {
  "kernelspec": {
   "display_name": "Python 3 (ipykernel)",
   "language": "python",
   "name": "python3"
  },
  "language_info": {
   "codemirror_mode": {
    "name": "ipython",
    "version": 3
   },
   "file_extension": ".py",
   "mimetype": "text/x-python",
   "name": "python",
   "nbconvert_exporter": "python",
   "pygments_lexer": "ipython3",
   "version": "3.10.6"
  }
 },
 "nbformat": 4,
 "nbformat_minor": 5
}
