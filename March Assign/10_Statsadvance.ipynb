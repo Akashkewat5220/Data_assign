{
 "cells": [
  {
   "cell_type": "code",
   "execution_count": 1,
   "id": "9c770da5-a7c0-4c01-859e-003c98aed012",
   "metadata": {},
   "outputs": [
    {
     "data": {
      "text/plain": [
       "1"
      ]
     },
     "execution_count": 1,
     "metadata": {},
     "output_type": "execute_result"
    }
   ],
   "source": [
    "1"
   ]
  },
  {
   "cell_type": "raw",
   "id": "81c2f194-3315-4f9e-af3d-e60d82c90a2f",
   "metadata": {},
   "source": [
    "\"\"\"Estimation Statistics is a branch of statistics that deals with estimating unknown population parameters based on sample data. Estimation involves determining the value or range of values that best represents the unknown parameter.\n",
    "\n",
    "Point Estimate: A point estimate is a single value that is used to estimate the population parameter. It is typically derived from sample data and serves as a best guess or approximation of the parameter. For example, using the sample mean to estimate the population mean.\n",
    "\n",
    "Interval Estimate: An interval estimate provides a range of values within which the population parameter is likely to fall. It takes into account the uncertainty in the estimation process. The interval is constructed using a point estimate along with a measure of variability, such as a confidence interval. For example, stating that the population mean is likely to be between 95 and 105 with 95% confidence. \"\"\""
   ]
  },
  {
   "cell_type": "code",
   "execution_count": null,
   "id": "a00df39b-9e5d-4e7a-83e2-7a556bbc8f3f",
   "metadata": {},
   "outputs": [],
   "source": []
  },
  {
   "cell_type": "code",
   "execution_count": 3,
   "id": "bf993626-093c-461c-bf39-c3fe3a1dd0b4",
   "metadata": {},
   "outputs": [
    {
     "data": {
      "text/plain": [
       "2"
      ]
     },
     "execution_count": 3,
     "metadata": {},
     "output_type": "execute_result"
    }
   ],
   "source": [
    "2"
   ]
  },
  {
   "cell_type": "code",
   "execution_count": 4,
   "id": "4f272a74-0a30-497e-9f50-026d455e12ef",
   "metadata": {},
   "outputs": [],
   "source": [
    "import math\n",
    "\n",
    "def estimate_population_mean(sample_mean, sample_std_dev, sample_size):\n",
    "    # Calculate the standard error\n",
    "    standard_error = sample_std_dev / math.sqrt(sample_size)\n",
    "\n",
    "    # Calculate the margin of error (typically multiplied by a z-score or t-value for a desired confidence level)\n",
    "\n",
    "    # Calculate the lower and upper bounds of the interval estimate\n",
    "    lower_bound = sample_mean - margin_of_error\n",
    "    upper_bound = sample_mean + margin_of_error\n",
    "\n",
    "    # Return the interval estimate\n",
    "    return (lower_bound, upper_bound)\n"
   ]
  },
  {
   "cell_type": "code",
   "execution_count": null,
   "id": "0d982fe6-35f3-407b-b1c8-677581c39e31",
   "metadata": {},
   "outputs": [],
   "source": []
  },
  {
   "cell_type": "code",
   "execution_count": 5,
   "id": "346490bc-16b3-4740-8103-bc7ad1815470",
   "metadata": {},
   "outputs": [
    {
     "data": {
      "text/plain": [
       "3"
      ]
     },
     "execution_count": 5,
     "metadata": {},
     "output_type": "execute_result"
    }
   ],
   "source": [
    "3"
   ]
  },
  {
   "cell_type": "raw",
   "id": "930680d7-83a6-4f3c-acda-3a4e9222942f",
   "metadata": {},
   "source": [
    "\"\"\" Hypothesis testing is a statistical method used to make inferences or conclusions about population parameters based on sample data. It involves formulating two competing hypotheses, the null hypothesis (H0) and the alternative hypothesis (Ha), and assessing the evidence in favor of one hypothesis over the other.\n",
    "\n",
    "Hypothesis testing is used to test the validity of assumptions, evaluate the significance of relationships or differences, and make decisions based on statistical evidence.\n",
    "\n",
    "The importance of hypothesis testing lies in its ability to provide a structured framework for making objective decisions based on data analysis. It helps researchers and analysts draw meaningful conclusions and determine the statistical significance of their findings.\n",
    "\n",
    "Q4: Hypothesis: The average weight of \"\"\""
   ]
  },
  {
   "cell_type": "code",
   "execution_count": null,
   "id": "c577e44c-79ce-458b-9e01-ba4c5cda79ec",
   "metadata": {},
   "outputs": [],
   "source": []
  },
  {
   "cell_type": "code",
   "execution_count": 6,
   "id": "a5e569ba-7f5f-4b72-b0dc-8111b2a4473c",
   "metadata": {},
   "outputs": [
    {
     "data": {
      "text/plain": [
       "4"
      ]
     },
     "execution_count": 6,
     "metadata": {},
     "output_type": "execute_result"
    }
   ],
   "source": [
    "4"
   ]
  },
  {
   "cell_type": "raw",
   "id": "18d92f80-a09b-446b-94f1-45fbcea3cb15",
   "metadata": {},
   "source": [
    "\"\"\" Hypothesis: The average weight of male college students is greater than the average weight of female college students.\n",
    "\n",
    "Null Hypothesis (H0): The average weight of male college students is equal to or less than the average weight of female college students.\n",
    "\n",
    "Alternative Hypothesis (Ha): The average weight of male college students is greater than the average weight of female college students\"\"\""
   ]
  },
  {
   "cell_type": "code",
   "execution_count": null,
   "id": "aa28afbc-d104-4a13-b0df-5550d8ffc36f",
   "metadata": {},
   "outputs": [],
   "source": []
  },
  {
   "cell_type": "code",
   "execution_count": 7,
   "id": "0c0a2b25-b6c7-4d52-9a0b-ac77f33be6b6",
   "metadata": {},
   "outputs": [
    {
     "data": {
      "text/plain": [
       "5"
      ]
     },
     "execution_count": 7,
     "metadata": {},
     "output_type": "execute_result"
    }
   ],
   "source": [
    "5"
   ]
  },
  {
   "cell_type": "code",
   "execution_count": 8,
   "id": "abb2e5e2-e6ff-44f5-a180-159885d9ab7c",
   "metadata": {},
   "outputs": [],
   "source": [
    "import scipy.stats as stats\n",
    "\n",
    "def hypothesis_test(sample1, sample2, alpha):\n",
    "    # Perform an independent t-test assuming unequal variances\n",
    "    t_statistic, p_value = stats.ttest_ind(sample1, sample2, equal_var=False)\n",
    "\n",
    "    # Compare the p-value with the chosen significance level (alpha)\n",
    "    if p_value < alpha:\n",
    "        result = \"Reject the null hypothesis\"\n",
    "    else:\n",
    "        result = \"Fail to reject the null hypothesis\"\n",
    "\n",
    "    return result\n"
   ]
  },
  {
   "cell_type": "code",
   "execution_count": null,
   "id": "b15cc911-d91b-4403-9834-4a6038ddd350",
   "metadata": {},
   "outputs": [],
   "source": []
  },
  {
   "cell_type": "code",
   "execution_count": 9,
   "id": "701f6442-4f68-484f-9636-f2eedb8488c3",
   "metadata": {},
   "outputs": [
    {
     "data": {
      "text/plain": [
       "6"
      ]
     },
     "execution_count": 9,
     "metadata": {},
     "output_type": "execute_result"
    }
   ],
   "source": [
    "6"
   ]
  },
  {
   "cell_type": "raw",
   "id": "9686ec74-f1b5-4196-a689-d06d7fc12648",
   "metadata": {},
   "source": [
    "\"\"\"  Null Hypothesis (H0) and Alternative Hypothesis (Ha) are two competing statements in a hypothesis test.\n",
    "\n",
    "Null Hypothesis (H0): It is the default or initial assumption. It states that there is no significant difference or relationship between variables, or no effect of a treatment or intervention. It is often denoted as \"no difference\" or \"no effect\" and is tested against the alternative hypothesis.\n",
    "Example: H0: The mean height of adults is equal to 170 cm.\n",
    "\n",
    "Alternative Hypothesis (Ha): It contradicts the null hypothesis and represents the claim or theory the researcher wants to support. It states that there is a significant difference or relationship between variables or an effect of a treatment or intervention.\n",
    "Example: Ha: The mean height of adults is not equal to 170 cm.\"\"\""
   ]
  },
  {
   "cell_type": "code",
   "execution_count": null,
   "id": "a32903b5-d734-463e-b9ac-77b9d31fcd09",
   "metadata": {},
   "outputs": [],
   "source": []
  },
  {
   "cell_type": "code",
   "execution_count": 11,
   "id": "0e79cb46-1019-4b80-8e75-7b967bdc19f0",
   "metadata": {},
   "outputs": [
    {
     "data": {
      "text/plain": [
       "7"
      ]
     },
     "execution_count": 11,
     "metadata": {},
     "output_type": "execute_result"
    }
   ],
   "source": [
    "7"
   ]
  },
  {
   "cell_type": "raw",
   "id": "17e57ac5-ede1-4956-8272-ca99f2bc4fab",
   "metadata": {},
   "source": [
    "\"\"\" Formulate the null hypothesis (H0) and alternative hypothesis (Ha).\n",
    "Determine the appropriate statistical test based on the research question and type of data.\n",
    "Set the significance level (alpha), typically 0.05.\n",
    "Collect and analyze the sample data.\n",
    "Calculate the test statistic (e.g., t-statistic, z-score) using the sample data.\n",
    "Determine the critical value or p-value associated with the test statistic.\n",
    "Compare the critical value or p-value with the significance level (alpha).\n",
    "Make a decision to either reject the null hypothesis or fail to reject it based on the comparison.\n",
    "Interpret the results and draw conclusions based on the decision.\"\"\""
   ]
  },
  {
   "cell_type": "code",
   "execution_count": null,
   "id": "29d67e90-2461-45db-b099-a0a05dbb04b7",
   "metadata": {},
   "outputs": [],
   "source": []
  },
  {
   "cell_type": "code",
   "execution_count": 12,
   "id": "da5e1bb3-860c-4547-8f93-55964d8a627f",
   "metadata": {},
   "outputs": [
    {
     "data": {
      "text/plain": [
       "8"
      ]
     },
     "execution_count": 12,
     "metadata": {},
     "output_type": "execute_result"
    }
   ],
   "source": [
    "8"
   ]
  },
  {
   "cell_type": "raw",
   "id": "dfe9de5c-527f-4fde-9eaf-7528b3ba3295",
   "metadata": {},
   "source": [
    "\"\"\" The p-value is a probability value that measures the strength of evidence against the null hypothesis (H0) in hypothesis testing. It represents the probability of observing the test statistic (or a more extreme value) under the assumption that the null hypothesis is true.\n",
    "\n",
    "The significance of the p-value lies in its ability to determine the statistical significance of the results. It allows researchers to make informed decisions by comparing the p-value to the chosen significance level (alpha). If the p-value is less than alpha, typically 0.05, it provides evidence to reject the null hypothesis and support the alternative hypothesis. Conversely, if the p-value is greater than or equal to alpha, it suggests insufficient evidence to reject the null hypothesis.\n",
    "\n",
    "In summary, the p-value helps quantify the strength of evidence against the null hypothesis, guiding researchers in making statistically informed conclusions.\"\"\""
   ]
  },
  {
   "cell_type": "code",
   "execution_count": null,
   "id": "4364ae9e-48d7-46f3-bc1a-0c32093c608f",
   "metadata": {},
   "outputs": [],
   "source": []
  },
  {
   "cell_type": "code",
   "execution_count": 13,
   "id": "c2dc328b-9ac3-4b5d-8170-5c02c8abe6ea",
   "metadata": {},
   "outputs": [
    {
     "data": {
      "text/plain": [
       "9"
      ]
     },
     "execution_count": 13,
     "metadata": {},
     "output_type": "execute_result"
    }
   ],
   "source": [
    "9"
   ]
  },
  {
   "cell_type": "code",
   "execution_count": 14,
   "id": "b90b3b5f-92b5-4176-be46-43f4c183220b",
   "metadata": {},
   "outputs": [
    {
     "data": {
      "image/png": "[encoded data removed]",
      "text/plain": [
       "<Figure size 640x480 with 1 Axes>"
      ]
     },
     "metadata": {},
     "output_type": "display_data"
    }
   ],
   "source": [
    "import numpy as np\n",
    "import matplotlib.pyplot as plt\n",
    "from scipy.stats import t\n",
    "\n",
    "df = 10  # Degrees of freedom\n",
    "\n",
    "x = np.linspace(t.ppf(0.001, df), t.ppf(0.999, df), 100)\n",
    "y = t.pdf(x, df)\n",
    "\n",
    "plt.plot(x, y, label='t-distribution (df=10)')\n",
    "plt.xlabel('x')\n",
    "plt.ylabel('Probability Density')\n",
    "plt.title('Student\\'s t-Distribution')\n",
    "plt.legend()\n",
    "plt.show()\n"
   ]
  },
  {
   "cell_type": "code",
   "execution_count": null,
   "id": "86aea6e0-454e-4f15-946d-ce1980938b96",
   "metadata": {},
   "outputs": [],
   "source": []
  },
  {
   "cell_type": "code",
   "execution_count": 15,
   "id": "a32312d1-04bf-481d-984e-bf1e018c64c2",
   "metadata": {},
   "outputs": [
    {
     "data": {
      "text/plain": [
       "10"
      ]
     },
     "execution_count": 15,
     "metadata": {},
     "output_type": "execute_result"
    }
   ],
   "source": [
    "10"
   ]
  },
  {
   "cell_type": "code",
   "execution_count": 16,
   "id": "92ce7322-dfc8-40ed-9e09-8412f8f5fb64",
   "metadata": {},
   "outputs": [],
   "source": [
    "import scipy.stats as stats\n",
    "\n",
    "def two_sample_t_test(sample1, sample2, alpha):\n",
    "    # Perform a two-sample t-test assuming equal variances\n",
    "    t_statistic, p_value = stats.ttest_ind(sample1, sample2)\n",
    "\n",
    "    # Compare the p-value with the chosen significance level (alpha)\n",
    "    if p_value < alpha:\n",
    "        result = \"Reject the null hypothesis\"\n",
    "    else:\n",
    "        result = \"Fail to reject the null hypothesis\"\n",
    "\n",
    "    return result\n"
   ]
  },
  {
   "cell_type": "code",
   "execution_count": null,
   "id": "fccd3f79-34cb-4246-8eae-75fcbec0a29f",
   "metadata": {},
   "outputs": [],
   "source": []
  },
  {
   "cell_type": "code",
   "execution_count": null,
   "id": "bc55ccf4-1da7-4628-b3cd-70daf7530bd3",
   "metadata": {},
   "outputs": [],
   "source": []
  },
  {
   "cell_type": "code",
   "execution_count": 17,
   "id": "4387cf90-c3b0-491e-b0b7-3a2ce24cb65e",
   "metadata": {},
   "outputs": [
    {
     "data": {
      "text/plain": [
       "11"
      ]
     },
     "execution_count": 17,
     "metadata": {},
     "output_type": "execute_result"
    }
   ],
   "source": [
    "11"
   ]
  },
  {
   "cell_type": "raw",
   "id": "16a7e0ce-b4cd-437c-a2e1-4d5857b85b52",
   "metadata": {},
   "source": [
    "\"\"\"  Student's t-distribution is a probability distribution that is used to model data when the sample size is small and the population standard deviation is unknown. It is a modification of the normal distribution, but with thicker tails, allowing for greater variability.\n",
    "\n",
    "The t-distribution is used when we have a small sample size, or when the population standard deviation is unknown, and we need to make inferences about the population mean. It is commonly used in hypothesis testing, confidence intervals, and comparing means from different samples.\n",
    "\n"
   ]
  },
  {
   "cell_type": "code",
   "execution_count": null,
   "id": "38c7e508-fe54-418b-b266-b2eecd8ef52e",
   "metadata": {},
   "outputs": [],
   "source": []
  },
  {
   "cell_type": "code",
   "execution_count": 18,
   "id": "ed672817-62e0-415c-a7a6-6f7e41427f7d",
   "metadata": {},
   "outputs": [
    {
     "data": {
      "text/plain": [
       "12"
      ]
     },
     "execution_count": 18,
     "metadata": {},
     "output_type": "execute_result"
    }
   ],
   "source": [
    "12"
   ]
  },
  {
   "cell_type": "raw",
   "id": "7ea9e9fb-abfa-41e3-80f5-8f4c968d694c",
   "metadata": {},
   "source": [
    "\"\"\"Q12: The t-statistic is a test statistic used in hypothesis testing and is used to determine if there is a significant difference between the means of two groups.\n",
    "\n",
    "The formula for the t-statistic is:\n",
    "\n",
    "t = (x1 - x2) / sqrt((s1^2/n1) + (s2^2/n2))\n",
    "\n",
    "where x1 and x2 are the sample means of the two groups, s1 and s2 are the sample standard deviations, and n1 and n2 are the sample sizes of the two groups.\"\"\""
   ]
  },
  {
   "cell_type": "code",
   "execution_count": null,
   "id": "13eef0c4-ae9c-4cd9-b148-5f62a713003e",
   "metadata": {},
   "outputs": [],
   "source": []
  },
  {
   "cell_type": "code",
   "execution_count": 19,
   "id": "9ed97a41-7fc8-44e5-89bf-acb09ad5bb26",
   "metadata": {},
   "outputs": [
    {
     "data": {
      "text/plain": [
       "13"
      ]
     },
     "execution_count": 19,
     "metadata": {},
     "output_type": "execute_result"
    }
   ],
   "source": [
    "13"
   ]
  },
  {
   "cell_type": "raw",
   "id": "72c61563-5d8c-4dc8-aafb-87cd96e2ab08",
   "metadata": {},
   "source": [
    "\"\"\"  To estimate the population mean revenue with a 95% confidence interval, given a random sample of 50 days with a sample mean revenue of $500 and a standard deviation of $50, you can use the following formula:\n",
    "\n",
    "Confidence Interval = sample mean ± (critical value * standard error)\n",
    "\n",
    "First, calculate the standard error:\n",
    "\n",
    "standard error = sample standard deviation / sqrt(sample size) = $50 / sqrt(50)\n",
    "\n",
    "Next, find the critical value associated with a 95% confidence level (alpha = 0.05) and 49 degrees of freedom (n - 1):\n",
    "\n",
    "critical value = t.ppf(1 - alpha/2, df)\n",
    "\n",
    "Finally, calculate the confidence interval:\n",
    "\n",
    "confidence interval = sample mean ± (critical value * standard error)\n",
    "\n",
    "Substituting the values into the formula, you can estimate the population mean revenue with a 95% confidence interval.\"\"\""
   ]
  },
  {
   "cell_type": "code",
   "execution_count": null,
   "id": "b4b5282c-3058-4843-b04f-1d6a7fb413fb",
   "metadata": {},
   "outputs": [],
   "source": []
  },
  {
   "cell_type": "code",
   "execution_count": null,
   "id": "5e1ef381-bf6b-4a53-9a9f-3930b7e2ba47",
   "metadata": {},
   "outputs": [],
   "source": []
  },
  {
   "cell_type": "code",
   "execution_count": null,
   "id": "884ac5d5-39de-400c-9d00-a0c9ccf923ff",
   "metadata": {},
   "outputs": [],
   "source": []
  },
  {
   "cell_type": "code",
   "execution_count": null,
   "id": "664e2a0f-ed0a-4c41-9f51-d1a71a45f022",
   "metadata": {},
   "outputs": [],
   "source": []
  },
  {
   "cell_type": "code",
   "execution_count": null,
   "id": "a98b6139-e5ac-4a92-b2b3-ece0463e1634",
   "metadata": {},
   "outputs": [],
   "source": []
  },
  {
   "cell_type": "code",
   "execution_count": null,
   "id": "c1414cc4-c7c3-443e-8970-1a1112dc2cf5",
   "metadata": {},
   "outputs": [],
   "source": []
  },
  {
   "cell_type": "code",
   "execution_count": null,
   "id": "a7246559-7e49-43f5-9b2d-18ad995a935e",
   "metadata": {},
   "outputs": [],
   "source": []
  },
  {
   "cell_type": "code",
   "execution_count": null,
   "id": "e64476a1-253f-4da7-a510-f3d87b54d80f",
   "metadata": {},
   "outputs": [],
   "source": []
  }
 ],
 "metadata": {
  "kernelspec": {
   "display_name": "Python 3 (ipykernel)",
   "language": "python",
   "name": "python3"
  },
  "language_info": {
   "codemirror_mode": {
    "name": "ipython",
    "version": 3
   },
   "file_extension": ".py",
   "mimetype": "text/x-python",
   "name": "python",
   "nbconvert_exporter": "python",
   "pygments_lexer": "ipython3",
   "version": "3.10.6"
  }
 },
 "nbformat": 4,
 "nbformat_minor": 5
}
