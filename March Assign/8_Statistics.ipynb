{
 "cells": [
  {
   "cell_type": "code",
   "execution_count": 2,
   "id": "e8fef400-c76e-4e9e-abd2-440a30674d59",
   "metadata": {},
   "outputs": [
    {
     "data": {
      "text/plain": [
       "5"
      ]
     },
     "execution_count": 2,
     "metadata": {},
     "output_type": "execute_result"
    }
   ],
   "source": [
    "5"
   ]
  },
  {
   "cell_type": "code",
   "execution_count": null,
   "id": "504e6027-004b-4d61-9b6a-636f525a0302",
   "metadata": {},
   "outputs": [],
   "source": [
    "import matplotlib.pyplot as plt\n",
    "import numpy as np\n",
    "\n",
    "# Generate a random sample of size 1000 from a binomial distribution with probability of success 0.4\n",
    "data = np.random.binomial(1000, 0.4)\n",
    "\n",
    "# Plot a histogram of the results\n",
    "plt.hist(data)\n",
    "plt.show()\n"
   ]
  },
  {
   "cell_type": "code",
   "execution_count": null,
   "id": "fec3a983-6be4-44ea-afe5-e2feec2fd3d3",
   "metadata": {},
   "outputs": [],
   "source": []
  },
  {
   "cell_type": "code",
   "execution_count": 3,
   "id": "568f75b5-fe79-4834-8abd-0be09a9e8af6",
   "metadata": {},
   "outputs": [
    {
     "data": {
      "text/plain": [
       "1"
      ]
     },
     "execution_count": 3,
     "metadata": {},
     "output_type": "execute_result"
    }
   ],
   "source": [
    "1"
   ]
  },
  {
   "cell_type": "code",
   "execution_count": 4,
   "id": "5fe6c26a-f200-46f4-bcad-eeedf6866674",
   "metadata": {},
   "outputs": [
    {
     "data": {
      "text/plain": [
       "'The probability density function (PDF) of a random variable is a function that gives the probability of the variable taking on a particular value. The PDF is often represented as a graph, where the height of the graph at a particular point gives the probability of the variable being equal to that point.'"
      ]
     },
     "execution_count": 4,
     "metadata": {},
     "output_type": "execute_result"
    }
   ],
   "source": [
    "\"\"\"The probability density function (PDF) of a random variable is a function that gives the probability of the variable taking on a particular value. The PDF is often represented as a graph, where the height of the graph at a particular point gives the probability of the variable being equal to that point.\"\"\""
   ]
  },
  {
   "cell_type": "raw",
   "id": "580d0c1b-7fd4-4772-aa31-00a0bbef7056",
   "metadata": {},
   "source": [
    "\n",
    "\n",
    "\n",
    "\n",
    "\n",
    "Q4. What are the properties of Binomial distribution? Give two examples of events where binomial\n",
    "distribution can be applied.\n",
    "\n"
   ]
  },
  {
   "cell_type": "code",
   "execution_count": 5,
   "id": "69977f23-9d1b-4328-9b72-49888ad9783a",
   "metadata": {},
   "outputs": [
    {
     "data": {
      "text/plain": [
       "2"
      ]
     },
     "execution_count": 5,
     "metadata": {},
     "output_type": "execute_result"
    }
   ],
   "source": [
    "2"
   ]
  },
  {
   "cell_type": "code",
   "execution_count": 6,
   "id": "c1a2ee87-e85d-4d1c-bf6d-9992a3330ff6",
   "metadata": {},
   "outputs": [
    {
     "data": {
      "text/plain": [
       "'There are many different types of probability distributions, but some of the most common include:\\n\\nNormal distribution: The normal distribution is also known as the Gaussian distribution, and it is one of the most important distributions in statistics. It is often used to model data that is distributed around a central mean value.\\nBinomial distribution: The binomial distribution is used to model the number of successes in a sequence of independent trials, each of which has only two possible outcomes, such as \"success\" or \"failure.\"\\nPoisson distribution: The Poisson distribution is used to model the number of events that occur in a given time period, if the number of events is rare and the probability of each event occurring is constant.\\nGamma distribution: The gamma distribution is used to model the time it takes for a certain event to occur, if the event is known to occur with a certain probability'"
      ]
     },
     "execution_count": 6,
     "metadata": {},
     "output_type": "execute_result"
    }
   ],
   "source": [
    "\"\"\"There are many different types of probability distributions, but some of the most common include:\n",
    "\n",
    "Normal distribution: The normal distribution is also known as the Gaussian distribution, and it is one of the most important distributions in statistics. It is often used to model data that is distributed around a central mean value.\n",
    "Binomial distribution: The binomial distribution is used to model the number of successes in a sequence of independent trials, each of which has only two possible outcomes, such as \"success\" or \"failure.\"\n",
    "Poisson distribution: The Poisson distribution is used to model the number of events that occur in a given time period, if the number of events is rare and the probability of each event occurring is constant.\n",
    "Gamma distribution: The gamma distribution is used to model the time it takes for a certain event to occur, if the event is known to occur with a certain probability\"\"\""
   ]
  },
  {
   "cell_type": "code",
   "execution_count": null,
   "id": "c00b9e7f-4fec-4431-a748-89cbaec96d27",
   "metadata": {},
   "outputs": [],
   "source": []
  },
  {
   "cell_type": "code",
   "execution_count": 8,
   "id": "b29872ce-e5c3-4b0d-94ae-28d9e694782e",
   "metadata": {},
   "outputs": [
    {
     "data": {
      "text/plain": [
       "3"
      ]
     },
     "execution_count": 8,
     "metadata": {},
     "output_type": "execute_result"
    }
   ],
   "source": [
    "3"
   ]
  },
  {
   "cell_type": "code",
   "execution_count": 9,
   "id": "10867e34-74dd-453c-a2a9-761086ba7238",
   "metadata": {},
   "outputs": [],
   "source": [
    "def pdf_normal(x, mean, std):\n",
    "  \n",
    "\n",
    "  pdf = 1 / (std * math.sqrt(2 * math.pi)) * math.exp(-(x - mean)**2 / (2 * std**2))\n",
    "  return pdf"
   ]
  },
  {
   "cell_type": "code",
   "execution_count": null,
   "id": "4fb25310-03ab-4f52-a19f-4c790bd1666b",
   "metadata": {},
   "outputs": [],
   "source": []
  },
  {
   "cell_type": "code",
   "execution_count": 10,
   "id": "8325caf6-1555-45a9-bd21-d174e498afdd",
   "metadata": {},
   "outputs": [
    {
     "data": {
      "text/plain": [
       "4"
      ]
     },
     "execution_count": 10,
     "metadata": {},
     "output_type": "execute_result"
    }
   ],
   "source": [
    "4"
   ]
  },
  {
   "cell_type": "code",
   "execution_count": 11,
   "id": "4900b9e9-70b6-46ed-81c9-1977533cde22",
   "metadata": {},
   "outputs": [
    {
     "data": {
      "text/plain": [
       "'The binomial distribution has the following properties:\\n\\nThe number of trials must be fixed.\\nThe probability of success must be the same for each trial.\\nThe trials must be independent.\\nTwo examples of events where the binomial distribution can be applied are:\\n\\nThe number of heads in 10 coin flips.\\nThe number of people who get a certain disease out of a sample of 100 people.'"
      ]
     },
     "execution_count": 11,
     "metadata": {},
     "output_type": "execute_result"
    }
   ],
   "source": [
    "\"\"\"The binomial distribution has the following properties:\n",
    "\n",
    "The number of trials must be fixed.\n",
    "The probability of success must be the same for each trial.\n",
    "The trials must be independent.\n",
    "Two examples of events where the binomial distribution can be applied are:\n",
    "\n",
    "The number of heads in 10 coin flips.\n",
    "The number of people who get a certain disease out of a sample of 100 people.\"\"\""
   ]
  },
  {
   "cell_type": "code",
   "execution_count": null,
   "id": "2d6172d0-5a53-43b9-ab69-bec8caaac841",
   "metadata": {},
   "outputs": [],
   "source": []
  },
  {
   "cell_type": "code",
   "execution_count": null,
   "id": "8da11530-97a5-4a1e-be9c-f0a6abab3245",
   "metadata": {},
   "outputs": [],
   "source": []
  },
  {
   "cell_type": "code",
   "execution_count": 12,
   "id": "f93f77b8-5757-414d-acb6-d49b850fd17a",
   "metadata": {},
   "outputs": [
    {
     "data": {
      "text/plain": [
       "6"
      ]
     },
     "execution_count": 12,
     "metadata": {},
     "output_type": "execute_result"
    }
   ],
   "source": [
    "6"
   ]
  },
  {
   "cell_type": "code",
   "execution_count": 13,
   "id": "beb0a391-071b-4908-ba13-1052196e595c",
   "metadata": {},
   "outputs": [],
   "source": [
    "import math\n",
    "\n",
    "def poisson_cdf(mean, k):\n",
    "    cdf = 0.0\n",
    "    for i in range(k + 1):\n",
    "        cdf += (math.exp(-mean) * mean**i) / math.factorial(i)\n",
    "    return cdf\n"
   ]
  },
  {
   "cell_type": "code",
   "execution_count": null,
   "id": "ed9a9f64-bfa9-4aaa-9678-46eb2dd6a287",
   "metadata": {},
   "outputs": [],
   "source": []
  },
  {
   "cell_type": "code",
   "execution_count": 14,
   "id": "a664f55f-5fba-4658-a202-2d199ff3d5c4",
   "metadata": {},
   "outputs": [
    {
     "data": {
      "text/plain": [
       "7"
      ]
     },
     "execution_count": 14,
     "metadata": {},
     "output_type": "execute_result"
    }
   ],
   "source": [
    "7"
   ]
  },
  {
   "cell_type": "code",
   "execution_count": 15,
   "id": "82604a58-e094-42b5-90cb-04d8697a100b",
   "metadata": {},
   "outputs": [
    {
     "data": {
      "text/plain": [
       "' The main difference between the binomial distribution and the Poisson distribution lies in the nature of the events they model. The binomial distribution describes the number of successes in a fixed number of independent Bernoulli trials, where each trial can result in a success or a failure with a given probability. On the other hand, the Poisson distribution models the number of events occurring in a fixed interval of time or space, assuming that these events occur at a constant rate and independently of each other.'"
      ]
     },
     "execution_count": 15,
     "metadata": {},
     "output_type": "execute_result"
    }
   ],
   "source": [
    "\"\"\" The main difference between the binomial distribution and the Poisson distribution lies in the nature of the events they model. The binomial distribution describes the number of successes in a fixed number of independent Bernoulli trials, where each trial can result in a success or a failure with a given probability. On the other hand, the Poisson distribution models the number of events occurring in a fixed interval of time or space, assuming that these events occur at a constant rate and independently of each other.\"\"\""
   ]
  },
  {
   "cell_type": "code",
   "execution_count": null,
   "id": "ae8964da-d501-46ea-b53f-09ce36179799",
   "metadata": {},
   "outputs": [],
   "source": []
  },
  {
   "cell_type": "code",
   "execution_count": 16,
   "id": "96b80d2d-514e-4d1d-a51c-10c07ecddfc0",
   "metadata": {},
   "outputs": [
    {
     "data": {
      "text/plain": [
       "8"
      ]
     },
     "execution_count": 16,
     "metadata": {},
     "output_type": "execute_result"
    }
   ],
   "source": [
    "8"
   ]
  },
  {
   "cell_type": "code",
   "execution_count": 17,
   "id": "815b14eb-dede-48fb-9a1a-4829c0243279",
   "metadata": {},
   "outputs": [
    {
     "name": "stdout",
     "output_type": "stream",
     "text": [
      "Sample Mean: 5.092\n",
      "Sample Variance: 5.097536\n"
     ]
    }
   ],
   "source": [
    "import numpy as np\n",
    "\n",
    "# Set the parameters\n",
    "mean = 5\n",
    "sample_size = 1000\n",
    "\n",
    "# Generate the random sample\n",
    "sample = np.random.poisson(mean, sample_size)\n",
    "\n",
    "# Calculate the sample mean and variance\n",
    "sample_mean = np.mean(sample)\n",
    "sample_variance = np.var(sample)\n",
    "\n",
    "# Print the results\n",
    "print(\"Sample Mean:\", sample_mean)\n",
    "print(\"Sample Variance:\", sample_variance)\n"
   ]
  },
  {
   "cell_type": "code",
   "execution_count": null,
   "id": "d99ffe26-bb34-42af-b151-745aa7e782d1",
   "metadata": {},
   "outputs": [],
   "source": []
  },
  {
   "cell_type": "code",
   "execution_count": 18,
   "id": "6af3ac4f-c045-4d43-9d5a-68e78d95bd8e",
   "metadata": {},
   "outputs": [
    {
     "data": {
      "text/plain": [
       "9"
      ]
     },
     "execution_count": 18,
     "metadata": {},
     "output_type": "execute_result"
    }
   ],
   "source": [
    "9"
   ]
  },
  {
   "cell_type": "code",
   "execution_count": null,
   "id": "7edd8ff5-b912-4da5-ace1-e20dc58d42e0",
   "metadata": {},
   "outputs": [],
   "source": []
  },
  {
   "cell_type": "code",
   "execution_count": null,
   "id": "a0b850a8-11fd-415d-aa86-8c6ce88da4f0",
   "metadata": {},
   "outputs": [],
   "source": []
  },
  {
   "cell_type": "code",
   "execution_count": null,
   "id": "8ac47d03-4225-49a6-9a7b-5bc87369820b",
   "metadata": {},
   "outputs": [],
   "source": []
  },
  {
   "cell_type": "code",
   "execution_count": null,
   "id": "6cfaf0ba-8af3-46ab-b49f-df1df8189b4b",
   "metadata": {},
   "outputs": [],
   "source": []
  },
  {
   "cell_type": "code",
   "execution_count": null,
   "id": "55fede85-ac3e-4e7b-bac5-10a3aff7e1e7",
   "metadata": {},
   "outputs": [],
   "source": []
  },
  {
   "cell_type": "code",
   "execution_count": null,
   "id": "e0ac4206-e6d5-4175-95c7-3bce1d38be84",
   "metadata": {},
   "outputs": [],
   "source": []
  },
  {
   "cell_type": "code",
   "execution_count": null,
   "id": "6a4b65f1-84d7-4396-a482-49f292a862e4",
   "metadata": {},
   "outputs": [],
   "source": []
  },
  {
   "cell_type": "code",
   "execution_count": null,
   "id": "0c072716-1ef2-495b-932f-4b365c744bec",
   "metadata": {},
   "outputs": [],
   "source": []
  },
  {
   "cell_type": "code",
   "execution_count": null,
   "id": "83d46c33-5b91-4281-9df8-dab2d56869d8",
   "metadata": {},
   "outputs": [],
   "source": []
  },
  {
   "cell_type": "code",
   "execution_count": null,
   "id": "9a858989-825c-4a9f-9874-37345904690a",
   "metadata": {},
   "outputs": [],
   "source": []
  },
  {
   "cell_type": "code",
   "execution_count": null,
   "id": "9a2b1244-b502-44ea-8e06-29117e4ac349",
   "metadata": {},
   "outputs": [],
   "source": []
  },
  {
   "cell_type": "code",
   "execution_count": null,
   "id": "6dd0cb12-6b25-42c1-b28d-f9da03ff869a",
   "metadata": {},
   "outputs": [],
   "source": []
  },
  {
   "cell_type": "code",
   "execution_count": null,
   "id": "713d1142-d339-47e0-9f79-8e0ee6c99aa6",
   "metadata": {},
   "outputs": [],
   "source": []
  },
  {
   "cell_type": "code",
   "execution_count": null,
   "id": "ef7a4adf-63d8-42b6-9157-dba0b91152a5",
   "metadata": {},
   "outputs": [],
   "source": []
  },
  {
   "cell_type": "code",
   "execution_count": null,
   "id": "d1a5f17b-484f-4a39-b303-95be0fa774ed",
   "metadata": {},
   "outputs": [],
   "source": []
  },
  {
   "cell_type": "code",
   "execution_count": null,
   "id": "fe97202f-1095-4edc-a53a-770aae528949",
   "metadata": {},
   "outputs": [],
   "source": []
  },
  {
   "cell_type": "code",
   "execution_count": null,
   "id": "c922576e-da48-4dd2-8e50-a55f5cbfdb77",
   "metadata": {},
   "outputs": [],
   "source": []
  },
  {
   "cell_type": "code",
   "execution_count": null,
   "id": "37f43d5f-742b-4d9c-99fa-6356554866ef",
   "metadata": {},
   "outputs": [],
   "source": []
  },
  {
   "cell_type": "code",
   "execution_count": null,
   "id": "57834aa7-3408-4f99-a802-8d224cd849ff",
   "metadata": {},
   "outputs": [],
   "source": []
  },
  {
   "cell_type": "code",
   "execution_count": null,
   "id": "192da9c9-55e4-4750-a327-8165b335e5ed",
   "metadata": {},
   "outputs": [],
   "source": []
  },
  {
   "cell_type": "code",
   "execution_count": null,
   "id": "5e1de139-96b5-4a38-96f0-b456a85ac426",
   "metadata": {},
   "outputs": [],
   "source": []
  },
  {
   "cell_type": "code",
   "execution_count": null,
   "id": "f905af9f-ac3d-4cd2-88c9-d55e8fff7ad6",
   "metadata": {},
   "outputs": [],
   "source": []
  },
  {
   "cell_type": "code",
   "execution_count": null,
   "id": "e9280701-ff57-4c2e-89e4-6ffd1a7989c2",
   "metadata": {},
   "outputs": [],
   "source": []
  },
  {
   "cell_type": "code",
   "execution_count": null,
   "id": "f28717bd-83e6-4c63-9b21-a3d4a980a742",
   "metadata": {},
   "outputs": [],
   "source": []
  },
  {
   "cell_type": "code",
   "execution_count": null,
   "id": "0b25d262-ae7c-473c-8633-2db047d0d031",
   "metadata": {},
   "outputs": [],
   "source": []
  },
  {
   "cell_type": "code",
   "execution_count": null,
   "id": "e255c846-d363-4394-88e0-bb159ad02112",
   "metadata": {},
   "outputs": [],
   "source": []
  },
  {
   "cell_type": "code",
   "execution_count": null,
   "id": "a218940d-dc09-4af7-814a-b3358c0605d7",
   "metadata": {},
   "outputs": [],
   "source": []
  },
  {
   "cell_type": "code",
   "execution_count": null,
   "id": "ed13c09b-74fc-4ff7-b884-89689e959907",
   "metadata": {},
   "outputs": [],
   "source": []
  },
  {
   "cell_type": "code",
   "execution_count": null,
   "id": "b0b9e6a7-3b7e-4574-bb8d-a85cba33c1e5",
   "metadata": {},
   "outputs": [],
   "source": []
  },
  {
   "cell_type": "code",
   "execution_count": null,
   "id": "abd97b62-e424-4abb-972f-66a62a1bff4c",
   "metadata": {},
   "outputs": [],
   "source": []
  },
  {
   "cell_type": "code",
   "execution_count": null,
   "id": "30b19fe7-c0f2-4066-8103-bd2d3981d2aa",
   "metadata": {},
   "outputs": [],
   "source": []
  },
  {
   "cell_type": "code",
   "execution_count": null,
   "id": "9a7f05df-dd8a-4f42-9c86-26bcb84d70f0",
   "metadata": {},
   "outputs": [],
   "source": []
  },
  {
   "cell_type": "code",
   "execution_count": null,
   "id": "3c4a0281-c913-49d8-b01e-02546462b087",
   "metadata": {},
   "outputs": [],
   "source": []
  },
  {
   "cell_type": "code",
   "execution_count": null,
   "id": "3bda79b4-c844-4d2b-a825-748fb3dac5c5",
   "metadata": {},
   "outputs": [],
   "source": []
  },
  {
   "cell_type": "code",
   "execution_count": null,
   "id": "9b68ad8d-52eb-47f4-acd3-5b7f24a59eab",
   "metadata": {},
   "outputs": [],
   "source": []
  },
  {
   "cell_type": "code",
   "execution_count": null,
   "id": "8ab82751-35b5-4609-82cf-cdc9b4d62b61",
   "metadata": {},
   "outputs": [],
   "source": []
  },
  {
   "cell_type": "code",
   "execution_count": null,
   "id": "8d409da0-6398-4b8a-99ef-f341fcd4342f",
   "metadata": {},
   "outputs": [],
   "source": []
  },
  {
   "cell_type": "code",
   "execution_count": null,
   "id": "d8973d68-5e9e-4012-baa7-866eda03704c",
   "metadata": {},
   "outputs": [],
   "source": []
  },
  {
   "cell_type": "code",
   "execution_count": null,
   "id": "d0613283-2adc-42de-b1d9-0030680b80e2",
   "metadata": {},
   "outputs": [],
   "source": []
  },
  {
   "cell_type": "code",
   "execution_count": null,
   "id": "5e6662e2-dd67-4a1f-9f96-b949a560c9a7",
   "metadata": {},
   "outputs": [],
   "source": []
  },
  {
   "cell_type": "code",
   "execution_count": null,
   "id": "c6bb9a18-1b00-4854-8f41-e0a13a98f9d2",
   "metadata": {},
   "outputs": [],
   "source": []
  },
  {
   "cell_type": "code",
   "execution_count": null,
   "id": "ac6d0112-fef3-4c15-a61b-db97f6d8e238",
   "metadata": {},
   "outputs": [],
   "source": []
  }
 ],
 "metadata": {
  "kernelspec": {
   "display_name": "Python 3 (ipykernel)",
   "language": "python",
   "name": "python3"
  },
  "language_info": {
   "codemirror_mode": {
    "name": "ipython",
    "version": 3
   },
   "file_extension": ".py",
   "mimetype": "text/x-python",
   "name": "python",
   "nbconvert_exporter": "python",
   "pygments_lexer": "ipython3",
   "version": "3.10.6"
  }
 },
 "nbformat": 4,
 "nbformat_minor": 5
}
