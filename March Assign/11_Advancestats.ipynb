{
 "cells": [
  {
   "cell_type": "code",
   "execution_count": 2,
   "id": "db3828c0-3fbf-4918-a667-39572693f8ae",
   "metadata": {},
   "outputs": [
    {
     "data": {
      "text/plain": [
       "1"
      ]
     },
     "execution_count": 2,
     "metadata": {},
     "output_type": "execute_result"
    }
   ],
   "source": [
    "1"
   ]
  },
  {
   "cell_type": "code",
   "execution_count": 4,
   "id": "12cb3dd1-2f7e-4f47-ac0f-91900d19073e",
   "metadata": {},
   "outputs": [
    {
     "data": {
      "text/plain": [
       "'\\nT-test: A t-test is used when the sample size is small (typically less than 30) or when the population standard deviation is unknown. It is appropriate for analyzing small samples and making inferences about the population mean. For example, you might use a t-test to compare the average test scores of two groups of students, where the population standard deviation is unknown.\\n\\nZ-test: A z-test is used when the sample size is large (typically greater than 30) and the population standard deviation is known. It is appropriate for analyzing large samples and making inferences about the population mean. For example, you might use a z-test to compare the average heights of two different populations when the standard deviation of the population heights is known.\\n'"
      ]
     },
     "execution_count": 4,
     "metadata": {},
     "output_type": "execute_result"
    }
   ],
   "source": [
    "\"\"\"\n",
    "T-test: A t-test is used when the sample size is small (typically less than 30) or when the population standard deviation is unknown. It is appropriate for analyzing small samples and making inferences about the population mean. For example, you might use a t-test to compare the average test scores of two groups of students, where the population standard deviation is unknown.\n",
    "\n",
    "Z-test: A z-test is used when the sample size is large (typically greater than 30) and the population standard deviation is known. It is appropriate for analyzing large samples and making inferences about the population mean. For example, you might use a z-test to compare the average heights of two different populations when the standard deviation of the population heights is known.\n",
    "\"\"\"\n"
   ]
  },
  {
   "cell_type": "code",
   "execution_count": null,
   "id": "4af23733-1aeb-45f1-9a81-0d5b1c716ab4",
   "metadata": {},
   "outputs": [],
   "source": []
  },
  {
   "cell_type": "code",
   "execution_count": 3,
   "id": "e2dc83db-4e68-484e-8162-1818c3f58235",
   "metadata": {},
   "outputs": [
    {
     "data": {
      "text/plain": [
       "2"
      ]
     },
     "execution_count": 3,
     "metadata": {},
     "output_type": "execute_result"
    }
   ],
   "source": [
    "2"
   ]
  },
  {
   "cell_type": "code",
   "execution_count": 5,
   "id": "286a01f7-5fae-4939-9511-899d55998d2a",
   "metadata": {},
   "outputs": [
    {
     "data": {
      "text/plain": [
       "' One-tailed test: In a one-tailed test, the hypothesis is directional, specifying an effect or difference in one specific direction. The test focuses on determining if the observed data significantly deviate in that specific direction. For example, testing if a new drug improves test scores compared to a placebo.\\n\\nTwo-tailed test: In a two-tailed test, the hypothesis is non-directional, and it aims to detect any significant difference or effect, regardless of the direction. The test looks for deviations in either direction. For example, testing if a new treatment has any effect on test scores, without specifying if it is an improvement or a decline'"
      ]
     },
     "execution_count": 5,
     "metadata": {},
     "output_type": "execute_result"
    }
   ],
   "source": [
    "\"\"\" One-tailed test: In a one-tailed test, the hypothesis is directional, specifying an effect or difference in one specific direction. The test focuses on determining if the observed data significantly deviate in that specific direction. For example, testing if a new drug improves test scores compared to a placebo.\n",
    "\n",
    "Two-tailed test: In a two-tailed test, the hypothesis is non-directional, and it aims to detect any significant difference or effect, regardless of the direction. The test looks for deviations in either direction. For example, testing if a new treatment has any effect on test scores, without specifying if it is an improvement or a decline\"\"\""
   ]
  },
  {
   "cell_type": "code",
   "execution_count": null,
   "id": "2447401e-69cb-49b0-894b-02947f161633",
   "metadata": {},
   "outputs": [],
   "source": []
  },
  {
   "cell_type": "code",
   "execution_count": 6,
   "id": "592d7d5d-887a-40b7-ad7d-cb52e4657e72",
   "metadata": {},
   "outputs": [
    {
     "data": {
      "text/plain": [
       "3"
      ]
     },
     "execution_count": 6,
     "metadata": {},
     "output_type": "execute_result"
    }
   ],
   "source": [
    "3"
   ]
  },
  {
   "cell_type": "code",
   "execution_count": 7,
   "id": "3b708c94-70d7-4f4a-b921-0648fec075fd",
   "metadata": {},
   "outputs": [
    {
     "data": {
      "text/plain": [
       "'Type 1 error: A Type 1 error occurs when the null hypothesis (H0) is rejected when it is actually true. It represents a false positive or a false rejection of the null hypothesis. It implies concluding that there is a significant effect or difference when there is none. For example, rejecting the null hypothesis that a medical treatment has no effect when, in reality, it does not.\\n\\nType 2 error: A Type 2 error occurs when the null hypothesis (H0) is not rejected when it is actually false. It represents a false negative or a failure to reject the null hypothesis when there is a true effect or difference. It implies failing to identify a significant effect or difference when it exists. For example, failing to reject the null hypothesis that a medical treatment has no effect when, in reality, it does have an effect. '"
      ]
     },
     "execution_count": 7,
     "metadata": {},
     "output_type": "execute_result"
    }
   ],
   "source": [
    "\"\"\"Type 1 error: A Type 1 error occurs when the null hypothesis (H0) is rejected when it is actually true. It represents a false positive or a false rejection of the null hypothesis. It implies concluding that there is a significant effect or difference when there is none. For example, rejecting the null hypothesis that a medical treatment has no effect when, in reality, it does not.\n",
    "\n",
    "Type 2 error: A Type 2 error occurs when the null hypothesis (H0) is not rejected when it is actually false. It represents a false negative or a failure to reject the null hypothesis when there is a true effect or difference. It implies failing to identify a significant effect or difference when it exists. For example, failing to reject the null hypothesis that a medical treatment has no effect when, in reality, it does have an effect. \"\"\""
   ]
  },
  {
   "cell_type": "code",
   "execution_count": null,
   "id": "0f26d1fa-963d-433e-9e6c-357c933caa80",
   "metadata": {},
   "outputs": [],
   "source": []
  },
  {
   "cell_type": "code",
   "execution_count": 8,
   "id": "7503a034-d64f-46c5-a880-501e8691cd45",
   "metadata": {},
   "outputs": [
    {
     "data": {
      "text/plain": [
       "4"
      ]
     },
     "execution_count": 8,
     "metadata": {},
     "output_type": "execute_result"
    }
   ],
   "source": [
    "4"
   ]
  },
  {
   "cell_type": "code",
   "execution_count": 9,
   "id": "903a4792-5e2b-41c4-9d51-303fb7269424",
   "metadata": {},
   "outputs": [
    {
     "data": {
      "text/plain": [
       "\"Bayes's theorem is a fundamental concept in probability theory and conditional probability. It relates the conditional probability of an event A given event B to the probability of event B given event A. The theorem is stated as\""
      ]
     },
     "execution_count": 9,
     "metadata": {},
     "output_type": "execute_result"
    }
   ],
   "source": [
    "\"\"\"Bayes's theorem is a fundamental concept in probability theory and conditional probability. It relates the conditional probability of an event A given event B to the probability of event B given event A. The theorem is stated as\"\"\""
   ]
  },
  {
   "cell_type": "code",
   "execution_count": null,
   "id": "0a235784-caef-4f5d-8409-d555dc2c9e4f",
   "metadata": {},
   "outputs": [],
   "source": []
  },
  {
   "cell_type": "code",
   "execution_count": 10,
   "id": "b8fa8d93-9152-4ade-9160-4c5075fc8000",
   "metadata": {},
   "outputs": [
    {
     "data": {
      "text/plain": [
       "5"
      ]
     },
     "execution_count": 10,
     "metadata": {},
     "output_type": "execute_result"
    }
   ],
   "source": [
    "5"
   ]
  },
  {
   "cell_type": "code",
   "execution_count": null,
   "id": "be0ac180-1b58-495e-a1af-065f91277704",
   "metadata": {},
   "outputs": [],
   "source": []
  },
  {
   "cell_type": "code",
   "execution_count": null,
   "id": "d8b96608-960c-44d2-8368-8f3770213a82",
   "metadata": {},
   "outputs": [],
   "source": []
  },
  {
   "cell_type": "code",
   "execution_count": null,
   "id": "0aad345f-c1a3-440a-916a-659faed1db8e",
   "metadata": {},
   "outputs": [],
   "source": []
  },
  {
   "cell_type": "code",
   "execution_count": null,
   "id": "8172f7de-f83c-426c-9265-c8dc94e93981",
   "metadata": {},
   "outputs": [],
   "source": []
  },
  {
   "cell_type": "code",
   "execution_count": null,
   "id": "9f879f5a-1171-412c-bdb1-778c9123d10b",
   "metadata": {},
   "outputs": [],
   "source": []
  },
  {
   "cell_type": "code",
   "execution_count": null,
   "id": "16b6d17b-cb76-4ce1-b890-1b7f6dc447cc",
   "metadata": {},
   "outputs": [],
   "source": []
  },
  {
   "cell_type": "code",
   "execution_count": null,
   "id": "2cc0f4ae-a851-4190-80e1-e0a0dacb1406",
   "metadata": {},
   "outputs": [],
   "source": []
  },
  {
   "cell_type": "code",
   "execution_count": null,
   "id": "af1f4d8a-ef1d-473d-9f0f-dbd5a484a574",
   "metadata": {},
   "outputs": [],
   "source": []
  },
  {
   "cell_type": "code",
   "execution_count": null,
   "id": "2ae3e18b-e8e6-41a3-9034-67d59d9a02f7",
   "metadata": {},
   "outputs": [],
   "source": []
  },
  {
   "cell_type": "code",
   "execution_count": null,
   "id": "c4f32db4-a8e0-4e80-bb11-143111b8d15f",
   "metadata": {},
   "outputs": [],
   "source": []
  },
  {
   "cell_type": "code",
   "execution_count": null,
   "id": "b2672dc4-643d-4661-84bd-67d228e4a0e3",
   "metadata": {},
   "outputs": [],
   "source": []
  },
  {
   "cell_type": "code",
   "execution_count": null,
   "id": "3f55ea01-4877-4460-8a66-319894363162",
   "metadata": {},
   "outputs": [],
   "source": []
  },
  {
   "cell_type": "code",
   "execution_count": null,
   "id": "52564f88-180b-4f23-8a9f-e512b43d326f",
   "metadata": {},
   "outputs": [],
   "source": []
  },
  {
   "cell_type": "code",
   "execution_count": null,
   "id": "b2a65b39-8051-4e26-b6fe-c95325b27052",
   "metadata": {},
   "outputs": [],
   "source": []
  },
  {
   "cell_type": "code",
   "execution_count": null,
   "id": "10b90372-540e-4df8-890d-c24bc7b488ee",
   "metadata": {},
   "outputs": [],
   "source": []
  },
  {
   "cell_type": "code",
   "execution_count": null,
   "id": "fb131f7b-6735-4bd7-bfde-3b16b1eb0a11",
   "metadata": {},
   "outputs": [],
   "source": []
  },
  {
   "cell_type": "code",
   "execution_count": null,
   "id": "0286ae6a-6a83-42e3-86f1-b1ccc510cd80",
   "metadata": {},
   "outputs": [],
   "source": []
  },
  {
   "cell_type": "code",
   "execution_count": null,
   "id": "60617758-5a2b-4e3b-b9d5-9ba34154a41d",
   "metadata": {},
   "outputs": [],
   "source": []
  },
  {
   "cell_type": "code",
   "execution_count": null,
   "id": "75357ed9-8f0c-40d3-a99c-cd3fb193a93e",
   "metadata": {},
   "outputs": [],
   "source": []
  },
  {
   "cell_type": "code",
   "execution_count": null,
   "id": "b19c95f8-1121-4397-bba9-ed2ee38922d9",
   "metadata": {},
   "outputs": [],
   "source": []
  },
  {
   "cell_type": "code",
   "execution_count": null,
   "id": "46ad43a5-5124-4205-a1ee-a9453e73d481",
   "metadata": {},
   "outputs": [],
   "source": []
  },
  {
   "cell_type": "code",
   "execution_count": null,
   "id": "c8ceea6e-cce4-4c28-b2a6-301b243a767a",
   "metadata": {},
   "outputs": [],
   "source": []
  },
  {
   "cell_type": "code",
   "execution_count": null,
   "id": "64c42a4e-c7f5-465c-b90c-f49f24483102",
   "metadata": {},
   "outputs": [],
   "source": []
  },
  {
   "cell_type": "code",
   "execution_count": null,
   "id": "613d9b16-d228-4058-b8d3-077e7056a165",
   "metadata": {},
   "outputs": [],
   "source": []
  },
  {
   "cell_type": "code",
   "execution_count": null,
   "id": "d21cf1f4-8730-416f-bf71-ae8134a96e9b",
   "metadata": {},
   "outputs": [],
   "source": []
  },
  {
   "cell_type": "code",
   "execution_count": null,
   "id": "e8aa5828-aeb1-447e-97b7-15a055fb65ad",
   "metadata": {},
   "outputs": [],
   "source": []
  },
  {
   "cell_type": "code",
   "execution_count": null,
   "id": "6a6a8fd9-5100-40f8-928d-085668e1f0b8",
   "metadata": {},
   "outputs": [],
   "source": []
  },
  {
   "cell_type": "code",
   "execution_count": null,
   "id": "73df782d-643d-48a4-a191-e4550f21fd9d",
   "metadata": {},
   "outputs": [],
   "source": []
  },
  {
   "cell_type": "code",
   "execution_count": null,
   "id": "953cb781-54db-4e36-a663-e0d5c5932bb9",
   "metadata": {},
   "outputs": [],
   "source": []
  },
  {
   "cell_type": "code",
   "execution_count": null,
   "id": "55a6c8e1-c524-4c99-9466-c497a527a623",
   "metadata": {},
   "outputs": [],
   "source": []
  },
  {
   "cell_type": "code",
   "execution_count": null,
   "id": "2753983c-e19c-4f4b-b3d8-8f34285735fd",
   "metadata": {},
   "outputs": [],
   "source": []
  },
  {
   "cell_type": "code",
   "execution_count": null,
   "id": "035c880b-a3fe-4f18-b75f-c43f268250f2",
   "metadata": {},
   "outputs": [],
   "source": []
  },
  {
   "cell_type": "code",
   "execution_count": null,
   "id": "0be5d49e-3d2d-414f-bf99-a623a7a86812",
   "metadata": {},
   "outputs": [],
   "source": []
  },
  {
   "cell_type": "code",
   "execution_count": null,
   "id": "03200690-bb21-48d0-a515-b30baa4d55a5",
   "metadata": {},
   "outputs": [],
   "source": []
  },
  {
   "cell_type": "code",
   "execution_count": null,
   "id": "59763166-0147-4282-bced-773f400833fa",
   "metadata": {},
   "outputs": [],
   "source": []
  },
  {
   "cell_type": "code",
   "execution_count": null,
   "id": "a87d63e9-bf1c-467e-99d3-881fd97c2e32",
   "metadata": {},
   "outputs": [],
   "source": []
  },
  {
   "cell_type": "code",
   "execution_count": null,
   "id": "77aec5ca-818c-4349-b950-378db2102927",
   "metadata": {},
   "outputs": [],
   "source": []
  },
  {
   "cell_type": "code",
   "execution_count": null,
   "id": "279e0a3d-df1c-4704-ab53-2c4b6d124bd5",
   "metadata": {},
   "outputs": [],
   "source": []
  },
  {
   "cell_type": "code",
   "execution_count": null,
   "id": "d033c38a-9d57-4651-8276-34f0c1fce3c0",
   "metadata": {},
   "outputs": [],
   "source": []
  },
  {
   "cell_type": "code",
   "execution_count": null,
   "id": "a7d76bf4-dda9-4e14-bd25-081bdc56f0dd",
   "metadata": {},
   "outputs": [],
   "source": []
  },
  {
   "cell_type": "code",
   "execution_count": null,
   "id": "13cfb10f-ded4-4ae2-b379-950f3225b365",
   "metadata": {},
   "outputs": [],
   "source": []
  },
  {
   "cell_type": "code",
   "execution_count": null,
   "id": "24d823cc-468b-4383-8249-048623bafb8c",
   "metadata": {},
   "outputs": [],
   "source": []
  },
  {
   "cell_type": "code",
   "execution_count": null,
   "id": "6e41b575-ad9d-48e2-b5c3-260ca155e881",
   "metadata": {},
   "outputs": [],
   "source": []
  },
  {
   "cell_type": "code",
   "execution_count": null,
   "id": "105978b4-48e2-4dea-a561-98baf5c98877",
   "metadata": {},
   "outputs": [],
   "source": []
  },
  {
   "cell_type": "code",
   "execution_count": null,
   "id": "1bf16090-8f39-4169-91a3-f80792af8fb4",
   "metadata": {},
   "outputs": [],
   "source": []
  },
  {
   "cell_type": "code",
   "execution_count": null,
   "id": "10a2f535-d6cd-4277-b128-4a4e99823bec",
   "metadata": {},
   "outputs": [],
   "source": []
  },
  {
   "cell_type": "code",
   "execution_count": null,
   "id": "fb8ecdde-9336-4985-b5ae-b1c9f52be2ca",
   "metadata": {},
   "outputs": [],
   "source": []
  },
  {
   "cell_type": "code",
   "execution_count": null,
   "id": "bed6e863-2a5f-4f86-ba9f-4c6df8f740b9",
   "metadata": {},
   "outputs": [],
   "source": []
  },
  {
   "cell_type": "code",
   "execution_count": null,
   "id": "7c597532-25d5-41c4-9fc4-d4c7b1e7d0e6",
   "metadata": {},
   "outputs": [],
   "source": []
  },
  {
   "cell_type": "code",
   "execution_count": null,
   "id": "9c9f7683-08d5-41d7-a327-b27e5bb826a5",
   "metadata": {},
   "outputs": [],
   "source": []
  },
  {
   "cell_type": "code",
   "execution_count": null,
   "id": "3ea4b44d-d767-405a-b538-0ca1fa4d0a8e",
   "metadata": {},
   "outputs": [],
   "source": []
  },
  {
   "cell_type": "code",
   "execution_count": null,
   "id": "5e959226-0ab3-4df8-8718-d90f9162c4e9",
   "metadata": {},
   "outputs": [],
   "source": []
  },
  {
   "cell_type": "code",
   "execution_count": null,
   "id": "40a6cd57-c612-4602-864f-8662f0752972",
   "metadata": {},
   "outputs": [],
   "source": []
  },
  {
   "cell_type": "code",
   "execution_count": null,
   "id": "904da03e-e242-4cc4-b805-451a52c57875",
   "metadata": {},
   "outputs": [],
   "source": []
  },
  {
   "cell_type": "code",
   "execution_count": null,
   "id": "8e039658-ca52-474c-8704-0de5999e4bb8",
   "metadata": {},
   "outputs": [],
   "source": []
  },
  {
   "cell_type": "code",
   "execution_count": null,
   "id": "50bb0eaf-b9a3-44b0-a811-8855a89af633",
   "metadata": {},
   "outputs": [],
   "source": []
  },
  {
   "cell_type": "code",
   "execution_count": null,
   "id": "6c535de7-98dd-4063-93fa-5ee9873d217b",
   "metadata": {},
   "outputs": [],
   "source": []
  },
  {
   "cell_type": "code",
   "execution_count": null,
   "id": "f2061f64-9c87-4e37-a211-50b503aa483d",
   "metadata": {},
   "outputs": [],
   "source": []
  },
  {
   "cell_type": "code",
   "execution_count": null,
   "id": "f6ca0ee8-cdfe-43ea-86f5-cdbd049b9e5d",
   "metadata": {},
   "outputs": [],
   "source": []
  },
  {
   "cell_type": "code",
   "execution_count": null,
   "id": "b5a68161-ce0d-42cf-8197-f3c464422c15",
   "metadata": {},
   "outputs": [],
   "source": []
  },
  {
   "cell_type": "code",
   "execution_count": null,
   "id": "6b300e3f-2002-4304-add0-ed2195e75111",
   "metadata": {},
   "outputs": [],
   "source": []
  },
  {
   "cell_type": "code",
   "execution_count": null,
   "id": "72729964-5bb1-4cc4-b468-9680cc540a51",
   "metadata": {},
   "outputs": [],
   "source": []
  },
  {
   "cell_type": "code",
   "execution_count": null,
   "id": "42fda8b2-ce9b-46cb-ac38-e57d3b7dffc6",
   "metadata": {},
   "outputs": [],
   "source": []
  },
  {
   "cell_type": "code",
   "execution_count": null,
   "id": "d75748c4-8879-45da-bde4-03311c6290f1",
   "metadata": {},
   "outputs": [],
   "source": []
  },
  {
   "cell_type": "code",
   "execution_count": null,
   "id": "8d32e79a-4d87-45bf-a86b-b787b1b06b54",
   "metadata": {},
   "outputs": [],
   "source": []
  },
  {
   "cell_type": "code",
   "execution_count": null,
   "id": "61d19810-6524-47d8-859f-3741922e1b21",
   "metadata": {},
   "outputs": [],
   "source": []
  },
  {
   "cell_type": "code",
   "execution_count": null,
   "id": "17913665-8e3c-4182-bd7f-5b5536345bdb",
   "metadata": {},
   "outputs": [],
   "source": []
  },
  {
   "cell_type": "code",
   "execution_count": null,
   "id": "2f28a20a-ef7f-420e-8ebd-637914982084",
   "metadata": {},
   "outputs": [],
   "source": []
  },
  {
   "cell_type": "code",
   "execution_count": null,
   "id": "4f6c62fd-60d8-4fbc-b8ec-f79a0436f562",
   "metadata": {},
   "outputs": [],
   "source": []
  },
  {
   "cell_type": "code",
   "execution_count": null,
   "id": "e63d1ff4-9081-4930-a341-f525b65460f6",
   "metadata": {},
   "outputs": [],
   "source": []
  },
  {
   "cell_type": "code",
   "execution_count": null,
   "id": "be3ae646-5fe6-4b58-b63d-929b201ac32e",
   "metadata": {},
   "outputs": [],
   "source": []
  },
  {
   "cell_type": "code",
   "execution_count": null,
   "id": "5298d126-8495-41af-88b4-0afde917e187",
   "metadata": {},
   "outputs": [],
   "source": []
  },
  {
   "cell_type": "code",
   "execution_count": null,
   "id": "4e54f356-63f4-4122-9d8b-04ced9a1a5f7",
   "metadata": {},
   "outputs": [],
   "source": []
  },
  {
   "cell_type": "code",
   "execution_count": null,
   "id": "de6a0966-3a3a-4111-b6fa-f0f45a5dc169",
   "metadata": {},
   "outputs": [],
   "source": []
  },
  {
   "cell_type": "code",
   "execution_count": null,
   "id": "668528b7-6175-4110-af31-5178bb76d42f",
   "metadata": {},
   "outputs": [],
   "source": []
  },
  {
   "cell_type": "code",
   "execution_count": null,
   "id": "a38492fa-50ab-4fdb-a263-8ee18895d161",
   "metadata": {},
   "outputs": [],
   "source": []
  },
  {
   "cell_type": "code",
   "execution_count": null,
   "id": "55cddf63-abf3-4f10-a397-f93e80e5ab75",
   "metadata": {},
   "outputs": [],
   "source": []
  },
  {
   "cell_type": "code",
   "execution_count": null,
   "id": "7749f964-8196-4fc7-975f-becea824a0a3",
   "metadata": {},
   "outputs": [],
   "source": []
  },
  {
   "cell_type": "code",
   "execution_count": null,
   "id": "b5a1f3b1-91b7-4576-90b6-5500c8215ccc",
   "metadata": {},
   "outputs": [],
   "source": []
  },
  {
   "cell_type": "code",
   "execution_count": null,
   "id": "53584b02-874a-426d-a227-1c7c26eb7722",
   "metadata": {},
   "outputs": [],
   "source": []
  },
  {
   "cell_type": "code",
   "execution_count": null,
   "id": "d32ef142-bbbc-48e3-831e-2854d7841413",
   "metadata": {},
   "outputs": [],
   "source": []
  },
  {
   "cell_type": "code",
   "execution_count": null,
   "id": "0df3f82d-7b05-48d2-bd3f-9ca285ab4030",
   "metadata": {},
   "outputs": [],
   "source": []
  },
  {
   "cell_type": "code",
   "execution_count": null,
   "id": "f21a6b4c-48a8-4b3b-bdb2-c56efe3244cf",
   "metadata": {},
   "outputs": [],
   "source": []
  },
  {
   "cell_type": "code",
   "execution_count": null,
   "id": "06ce1f52-0b01-4a90-9256-5377c859c217",
   "metadata": {},
   "outputs": [],
   "source": []
  },
  {
   "cell_type": "code",
   "execution_count": null,
   "id": "bb3995f6-9d68-417b-b2f0-49376c76ef1e",
   "metadata": {},
   "outputs": [],
   "source": []
  },
  {
   "cell_type": "code",
   "execution_count": null,
   "id": "b5a91182-6fd8-4ec6-8141-8f75cc737bd4",
   "metadata": {},
   "outputs": [],
   "source": []
  },
  {
   "cell_type": "code",
   "execution_count": null,
   "id": "43e2170b-efdc-4194-9a68-0dd5225476e8",
   "metadata": {},
   "outputs": [],
   "source": []
  },
  {
   "cell_type": "code",
   "execution_count": null,
   "id": "30959e2c-b26d-4f78-afa9-e99d7312435a",
   "metadata": {},
   "outputs": [],
   "source": []
  },
  {
   "cell_type": "code",
   "execution_count": null,
   "id": "cc9d1e08-90e2-4d6b-b7f7-9a261c50bade",
   "metadata": {},
   "outputs": [],
   "source": []
  },
  {
   "cell_type": "code",
   "execution_count": null,
   "id": "506c4eed-411b-4735-84cf-a8fee640cb0c",
   "metadata": {},
   "outputs": [],
   "source": []
  },
  {
   "cell_type": "code",
   "execution_count": null,
   "id": "92afa9b3-a995-46c3-837d-2c87217fe82d",
   "metadata": {},
   "outputs": [],
   "source": []
  },
  {
   "cell_type": "code",
   "execution_count": null,
   "id": "b65c9486-adf1-499a-b2cb-ebffad4fe52c",
   "metadata": {},
   "outputs": [],
   "source": []
  },
  {
   "cell_type": "code",
   "execution_count": null,
   "id": "a2fcc9d4-ad5a-4c84-abff-cbd314f291cc",
   "metadata": {},
   "outputs": [],
   "source": []
  },
  {
   "cell_type": "code",
   "execution_count": null,
   "id": "f08770c9-0b93-4420-8d0c-8505cb9925ef",
   "metadata": {},
   "outputs": [],
   "source": []
  },
  {
   "cell_type": "code",
   "execution_count": null,
   "id": "67a4d93b-4979-4cba-965d-8b37265c6cb2",
   "metadata": {},
   "outputs": [],
   "source": []
  },
  {
   "cell_type": "code",
   "execution_count": null,
   "id": "4080e26c-6810-455f-84e4-6ae3de4329a4",
   "metadata": {},
   "outputs": [],
   "source": []
  },
  {
   "cell_type": "code",
   "execution_count": null,
   "id": "743c98c1-f8c0-4e21-a6b3-2b83fa0abadf",
   "metadata": {},
   "outputs": [],
   "source": []
  },
  {
   "cell_type": "code",
   "execution_count": null,
   "id": "cdaa10e0-d1c3-45f1-b132-79f9e7111041",
   "metadata": {},
   "outputs": [],
   "source": []
  },
  {
   "cell_type": "code",
   "execution_count": null,
   "id": "df612e61-51bf-4190-8e8d-376a4866adda",
   "metadata": {},
   "outputs": [],
   "source": []
  },
  {
   "cell_type": "code",
   "execution_count": null,
   "id": "fbd704e2-5a4d-4ec7-a32c-7457e7078246",
   "metadata": {},
   "outputs": [],
   "source": []
  },
  {
   "cell_type": "code",
   "execution_count": null,
   "id": "492aad68-9c96-42f6-9d7c-37065849f197",
   "metadata": {},
   "outputs": [],
   "source": []
  },
  {
   "cell_type": "code",
   "execution_count": null,
   "id": "be86e117-fdde-4ca4-a731-e0893c803589",
   "metadata": {},
   "outputs": [],
   "source": []
  },
  {
   "cell_type": "code",
   "execution_count": null,
   "id": "d77ab7da-cd90-47b4-b527-8e18b16d8b68",
   "metadata": {},
   "outputs": [],
   "source": []
  },
  {
   "cell_type": "code",
   "execution_count": null,
   "id": "974278ba-6085-4aec-a691-0f280c7bb41d",
   "metadata": {},
   "outputs": [],
   "source": []
  },
  {
   "cell_type": "code",
   "execution_count": null,
   "id": "3bb2d10c-0544-4bf6-978c-c8a7cca5d5c8",
   "metadata": {},
   "outputs": [],
   "source": []
  },
  {
   "cell_type": "code",
   "execution_count": null,
   "id": "7f19b707-2de5-41bf-b38c-cafb32460d04",
   "metadata": {},
   "outputs": [],
   "source": []
  },
  {
   "cell_type": "code",
   "execution_count": null,
   "id": "581c8fd5-7852-4fa2-8600-8cbfea171eb7",
   "metadata": {},
   "outputs": [],
   "source": []
  }
 ],
 "metadata": {
  "kernelspec": {
   "display_name": "Python 3 (ipykernel)",
   "language": "python",
   "name": "python3"
  },
  "language_info": {
   "codemirror_mode": {
    "name": "ipython",
    "version": 3
   },
   "file_extension": ".py",
   "mimetype": "text/x-python",
   "name": "python",
   "nbconvert_exporter": "python",
   "pygments_lexer": "ipython3",
   "version": "3.10.6"
  }
 },
 "nbformat": 4,
 "nbformat_minor": 5
}
