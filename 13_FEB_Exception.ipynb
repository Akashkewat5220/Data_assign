{
 "cells": [
  {
   "cell_type": "markdown",
   "id": "9701f18f-e25f-4886-9357-0b0ce6b0d8f7",
   "metadata": {},
   "source": [
    "# 1"
   ]
  },
  {
   "cell_type": "code",
   "execution_count": 1,
   "id": "7c8ce282-8809-4730-8c89-2965e83eca8c",
   "metadata": {},
   "outputs": [
    {
     "data": {
      "text/plain": [
       "' We use the Exception class as the base class while creating a Custom Exception to ensure that our custom exception inherits the essential behavior and attributes of the standard exceptions provided by Python. '"
      ]
     },
     "execution_count": 1,
     "metadata": {},
     "output_type": "execute_result"
    }
   ],
   "source": [
    "\"\"\" We use the Exception class as the base class while creating a Custom Exception to ensure that our custom exception inherits the essential behavior and attributes of the standard exceptions provided by Python. \"\"\""
   ]
  },
  {
   "cell_type": "code",
   "execution_count": null,
   "id": "520b9f66-6f41-40f0-bf2a-03bc4039670c",
   "metadata": {},
   "outputs": [],
   "source": []
  },
  {
   "cell_type": "markdown",
   "id": "61a7c7c7-8a08-4f49-b288-6db1a49bb402",
   "metadata": {},
   "source": [
    "# 2 "
   ]
  },
  {
   "cell_type": "code",
   "execution_count": 2,
   "id": "20bf10b8-9e00-4a7e-87f1-31f9f2a31d2b",
   "metadata": {},
   "outputs": [
    {
     "name": "stdout",
     "output_type": "stream",
     "text": [
      "NoneType\n",
      "object\n"
     ]
    }
   ],
   "source": [
    "import sys\n",
    "\n",
    "def print_exception_hierarchy():\n",
    "    for exc in sys.exc_info()[1].__class__.__mro__:\n",
    "        print(exc.__name__)\n",
    "\n",
    "print_exception_hierarchy()\n"
   ]
  },
  {
   "cell_type": "code",
   "execution_count": null,
   "id": "f579324e-bb37-411f-8fd8-58fa19920473",
   "metadata": {},
   "outputs": [],
   "source": []
  },
  {
   "cell_type": "markdown",
   "id": "010e3e93-d6ac-404f-960c-a6986e592ac2",
   "metadata": {},
   "source": [
    "# 3 "
   ]
  },
  {
   "cell_type": "code",
   "execution_count": 3,
   "id": "8b340af4-4afd-4230-948a-730d6eb0965b",
   "metadata": {},
   "outputs": [
    {
     "data": {
      "text/plain": [
       "' The ArithmeticError class in Python defines errors related to arithmetic operations. Two commonly used errors defined in the ArithmeticError'"
      ]
     },
     "execution_count": 3,
     "metadata": {},
     "output_type": "execute_result"
    }
   ],
   "source": [
    "\"\"\" The ArithmeticError class in Python defines errors related to arithmetic operations. Two commonly used errors defined in the ArithmeticError\"\"\""
   ]
  },
  {
   "cell_type": "code",
   "execution_count": 5,
   "id": "3a1197e0-a9bc-4bba-b8a3-7f81b94741a9",
   "metadata": {},
   "outputs": [
    {
     "data": {
      "text/plain": [
       "' ZeroDivisionError: This error occurs when a division or modulo operation is performed with zero as the divisor.'"
      ]
     },
     "execution_count": 5,
     "metadata": {},
     "output_type": "execute_result"
    }
   ],
   "source": [
    "\"\"\" ZeroDivisionError: This error occurs when a division or modulo operation is performed with zero as the divisor.\"\"\""
   ]
  },
  {
   "cell_type": "code",
   "execution_count": 6,
   "id": "34f1a99c-e965-48d1-acff-b2b3d98b8518",
   "metadata": {},
   "outputs": [
    {
     "data": {
      "text/plain": [
       "'OverflowError: This error occurs when the result of an arithmetic operation is too large to be represented within the available numeric type '"
      ]
     },
     "execution_count": 6,
     "metadata": {},
     "output_type": "execute_result"
    }
   ],
   "source": [
    "\"\"\"OverflowError: This error occurs when the result of an arithmetic operation is too large to be represented within the available numeric type \"\"\""
   ]
  },
  {
   "cell_type": "code",
   "execution_count": null,
   "id": "51712fd9-a02e-447c-9090-5ede5f68668e",
   "metadata": {},
   "outputs": [],
   "source": []
  },
  {
   "cell_type": "markdown",
   "id": "92298064-f2a9-41e9-a025-2c088212721d",
   "metadata": {},
   "source": [
    "# 4"
   ]
  },
  {
   "cell_type": "code",
   "execution_count": 7,
   "id": "8ce9a300-c50e-46f4-be21-f1c9b510979f",
   "metadata": {},
   "outputs": [
    {
     "data": {
      "text/plain": [
       "'The LookupError class in Python is a base class for errors related to lookup operations'"
      ]
     },
     "execution_count": 7,
     "metadata": {},
     "output_type": "execute_result"
    }
   ],
   "source": [
    "\"\"\"The LookupError class in Python is a base class for errors related to lookup operations\"\"\""
   ]
  },
  {
   "cell_type": "code",
   "execution_count": 8,
   "id": "fc5469dd-4921-4dc3-be57-dfca46745875",
   "metadata": {},
   "outputs": [
    {
     "ename": "KeyError",
     "evalue": "'invalid_key'",
     "output_type": "error",
     "traceback": [
      "\u001b[0;31m---------------------------------------------------------------------------\u001b[0m",
      "\u001b[0;31mKeyError\u001b[0m                                  Traceback (most recent call last)",
      "Cell \u001b[0;32mIn [8], line 2\u001b[0m\n\u001b[1;32m      1\u001b[0m dictionary \u001b[38;5;241m=\u001b[39m {\u001b[38;5;124m\"\u001b[39m\u001b[38;5;124mkey\u001b[39m\u001b[38;5;124m\"\u001b[39m: \u001b[38;5;124m\"\u001b[39m\u001b[38;5;124mvalue\u001b[39m\u001b[38;5;124m\"\u001b[39m}\n\u001b[0;32m----> 2\u001b[0m value \u001b[38;5;241m=\u001b[39m \u001b[43mdictionary\u001b[49m\u001b[43m[\u001b[49m\u001b[38;5;124;43m\"\u001b[39;49m\u001b[38;5;124;43minvalid_key\u001b[39;49m\u001b[38;5;124;43m\"\u001b[39;49m\u001b[43m]\u001b[49m\n",
      "\u001b[0;31mKeyError\u001b[0m: 'invalid_key'"
     ]
    }
   ],
   "source": [
    "dictionary = {\"key\": \"value\"}\n",
    "value = dictionary[\"invalid_key\"]  # Raises KeyError\n"
   ]
  },
  {
   "cell_type": "code",
   "execution_count": 9,
   "id": "672706ce-1d57-49ab-a035-4abcb7ef164b",
   "metadata": {},
   "outputs": [
    {
     "ename": "IndexError",
     "evalue": "list index out of range",
     "output_type": "error",
     "traceback": [
      "\u001b[0;31m---------------------------------------------------------------------------\u001b[0m",
      "\u001b[0;31mIndexError\u001b[0m                                Traceback (most recent call last)",
      "Cell \u001b[0;32mIn [9], line 2\u001b[0m\n\u001b[1;32m      1\u001b[0m lst \u001b[38;5;241m=\u001b[39m [\u001b[38;5;241m1\u001b[39m, \u001b[38;5;241m2\u001b[39m, \u001b[38;5;241m3\u001b[39m]\n\u001b[0;32m----> 2\u001b[0m value \u001b[38;5;241m=\u001b[39m \u001b[43mlst\u001b[49m\u001b[43m[\u001b[49m\u001b[38;5;241;43m3\u001b[39;49m\u001b[43m]\u001b[49m\n",
      "\u001b[0;31mIndexError\u001b[0m: list index out of range"
     ]
    }
   ],
   "source": [
    "lst = [1, 2, 3]\n",
    "value = lst[3]  # Raises IndexError\n"
   ]
  },
  {
   "cell_type": "code",
   "execution_count": null,
   "id": "e5d49975-6a90-40e1-a668-1e5c5c5001f1",
   "metadata": {},
   "outputs": [],
   "source": []
  },
  {
   "cell_type": "markdown",
   "id": "e92d58e2-e4c0-470e-ae72-ff8fd01f935c",
   "metadata": {},
   "source": [
    "# 5"
   ]
  },
  {
   "cell_type": "code",
   "execution_count": 10,
   "id": "21f9ee6c-2212-4a62-a045-a9d231f3fdb5",
   "metadata": {},
   "outputs": [
    {
     "data": {
      "text/plain": [
       "' ImportError is raised when a module or a named attribute within a module cannot be imported. It occurs when there are issues with importing external modules, '"
      ]
     },
     "execution_count": 10,
     "metadata": {},
     "output_type": "execute_result"
    }
   ],
   "source": [
    "\"\"\" ImportError is raised when a module or a named attribute within a module cannot be imported. It occurs when there are issues with importing external modules, \"\"\""
   ]
  },
  {
   "cell_type": "code",
   "execution_count": 11,
   "id": "eb656e05-a27e-4e52-b7b9-0efc60f612c8",
   "metadata": {},
   "outputs": [
    {
     "data": {
      "text/plain": [
       "' ModuleNotFoundError is a subclass of ImportError and is raised specifically when the requested module cannot be found by the Python interpreter'"
      ]
     },
     "execution_count": 11,
     "metadata": {},
     "output_type": "execute_result"
    }
   ],
   "source": [
    "\"\"\" ModuleNotFoundError is a subclass of ImportError and is raised specifically when the requested module cannot be found by the Python interpreter\"\"\""
   ]
  },
  {
   "cell_type": "code",
   "execution_count": null,
   "id": "61b00aed-65f2-4314-a81c-758f4bb58c09",
   "metadata": {},
   "outputs": [],
   "source": []
  },
  {
   "cell_type": "markdown",
   "id": "b044fd38-cff2-46ca-97f5-9361b2b4f36c",
   "metadata": {},
   "source": [
    "# 6"
   ]
  },
  {
   "cell_type": "code",
   "execution_count": 12,
   "id": "41845d89-c015-4b41-8806-574eb977ae2a",
   "metadata": {},
   "outputs": [],
   "source": [
    "# Be specific in exception handling\n",
    "# Use multiple except blocks"
   ]
  },
  {
   "cell_type": "code",
   "execution_count": null,
   "id": "5bb4ba5c-e93a-4942-9a55-be788b4ba347",
   "metadata": {},
   "outputs": [],
   "source": []
  },
  {
   "cell_type": "code",
   "execution_count": null,
   "id": "c8291603-d584-4538-a5a8-12bde5d339d8",
   "metadata": {},
   "outputs": [],
   "source": []
  },
  {
   "cell_type": "code",
   "execution_count": null,
   "id": "d1af56b6-a7ef-4c00-a4e7-bb201dc77892",
   "metadata": {},
   "outputs": [],
   "source": []
  },
  {
   "cell_type": "code",
   "execution_count": null,
   "id": "6baff21a-fc98-4f9a-a8b2-fc7b568ed433",
   "metadata": {},
   "outputs": [],
   "source": []
  },
  {
   "cell_type": "code",
   "execution_count": null,
   "id": "0caf1fe0-4e0f-4856-b592-ac888e326773",
   "metadata": {},
   "outputs": [],
   "source": []
  },
  {
   "cell_type": "code",
   "execution_count": null,
   "id": "d61e0f9f-c5f8-4504-9883-28d4c131f51b",
   "metadata": {},
   "outputs": [],
   "source": []
  },
  {
   "cell_type": "code",
   "execution_count": null,
   "id": "8f90836f-61a3-4866-bf69-ad18b97087d5",
   "metadata": {},
   "outputs": [],
   "source": []
  },
  {
   "cell_type": "code",
   "execution_count": null,
   "id": "d94b8a92-9426-4853-97d8-18c2671f2afe",
   "metadata": {},
   "outputs": [],
   "source": []
  },
  {
   "cell_type": "code",
   "execution_count": null,
   "id": "ff3420ad-5000-4de5-bccb-d2a5e366abb2",
   "metadata": {},
   "outputs": [],
   "source": []
  },
  {
   "cell_type": "code",
   "execution_count": null,
   "id": "b863e36c-5296-4a86-930c-f580a7db3d79",
   "metadata": {},
   "outputs": [],
   "source": []
  },
  {
   "cell_type": "code",
   "execution_count": null,
   "id": "38c9f2d9-28cf-4c7d-ab2a-ab8108109d2a",
   "metadata": {},
   "outputs": [],
   "source": []
  },
  {
   "cell_type": "code",
   "execution_count": null,
   "id": "c21cca7c-4682-4f5c-92b8-74bc89817407",
   "metadata": {},
   "outputs": [],
   "source": []
  },
  {
   "cell_type": "code",
   "execution_count": null,
   "id": "14432eba-0500-4fd3-b310-8b58259c0607",
   "metadata": {},
   "outputs": [],
   "source": []
  },
  {
   "cell_type": "code",
   "execution_count": null,
   "id": "b4e14be7-de01-40ad-95cb-b575e27f7163",
   "metadata": {},
   "outputs": [],
   "source": []
  },
  {
   "cell_type": "code",
   "execution_count": null,
   "id": "7025a307-e555-4db7-a6cc-0d3154c518fa",
   "metadata": {},
   "outputs": [],
   "source": []
  },
  {
   "cell_type": "code",
   "execution_count": null,
   "id": "43c64c0d-e2ad-4a25-bedb-d4a7026a7ada",
   "metadata": {},
   "outputs": [],
   "source": []
  },
  {
   "cell_type": "code",
   "execution_count": null,
   "id": "9a4f90fe-af44-463f-b6cc-375dd377585b",
   "metadata": {},
   "outputs": [],
   "source": []
  },
  {
   "cell_type": "code",
   "execution_count": null,
   "id": "2583d2c2-56c6-4f14-addd-a1627c78614f",
   "metadata": {},
   "outputs": [],
   "source": []
  },
  {
   "cell_type": "code",
   "execution_count": null,
   "id": "620f9a07-cdf1-49ee-9f8f-76b1a5466f45",
   "metadata": {},
   "outputs": [],
   "source": []
  },
  {
   "cell_type": "code",
   "execution_count": null,
   "id": "25afc32b-7cb5-4d18-9363-71e29ac90885",
   "metadata": {},
   "outputs": [],
   "source": []
  },
  {
   "cell_type": "code",
   "execution_count": null,
   "id": "e788641c-566c-4a2e-8d3b-8162b3397e7d",
   "metadata": {},
   "outputs": [],
   "source": []
  },
  {
   "cell_type": "code",
   "execution_count": null,
   "id": "8c568d5d-cac0-42ed-ba4c-e59a2e8c40f1",
   "metadata": {},
   "outputs": [],
   "source": []
  },
  {
   "cell_type": "code",
   "execution_count": null,
   "id": "8d3f5bf6-e549-4785-93e3-d62bcb32cee5",
   "metadata": {},
   "outputs": [],
   "source": []
  },
  {
   "cell_type": "code",
   "execution_count": null,
   "id": "5f9fa5c0-4410-4985-93bd-85c1aa34d580",
   "metadata": {},
   "outputs": [],
   "source": []
  },
  {
   "cell_type": "code",
   "execution_count": null,
   "id": "e0bd7b70-45b7-4900-97a8-3a0ff07b70b4",
   "metadata": {},
   "outputs": [],
   "source": []
  },
  {
   "cell_type": "code",
   "execution_count": null,
   "id": "437f32eb-4556-4da8-ab5c-e2fb3d0c65aa",
   "metadata": {},
   "outputs": [],
   "source": []
  },
  {
   "cell_type": "code",
   "execution_count": null,
   "id": "c5ecde9e-461d-4e3b-97a1-ec820d1ee1e4",
   "metadata": {},
   "outputs": [],
   "source": []
  },
  {
   "cell_type": "code",
   "execution_count": null,
   "id": "31b58984-c6e1-4153-9794-30a53830bdca",
   "metadata": {},
   "outputs": [],
   "source": []
  },
  {
   "cell_type": "code",
   "execution_count": null,
   "id": "c1007313-6b0f-498b-85b0-dae08df3744b",
   "metadata": {},
   "outputs": [],
   "source": []
  },
  {
   "cell_type": "code",
   "execution_count": null,
   "id": "75e87e16-5d48-468b-9673-2f3ead4c635f",
   "metadata": {},
   "outputs": [],
   "source": []
  },
  {
   "cell_type": "code",
   "execution_count": null,
   "id": "0e18bf02-21a3-4da5-8c3f-9a545b4c38cf",
   "metadata": {},
   "outputs": [],
   "source": []
  },
  {
   "cell_type": "code",
   "execution_count": null,
   "id": "17f38a5e-0fa7-46ac-96a0-0dff81c017dc",
   "metadata": {},
   "outputs": [],
   "source": []
  },
  {
   "cell_type": "code",
   "execution_count": null,
   "id": "d28159bd-c4a0-45bc-a98d-82933e582577",
   "metadata": {},
   "outputs": [],
   "source": []
  }
 ],
 "metadata": {
  "kernelspec": {
   "display_name": "Python 3 (ipykernel)",
   "language": "python",
   "name": "python3"
  },
  "language_info": {
   "codemirror_mode": {
    "name": "ipython",
    "version": 3
   },
   "file_extension": ".py",
   "mimetype": "text/x-python",
   "name": "python",
   "nbconvert_exporter": "python",
   "pygments_lexer": "ipython3",
   "version": "3.10.6"
  }
 },
 "nbformat": 4,
 "nbformat_minor": 5
}
