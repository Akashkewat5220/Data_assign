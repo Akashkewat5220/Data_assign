{
 "cells": [
  {
   "cell_type": "code",
   "execution_count": 2,
   "id": "d85f7ccc-ca27-4ce7-9b84-c6adef64898c",
   "metadata": {},
   "outputs": [],
   "source": [
    "# Abstraction in OOPs is the process of hiding unnecessary details and exposing only essential features. "
   ]
  },
  {
   "cell_type": "code",
   "execution_count": 3,
   "id": "31a87b93-5093-463e-84a5-e4391e18f3a7",
   "metadata": {},
   "outputs": [],
   "source": [
    "# Abstraction focuses on hiding details and providing a high-level representation, while encapsulation bundles data and methods into a single unit (class). "
   ]
  },
  {
   "cell_type": "code",
   "execution_count": 4,
   "id": "072055a1-f742-4367-8c2f-a921a296c85d",
   "metadata": {},
   "outputs": [],
   "source": [
    "# The abc module in Python is used to define abstract base classes (ABCs) by inheriting from the ABC class. "
   ]
  },
  {
   "cell_type": "code",
   "execution_count": 5,
   "id": "49a36215-f3d8-40e6-af83-7e1bee61481b",
   "metadata": {},
   "outputs": [],
   "source": [
    "#  Data abstraction is achieved by using abstract classes and interfaces. Abstract classes define common structure and behavior, while derived classes provide specific implementations."
   ]
  },
  {
   "cell_type": "code",
   "execution_count": 6,
   "id": "5221438b-0091-4c43-8f4f-fe5e18a979cc",
   "metadata": {},
   "outputs": [],
   "source": [
    "# No, we cannot create an instance of an abstract class directly. Abstract classes act as blueprints for derived classes to implement the required functionality."
   ]
  },
  {
   "cell_type": "code",
   "execution_count": null,
   "id": "114493c0-c8e1-4c77-a464-94e6454d64eb",
   "metadata": {},
   "outputs": [],
   "source": []
  }
 ],
 "metadata": {
  "kernelspec": {
   "display_name": "Python 3 (ipykernel)",
   "language": "python",
   "name": "python3"
  },
  "language_info": {
   "codemirror_mode": {
    "name": "ipython",
    "version": 3
   },
   "file_extension": ".py",
   "mimetype": "text/x-python",
   "name": "python",
   "nbconvert_exporter": "python",
   "pygments_lexer": "ipython3",
   "version": "3.10.6"
  }
 },
 "nbformat": 4,
 "nbformat_minor": 5
}
