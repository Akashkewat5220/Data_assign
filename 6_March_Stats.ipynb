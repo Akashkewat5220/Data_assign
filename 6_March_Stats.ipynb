{
 "cells": [
  {
   "cell_type": "code",
   "execution_count": 1,
   "id": "09627e08-7656-4e56-a3d1-012623f7ba3a",
   "metadata": {},
   "outputs": [
    {
     "data": {
      "text/plain": [
       "' Statistics is a branch of mathematics that deals with the collection, analysis, interpretation, presentation, and organization of data. \\nIt involves methods and techniques used to gather, summarize, and draw conclusions'"
      ]
     },
     "execution_count": 1,
     "metadata": {},
     "output_type": "execute_result"
    }
   ],
   "source": [
    "\"\"\" Statistics is a branch of mathematics that deals with the collection, analysis, interpretation, presentation, and organization of data. \n",
    "It involves methods and techniques used to gather, summarize, and draw conclusions\"\"\""
   ]
  },
  {
   "cell_type": "code",
   "execution_count": null,
   "id": "f2aba3f9-83ab-4a30-bec6-3d88d6769062",
   "metadata": {},
   "outputs": [],
   "source": []
  },
  {
   "cell_type": "markdown",
   "id": "9b181a0b-f9d1-4eab-9205-603b11dfd71c",
   "metadata": {},
   "source": [
    "# 2 "
   ]
  },
  {
   "cell_type": "code",
   "execution_count": 2,
   "id": "bbeef890-d22a-4c90-b2b4-ddfdf4781b73",
   "metadata": {},
   "outputs": [
    {
     "data": {
      "text/plain": [
       "'  The types of statistics are descriptive statistics (summarizing data) and inferential statistics (drawing conclusions from data).'"
      ]
     },
     "execution_count": 2,
     "metadata": {},
     "output_type": "execute_result"
    }
   ],
   "source": [
    "\"\"\"  The types of statistics are descriptive statistics (summarizing data) and inferential statistics (drawing conclusions from data).\"\"\""
   ]
  },
  {
   "cell_type": "code",
   "execution_count": null,
   "id": "dd62642c-0533-427d-93cf-33ce47c35695",
   "metadata": {},
   "outputs": [],
   "source": []
  },
  {
   "cell_type": "markdown",
   "id": "240be2b0-2bac-43c4-858a-4f5d22a13c1d",
   "metadata": {},
   "source": [
    "# 3 "
   ]
  },
  {
   "cell_type": "code",
   "execution_count": 3,
   "id": "e72688a0-8e05-4458-8567-e14d861123eb",
   "metadata": {},
   "outputs": [
    {
     "data": {
      "text/plain": [
       "'The types of data are nominal (categories), ordinal (ordered categories), interval (equal intervals, no true zero), and ratio (equal intervals, true zero). '"
      ]
     },
     "execution_count": 3,
     "metadata": {},
     "output_type": "execute_result"
    }
   ],
   "source": [
    "\"\"\"The types of data are nominal (categories), ordinal (ordered categories), interval (equal intervals, no true zero), and ratio (equal intervals, true zero). \"\"\""
   ]
  },
  {
   "cell_type": "code",
   "execution_count": null,
   "id": "374302e4-cddd-42f2-b7b3-4e73940369c6",
   "metadata": {},
   "outputs": [],
   "source": []
  },
  {
   "cell_type": "markdown",
   "id": "3ff5dd5c-295d-46f5-b893-676d236f16dc",
   "metadata": {},
   "source": [
    "# 5"
   ]
  },
  {
   "cell_type": "code",
   "execution_count": null,
   "id": "ebe7a381-61f7-47c5-9bce-05609b1b097c",
   "metadata": {},
   "outputs": [],
   "source": [
    "\"\"\"  Levels of measurement categorize data. \n",
    "Examples: nominal (eye color), ordinal (educational attainment), interval (temperature), ratio (height).\"\"\""
   ]
  },
  {
   "cell_type": "code",
   "execution_count": null,
   "id": "3d5c4ac0-59f5-419f-ac67-7db193c5fdab",
   "metadata": {},
   "outputs": [],
   "source": []
  },
  {
   "cell_type": "markdown",
   "id": "328e6255-cedd-4664-ae7c-e3efd42c8955",
   "metadata": {},
   "source": [
    "# 6 "
   ]
  },
  {
   "cell_type": "code",
   "execution_count": null,
   "id": "e15468db-27df-4641-acbd-7179bf851c39",
   "metadata": {},
   "outputs": [],
   "source": [
    "\"\"\"Understanding level of measurement is important for correct analysis. \n",
    "Example: Treating ordinal data as numerical and calculating the mean leads to misleading results \"\"\""
   ]
  },
  {
   "cell_type": "code",
   "execution_count": null,
   "id": "8844ea65-cc59-4cb8-9743-3e70d40b5081",
   "metadata": {},
   "outputs": [],
   "source": []
  },
  {
   "cell_type": "markdown",
   "id": "3df5389e-0f6e-449c-bbc2-948e43dbde0e",
   "metadata": {},
   "source": [
    "# 7 "
   ]
  },
  {
   "cell_type": "code",
   "execution_count": null,
   "id": "2fb4de26-05db-4786-a9d6-63d4e2b3101d",
   "metadata": {},
   "outputs": [],
   "source": [
    "\"\"\" Nominal data has no order, while ordinal data has a specific order or ranking.\"\"\""
   ]
  },
  {
   "cell_type": "code",
   "execution_count": null,
   "id": "23064ed1-b9b5-4c6d-985a-a2367298edc0",
   "metadata": {},
   "outputs": [],
   "source": []
  },
  {
   "cell_type": "markdown",
   "id": "ac636394-510d-4362-ad63-ce6b299b698a",
   "metadata": {},
   "source": [
    "# 8 "
   ]
  },
  {
   "cell_type": "code",
   "execution_count": null,
   "id": "70504037-df2b-40ae-92ca-3cc0a68f3908",
   "metadata": {},
   "outputs": [],
   "source": [
    "\"\"\" A box plot displays data range\"\"\""
   ]
  },
  {
   "cell_type": "code",
   "execution_count": null,
   "id": "7da7d496-eaca-49d4-87e4-d615f7d84ca4",
   "metadata": {},
   "outputs": [],
   "source": []
  },
  {
   "cell_type": "markdown",
   "id": "acdfa545-6616-42ed-ad53-001b6f057750",
   "metadata": {},
   "source": [
    "# 9"
   ]
  },
  {
   "cell_type": "code",
   "execution_count": null,
   "id": "e339074f-c9fc-4508-a967-d81c54058bbe",
   "metadata": {},
   "outputs": [],
   "source": [
    "\"\"\" Descriptive statistics summarizes data, e.g., calculating mean. \n",
    "Inferential statistics makes predictions or tests hypotheses, e.g., hypothesis testing for drug effectiveness.\"\"\""
   ]
  },
  {
   "cell_type": "code",
   "execution_count": null,
   "id": "11352e8c-c58a-4741-ae29-d642ad48801c",
   "metadata": {},
   "outputs": [],
   "source": []
  },
  {
   "cell_type": "markdown",
   "id": "4c060cb5-82ee-47e1-af56-cbd669d76618",
   "metadata": {},
   "source": [
    "# 10"
   ]
  },
  {
   "cell_type": "code",
   "execution_count": 4,
   "id": "bc5d9e92-61fb-4691-8a30-cbf572184970",
   "metadata": {},
   "outputs": [
    {
     "data": {
      "text/plain": [
       "'Mean: Average value, provides overall measure of \"typical\" value.\\nMedian: Middle value, less affected by extreme values, useful for skewed distributions.\\nMode: Most frequent value(s), useful for categorical or discrete data.\\nCommon measures of variability:\\n\\nRange: Difference between maximum and minimum values, provides spread of dataset.\\nVariance: Average squared deviation from mean, quantifies dispersion.\\nStandard Deviation: Square root of variance, measures average distance from mean.'"
      ]
     },
     "execution_count": 4,
     "metadata": {},
     "output_type": "execute_result"
    }
   ],
   "source": [
    "\"\"\"Mean: Average value, provides overall measure of \"typical\" value.\n",
    "Median: Middle value, less affected by extreme values, useful for skewed distributions.\n",
    "Mode: Most frequent value(s), useful for categorical or discrete data.\n",
    "Common measures of variability:\n",
    "\n",
    "Range: Difference between maximum and minimum values, provides spread of dataset.\n",
    "Variance: Average squared deviation from mean, quantifies dispersion.\n",
    "Standard Deviation: Square root of variance, measures average distance from mean.\"\"\""
   ]
  },
  {
   "cell_type": "code",
   "execution_count": null,
   "id": "28d21e50-edd2-4fca-9fe2-b5699a748fb3",
   "metadata": {},
   "outputs": [],
   "source": []
  },
  {
   "cell_type": "code",
   "execution_count": null,
   "id": "6a9684cb-54fa-46f6-8b41-9dfe21197195",
   "metadata": {},
   "outputs": [],
   "source": []
  },
  {
   "cell_type": "code",
   "execution_count": null,
   "id": "795fcd82-00c7-4960-a606-afcc37c759c2",
   "metadata": {},
   "outputs": [],
   "source": []
  },
  {
   "cell_type": "code",
   "execution_count": null,
   "id": "290e1b57-6f43-4928-818a-e810770f44d9",
   "metadata": {},
   "outputs": [],
   "source": []
  },
  {
   "cell_type": "code",
   "execution_count": null,
   "id": "5f5e17c3-9607-4c23-97f5-4e82cf157edc",
   "metadata": {},
   "outputs": [],
   "source": []
  },
  {
   "cell_type": "code",
   "execution_count": null,
   "id": "72296480-faf0-41b5-b726-ddf3bd40413a",
   "metadata": {},
   "outputs": [],
   "source": []
  },
  {
   "cell_type": "code",
   "execution_count": null,
   "id": "b2cf5867-ee72-449f-aaca-cd9e8c46e2d6",
   "metadata": {},
   "outputs": [],
   "source": []
  },
  {
   "cell_type": "code",
   "execution_count": null,
   "id": "aaec58b9-63e6-4fed-862b-fda88b8dd673",
   "metadata": {},
   "outputs": [],
   "source": []
  },
  {
   "cell_type": "code",
   "execution_count": null,
   "id": "e919329e-a6d5-4465-81e8-682dd93bf4b4",
   "metadata": {},
   "outputs": [],
   "source": []
  },
  {
   "cell_type": "code",
   "execution_count": null,
   "id": "b72eeaf8-1b6e-426a-bc2c-63c385a8b966",
   "metadata": {},
   "outputs": [],
   "source": []
  },
  {
   "cell_type": "code",
   "execution_count": null,
   "id": "239a89fb-1b87-482a-9dbf-075108384e21",
   "metadata": {},
   "outputs": [],
   "source": []
  },
  {
   "cell_type": "code",
   "execution_count": null,
   "id": "6257dd7f-34ff-4c0a-9b25-04089312d51d",
   "metadata": {},
   "outputs": [],
   "source": []
  },
  {
   "cell_type": "code",
   "execution_count": null,
   "id": "5c6002f4-fb3e-4b0b-ae9f-791bf2b2bce4",
   "metadata": {},
   "outputs": [],
   "source": []
  },
  {
   "cell_type": "code",
   "execution_count": null,
   "id": "cf5d341b-6662-4d97-a20c-ef23de1c9c6e",
   "metadata": {},
   "outputs": [],
   "source": []
  },
  {
   "cell_type": "code",
   "execution_count": null,
   "id": "c156fc76-732a-46f5-a347-37b6bbb52e42",
   "metadata": {},
   "outputs": [],
   "source": []
  },
  {
   "cell_type": "code",
   "execution_count": null,
   "id": "d0ee5981-4b4f-45a4-b2a9-234a8f61f634",
   "metadata": {},
   "outputs": [],
   "source": []
  },
  {
   "cell_type": "code",
   "execution_count": null,
   "id": "7dedebbf-bf83-403b-9592-b4391feecdbc",
   "metadata": {},
   "outputs": [],
   "source": []
  },
  {
   "cell_type": "code",
   "execution_count": null,
   "id": "c63b1d16-08a3-4a37-ba94-0d1bd6f064ed",
   "metadata": {},
   "outputs": [],
   "source": []
  },
  {
   "cell_type": "code",
   "execution_count": null,
   "id": "944093e8-d70f-418b-a35a-954297dd69e7",
   "metadata": {},
   "outputs": [],
   "source": []
  },
  {
   "cell_type": "code",
   "execution_count": null,
   "id": "4c744588-8cb0-475b-b955-3460de6741e2",
   "metadata": {},
   "outputs": [],
   "source": []
  },
  {
   "cell_type": "code",
   "execution_count": null,
   "id": "46717273-84fa-4bd2-8b4a-522502958508",
   "metadata": {},
   "outputs": [],
   "source": []
  },
  {
   "cell_type": "code",
   "execution_count": null,
   "id": "0be3ea22-1988-4d62-8f3d-673462cb1e59",
   "metadata": {},
   "outputs": [],
   "source": []
  },
  {
   "cell_type": "code",
   "execution_count": null,
   "id": "afdbf0fd-a46f-46f4-80f4-636d72fdee82",
   "metadata": {},
   "outputs": [],
   "source": []
  },
  {
   "cell_type": "code",
   "execution_count": null,
   "id": "81403b79-3a61-4dde-8687-263d1ce0a9a7",
   "metadata": {},
   "outputs": [],
   "source": []
  },
  {
   "cell_type": "code",
   "execution_count": null,
   "id": "952531ba-5c02-4cee-aa51-a77b91c30b9c",
   "metadata": {},
   "outputs": [],
   "source": []
  },
  {
   "cell_type": "code",
   "execution_count": null,
   "id": "ff80ebde-e40a-473d-aaa3-c5c758f37022",
   "metadata": {},
   "outputs": [],
   "source": []
  },
  {
   "cell_type": "code",
   "execution_count": null,
   "id": "4941054d-f23b-4cda-ac40-5eb1cdf91e19",
   "metadata": {},
   "outputs": [],
   "source": []
  },
  {
   "cell_type": "code",
   "execution_count": null,
   "id": "b95e25cf-a20f-4f8a-a75c-6aead42b7091",
   "metadata": {},
   "outputs": [],
   "source": []
  },
  {
   "cell_type": "code",
   "execution_count": null,
   "id": "06dd9776-b834-40d0-b8cd-d210c14250c1",
   "metadata": {},
   "outputs": [],
   "source": []
  }
 ],
 "metadata": {
  "kernelspec": {
   "display_name": "Python 3 (ipykernel)",
   "language": "python",
   "name": "python3"
  },
  "language_info": {
   "codemirror_mode": {
    "name": "ipython",
    "version": 3
   },
   "file_extension": ".py",
   "mimetype": "text/x-python",
   "name": "python",
   "nbconvert_exporter": "python",
   "pygments_lexer": "ipython3",
   "version": "3.10.6"
  }
 },
 "nbformat": 4,
 "nbformat_minor": 5
}
