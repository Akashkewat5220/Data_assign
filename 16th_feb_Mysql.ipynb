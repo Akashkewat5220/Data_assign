{
 "cells": [
  {
   "cell_type": "markdown",
   "id": "23989716-690a-4fc2-809c-b402b10b19b0",
   "metadata": {},
   "source": [
    "Ans 1"
   ]
  },
  {
   "cell_type": "markdown",
   "id": "32fdec06-914a-4180-afbf-42164307a2df",
   "metadata": {},
   "source": [
    "A database is an organized collection of structured data that is stored and managed in a computer system. It provides a way to store, retrieve, update, and manage data efficiently. Databases are widely used in various applications and systems to handle large amounts of information.\n",
    "\n",
    "SQL (Structured Query Language) and NoSQL (Not only SQL) are two different types of database management systems.\n",
    "\n",
    "SQL databases are based on the relational model and use structured query language (SQL) for defining and manipulating the data. They have predefined schemas and use tables to store data in rows and columns. SQL databases are typically good for complex queries and transactions, and they ensure data consistency and integrity. Examples of SQL databases are MySQL, Oracle, PostgreSQL, and SQL Server.\n",
    "\n",
    "NoSQL databases, on the other hand, are non-relational databases that provide a flexible schema for storing and retrieving data. They are designed to handle large amounts of unstructured and semi-structured data. NoSQL databases are horizontally scalable, meaning they can handle a high volume of traffic and data. They are commonly used in applications where data is rapidly changing or unstructured. Examples of NoSQL databases include MongoDB, Cassandra, Redis, and CouchDB.\n",
    "\n",
    "The choice between SQL and NoSQL databases depends on the specific requirements of the application, scalability needs, data structure, and the nature of data being stored."
   ]
  },
  {
   "cell_type": "code",
   "execution_count": null,
   "id": "eb4d0101-51d4-4b5e-8d8b-55ce28934ee1",
   "metadata": {},
   "outputs": [],
   "source": []
  },
  {
   "cell_type": "markdown",
   "id": "c9529698-9145-4fb1-82fb-6dea29a81b0a",
   "metadata": {},
   "source": [
    "Q2. What is DDL? Explain why CREATE, DROP, ALTER, and TRUNCATE are used with an example.\n",
    "\n",
    "DDL (Data Definition Language) is a subset of SQL used for defining and managing the structure of a database. DDL statements are used to create, modify, and delete database objects such as tables, indexes, views, and schemas.\n",
    "\n"
   ]
  },
  {
   "cell_type": "markdown",
   "id": "176c7e40-af2f-4f33-9490-b129ae24d5a1",
   "metadata": {},
   "source": [
    "Examples"
   ]
  },
  {
   "cell_type": "markdown",
   "id": "b6facc47-7af5-455f-8a7e-82f33fa0e9f7",
   "metadata": {},
   "source": [
    "CREATE TABLE Employees (\n",
    "    id INT PRIMARY KEY,\n",
    "    name VARCHAR(50),\n",
    "    salary DECIMAL(10, 2)\n",
    ");\n"
   ]
  },
  {
   "cell_type": "raw",
   "id": "0123c2d3-dbf9-412d-9177-da30b72928de",
   "metadata": {},
   "source": [
    "DROP TABLE Employees;\n"
   ]
  },
  {
   "cell_type": "raw",
   "id": "3984c774-60c8-4eb6-b025-3d3de51b1496",
   "metadata": {},
   "source": [
    "ALTER TABLE Employees\n",
    "ADD COLUMN age INT;\n"
   ]
  },
  {
   "cell_type": "raw",
   "id": "4ac7510d-636c-44ab-8f6e-51abd6cdbf55",
   "metadata": {},
   "source": [
    "TRUNCATE TABLE Employees;\n"
   ]
  },
  {
   "cell_type": "code",
   "execution_count": null,
   "id": "75a40229-74f4-4579-8330-9fdeea062706",
   "metadata": {},
   "outputs": [],
   "source": []
  },
  {
   "cell_type": "markdown",
   "id": "5dca9ac6-b434-492e-9b3b-9615be7e2bf5",
   "metadata": {},
   "source": [
    "Q3"
   ]
  },
  {
   "cell_type": "raw",
   "id": "846f2204-799e-4837-8c19-a723d5742a83",
   "metadata": {},
   "source": [
    "DML (Data Manipulation Language) is a subset of SQL used for managing the data within a database. DML statements are used to insert, update, and delete records in database tables."
   ]
  },
  {
   "cell_type": "raw",
   "id": "5251a40c-11a9-4c1d-aba1-a3cb11b54294",
   "metadata": {},
   "source": [
    "INSERT INTO Employees (id, name, salary)\n",
    "VALUES (1, 'John Doe', 5000);\n"
   ]
  },
  {
   "cell_type": "raw",
   "id": "e7ab15a9-8968-4c75-8c08-45441b4d06c6",
   "metadata": {},
   "source": [
    "DELETE FROM Employees\n",
    "WHERE id = 1;\n"
   ]
  },
  {
   "cell_type": "raw",
   "id": "47b46aeb-3e2f-49bb-8d0d-0ed6eaca48e4",
   "metadata": {},
   "source": [
    "UPDATE Employees\n",
    "SET salary = 6000\n",
    "WHERE id = 1;\n"
   ]
  },
  {
   "cell_type": "code",
   "execution_count": null,
   "id": "cc0e11cb-e929-4844-9f8e-45a1c0c32e62",
   "metadata": {},
   "outputs": [],
   "source": []
  },
  {
   "cell_type": "markdown",
   "id": "98d035e7-8688-4953-bf1b-83a8c83ac61d",
   "metadata": {},
   "source": [
    "Q4. What is DQL? Explain SELECT with an example."
   ]
  },
  {
   "cell_type": "raw",
   "id": "38b10d8d-41e0-4a9a-b561-a01a83353e82",
   "metadata": {},
   "source": [
    "DQL (Data Query Language) is a subset of SQL used for querying and retrieving data from a database. The most commonly used DQL statement is SELECT, which allows you to retrieve data based on specified criteria.\n",
    "\n",
    "The SELECT statement retrieves data from one or more tables and returns a result set. It allows you to specify columns, filter rows based on conditions, sort the result, and perform other operations."
   ]
  },
  {
   "cell_type": "raw",
   "id": "b0bf1e4d-8584-464f-bd1c-045dbc272f72",
   "metadata": {},
   "source": [
    "For example, to select all employees from the \"Employees\" table who have a salary greater than 5000, you can use the following SQL statement:\n",
    "\n",
    "\n",
    "SELECT * FROM Employees WHERE salary > 5000;"
   ]
  },
  {
   "cell_type": "code",
   "execution_count": null,
   "id": "d5777dd1-41e9-49cc-8398-18f0ab2b541e",
   "metadata": {},
   "outputs": [],
   "source": []
  },
  {
   "cell_type": "raw",
   "id": "a11d87b9-98a3-41b6-ac71-5c3ed17dc6ad",
   "metadata": {},
   "source": [
    "Q5. Explain Primary Key and Foreign Key.\n",
    "\n",
    "Primary Key: A primary key is a column or a set of columns in a table that uniquely identifies each row in that table. It provides a way to ensure data integrity and enforce entity integrity constraints. Each primary key value must be unique and not null. Typically, a primary key is chosen from one or more columns that have unique values and can uniquely identify a record. For example, in an \"Employees\" table, the \"id\" column can be designated as the primary key if it satisfies the uniqueness and not null requirements.\n",
    "\n",
    "Foreign Key: A foreign key is a column or a set of columns in a table that refers to the primary key of another table. It establishes a relationship between two tables, known as a parent-child relationship. The foreign key constraint ensures referential integrity, meaning that the values in the foreign key column(s) must match the values in the primary key column(s) of the referenced table. This constraint helps maintain data consistency and allows the enforcement of relational integrity rules. For example, in an \"Orders\" table, there might be a foreign key column called \"customer_id\" that references the primary key \"id\" column in the \"Customers\" table, indicating which customer placed the order"
   ]
  },
  {
   "cell_type": "code",
   "execution_count": null,
   "id": "720b128d-eb5f-4a2c-9239-de0e1d48d15f",
   "metadata": {},
   "outputs": [],
   "source": []
  },
  {
   "cell_type": "raw",
   "id": "a45badfb-febe-4832-83c9-15041deba725",
   "metadata": {},
   "source": [
    "Q6. Write a python code to connect MySQL to python. Explain the cursor() and execute() method.\n",
    "\n",
    "To connect MySQL to Python, you can use the mysql-connector-python library. First, make sure you have the library installed by running pip install mysql-connector-python in your Python environment. Here's an example code snippet that demonstrates the connection and basic usage:"
   ]
  },
  {
   "cell_type": "raw",
   "id": "e9c7caf3-f00b-4ba2-96c3-641fcce10a88",
   "metadata": {},
   "source": [
    "import mysql.connector\n",
    "\n",
    "# Establishing a connection to the MySQL server\n",
    "cnx = mysql.connector.connect(\n",
    "    host=\"localhost\",\n",
    "    user=\"your_username\",\n",
    "    password=\"your_password\",\n",
    "    database=\"your_database\"\n",
    ")\n",
    "\n",
    "# Creating a cursor object to interact with the database\n",
    "cursor = cnx.cursor()\n",
    "\n",
    "# Executing an SQL query using the execute() method\n",
    "query = \"SELECT * FROM Employees\"\n",
    "cursor.execute(query)\n",
    "\n",
    "# Fetching the result set using the fetchall() method\n",
    "result = cursor.fetchall()\n",
    "\n",
    "# Printing the result\n",
    "for row in result:\n",
    "    print(row)\n",
    "\n",
    "# Closing the cursor and connection\n",
    "cursor.close()\n",
    "cnx.close()\n"
   ]
  },
  {
   "cell_type": "code",
   "execution_count": null,
   "id": "06b38b22-75b0-4e0a-b423-899f34062236",
   "metadata": {},
   "outputs": [],
   "source": []
  },
  {
   "cell_type": "code",
   "execution_count": null,
   "id": "55e8d17b-d334-450d-804f-3fe70d64c570",
   "metadata": {},
   "outputs": [],
   "source": []
  },
  {
   "cell_type": "code",
   "execution_count": null,
   "id": "950616c4-34f1-4480-83ea-0ba6172ff489",
   "metadata": {},
   "outputs": [],
   "source": []
  },
  {
   "cell_type": "code",
   "execution_count": null,
   "id": "c8d996c5-f683-4f56-9cd8-7ade48e25be8",
   "metadata": {},
   "outputs": [],
   "source": []
  },
  {
   "cell_type": "code",
   "execution_count": null,
   "id": "e1bef73a-d21d-4ca7-8827-3aed5e9700c7",
   "metadata": {},
   "outputs": [],
   "source": []
  }
 ],
 "metadata": {
  "kernelspec": {
   "display_name": "Python 3 (ipykernel)",
   "language": "python",
   "name": "python3"
  },
  "language_info": {
   "codemirror_mode": {
    "name": "ipython",
    "version": 3
   },
   "file_extension": ".py",
   "mimetype": "text/x-python",
   "name": "python",
   "nbconvert_exporter": "python",
   "pygments_lexer": "ipython3",
   "version": "3.10.6"
  }
 },
 "nbformat": 4,
 "nbformat_minor": 5
}
